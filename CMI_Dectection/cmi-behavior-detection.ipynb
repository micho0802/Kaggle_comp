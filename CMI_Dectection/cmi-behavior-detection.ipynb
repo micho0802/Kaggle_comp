{
 "cells": [
  {
   "cell_type": "code",
   "execution_count": 1,
   "metadata": {
    "_cell_guid": "b1076dfc-b9ad-4769-8c92-a6c4dae69d19",
    "_uuid": "8f2839f25d086af736a60e9eeb907d3b93b6e0e5",
    "execution": {
     "iopub.execute_input": "2025-07-07T16:49:11.356210Z",
     "iopub.status.busy": "2025-07-07T16:49:11.355863Z",
     "iopub.status.idle": "2025-07-07T16:49:11.693426Z",
     "shell.execute_reply": "2025-07-07T16:49:11.692567Z",
     "shell.execute_reply.started": "2025-07-07T16:49:11.356184Z"
    },
    "trusted": true
   },
   "outputs": [],
   "source": [
    "# This Python 3 environment comes with many helpful analytics libraries installed\n",
    "# It is defined by the kaggle/python Docker image: https://github.com/kaggle/docker-python\n",
    "# For example, here's several helpful packages to load\n",
    "\n",
    "import numpy as np # linear algebra\n",
    "import pandas as pd # data processing, CSV file I/O (e.g. pd.read_csv)\n",
    "\n",
    "# Input data files are available in the read-only \"../input/\" directory\n",
    "# For example, running this (by clicking run or pressing Shift+Enter) will list all files under the input directory\n",
    "\n",
    "import os\n",
    "for dirname, _, filenames in os.walk('/kaggle/input'):\n",
    "    for filename in filenames:\n",
    "        # print(os.path.join(dirname, filename))\n",
    "        pass\n",
    "\n",
    "# You can write up to 20GB to the current directory (/kaggle/working/) that gets preserved as output when you create a version using \"Save & Run All\" \n",
    "# You can also write temporary files to /kaggle/temp/, but they won't be saved outside of the current session"
   ]
  },
  {
   "cell_type": "code",
   "execution_count": 2,
   "metadata": {
    "execution": {
     "iopub.execute_input": "2025-07-07T16:49:14.180941Z",
     "iopub.status.busy": "2025-07-07T16:49:14.180501Z",
     "iopub.status.idle": "2025-07-07T16:49:48.449515Z",
     "shell.execute_reply": "2025-07-07T16:49:48.448692Z",
     "shell.execute_reply.started": "2025-07-07T16:49:14.180915Z"
    },
    "trusted": true
   },
   "outputs": [
    {
     "name": "stdout",
     "output_type": "stream",
     "text": [
      "<class 'pandas.core.frame.DataFrame'>\n",
      "RangeIndex: 574945 entries, 0 to 574944\n",
      "Columns: 341 entries, row_id to tof_5_v63\n",
      "dtypes: float64(332), int64(1), object(8)\n",
      "memory usage: 1.5+ GB\n",
      "None\n"
     ]
    }
   ],
   "source": [
    "train = pd.read_csv(\"/home/mich02/Desktop/Kaggle/Kaggle_comp/CMI_Dectection/data/train.csv\")\n",
    "print(train.info())"
   ]
  },
  {
   "cell_type": "code",
   "execution_count": 3,
   "metadata": {
    "execution": {
     "iopub.execute_input": "2025-07-07T16:51:16.874257Z",
     "iopub.status.busy": "2025-07-07T16:51:16.873349Z",
     "iopub.status.idle": "2025-07-07T16:51:16.900902Z",
     "shell.execute_reply": "2025-07-07T16:51:16.900074Z",
     "shell.execute_reply.started": "2025-07-07T16:51:16.874220Z"
    },
    "trusted": true
   },
   "outputs": [
    {
     "name": "stdout",
     "output_type": "stream",
     "text": [
      "<class 'pandas.core.frame.DataFrame'>\n",
      "RangeIndex: 81 entries, 0 to 80\n",
      "Data columns (total 8 columns):\n",
      " #   Column                Non-Null Count  Dtype  \n",
      "---  ------                --------------  -----  \n",
      " 0   subject               81 non-null     object \n",
      " 1   adult_child           81 non-null     int64  \n",
      " 2   age                   81 non-null     int64  \n",
      " 3   sex                   81 non-null     int64  \n",
      " 4   handedness            81 non-null     int64  \n",
      " 5   height_cm             81 non-null     float64\n",
      " 6   shoulder_to_wrist_cm  81 non-null     int64  \n",
      " 7   elbow_to_wrist_cm     81 non-null     float64\n",
      "dtypes: float64(2), int64(5), object(1)\n",
      "memory usage: 5.2+ KB\n",
      "None\n"
     ]
    }
   ],
   "source": [
    "train_demo = pd.read_csv(\"/home/mich02/Desktop/Kaggle/Kaggle_comp/CMI_Dectection/data/train_demographics.csv\")\n",
    "print(train_demo.info())"
   ]
  },
  {
   "cell_type": "code",
   "execution_count": 4,
   "metadata": {
    "execution": {
     "iopub.execute_input": "2025-07-07T16:51:18.487762Z",
     "iopub.status.busy": "2025-07-07T16:51:18.487450Z",
     "iopub.status.idle": "2025-07-07T16:51:18.537311Z",
     "shell.execute_reply": "2025-07-07T16:51:18.536446Z",
     "shell.execute_reply.started": "2025-07-07T16:51:18.487737Z"
    },
    "trusted": true
   },
   "outputs": [
    {
     "name": "stdout",
     "output_type": "stream",
     "text": [
      "<class 'pandas.core.frame.DataFrame'>\n",
      "RangeIndex: 107 entries, 0 to 106\n",
      "Columns: 336 entries, row_id to tof_5_v63\n",
      "dtypes: float64(332), int64(1), object(3)\n",
      "memory usage: 281.0+ KB\n",
      "None\n"
     ]
    }
   ],
   "source": [
    "test = pd.read_csv(\"/home/mich02/Desktop/Kaggle/Kaggle_comp/CMI_Dectection/data/test.csv\")\n",
    "print(test.info())"
   ]
  },
  {
   "cell_type": "code",
   "execution_count": 5,
   "metadata": {
    "execution": {
     "iopub.execute_input": "2025-07-07T16:51:19.774414Z",
     "iopub.status.busy": "2025-07-07T16:51:19.773841Z",
     "iopub.status.idle": "2025-07-07T16:51:19.803679Z",
     "shell.execute_reply": "2025-07-07T16:51:19.802947Z",
     "shell.execute_reply.started": "2025-07-07T16:51:19.774387Z"
    },
    "trusted": true
   },
   "outputs": [
    {
     "name": "stdout",
     "output_type": "stream",
     "text": [
      "<class 'pandas.core.frame.DataFrame'>\n",
      "RangeIndex: 2 entries, 0 to 1\n",
      "Data columns (total 8 columns):\n",
      " #   Column                Non-Null Count  Dtype  \n",
      "---  ------                --------------  -----  \n",
      " 0   subject               2 non-null      object \n",
      " 1   adult_child           2 non-null      int64  \n",
      " 2   age                   2 non-null      int64  \n",
      " 3   sex                   2 non-null      int64  \n",
      " 4   handedness            2 non-null      int64  \n",
      " 5   height_cm             2 non-null      float64\n",
      " 6   shoulder_to_wrist_cm  2 non-null      int64  \n",
      " 7   elbow_to_wrist_cm     2 non-null      float64\n",
      "dtypes: float64(2), int64(5), object(1)\n",
      "memory usage: 260.0+ bytes\n",
      "None\n"
     ]
    }
   ],
   "source": [
    "test_demo = pd.read_csv(\"/home/mich02/Desktop/Kaggle/Kaggle_comp/CMI_Dectection/data/test_demographics.csv\")\n",
    "print(test_demo.info())"
   ]
  },
  {
   "cell_type": "code",
   "execution_count": 65,
   "metadata": {},
   "outputs": [],
   "source": [
    "import os, json, joblib, numpy as np, pandas as pd\n",
    "from scipy.spatial.transform import Rotation \n",
    "from sklearn.preprocessing import StandardScaler, LabelEncoder\n",
    "from sklearn.model_selection import train_test_split\n",
    "from sklearn.utils.class_weight import compute_class_weight\n",
    "from sklearn.preprocessing import StandardScaler\n",
    "from pathlib import Path\n",
    "import warnings \n",
    "import torch\n",
    "from torch.nn.utils.rnn import pad_sequence\n",
    "from tqdm import trange\n",
    "from torch.utils.data import Dataset, DataLoader\n",
    "warnings.filterwarnings(\"ignore\")"
   ]
  },
  {
   "cell_type": "code",
   "execution_count": 7,
   "metadata": {
    "execution": {
     "iopub.execute_input": "2025-07-07T16:51:21.087478Z",
     "iopub.status.busy": "2025-07-07T16:51:21.086809Z",
     "iopub.status.idle": "2025-07-07T16:51:22.306723Z",
     "shell.execute_reply": "2025-07-07T16:51:22.305807Z",
     "shell.execute_reply.started": "2025-07-07T16:51:21.087451Z"
    },
    "trusted": true
   },
   "outputs": [],
   "source": [
    "def remove_gravity_from_acc(acc_data, rot_data):\n",
    "\n",
    "    if isinstance(acc_data, pd.DataFrame):\n",
    "        acc_values = acc_data[['acc_x', 'acc_y', 'acc_z']].values\n",
    "    else:\n",
    "        acc_values = acc_data\n",
    "\n",
    "    if isinstance(rot_data, pd.DataFrame):\n",
    "        quat_values = rot_data[['rot_x', 'rot_y', 'rot_z', 'rot_w']].values\n",
    "    else:\n",
    "        quat_values = rot_data\n",
    "\n",
    "    num_samples = acc_values.shape[0]\n",
    "    linear_accel = np.zeros_like(acc_values)\n",
    "    \n",
    "    gravity_world = np.array([0, 0, 9.81])\n",
    "\n",
    "    for i in range(num_samples):\n",
    "        if np.all(np.isnan(quat_values[i])) or np.all(np.isclose(quat_values[i], 0)):\n",
    "            linear_accel[i, :] = acc_values[i, :] \n",
    "            continue\n",
    "\n",
    "        try:\n",
    "            rotation = Rotation.from_quat(quat_values[i])\n",
    "            gravity_sensor_frame = rotation.apply(gravity_world, inverse=True)\n",
    "            linear_accel[i, :] = acc_values[i, :] - gravity_sensor_frame\n",
    "        except ValueError:\n",
    "             linear_accel[i, :] = acc_values[i, :]\n",
    "             \n",
    "    return linear_accel"
   ]
  },
  {
   "cell_type": "code",
   "execution_count": 8,
   "metadata": {
    "execution": {
     "iopub.execute_input": "2025-07-07T16:51:35.399745Z",
     "iopub.status.busy": "2025-07-07T16:51:35.399276Z",
     "iopub.status.idle": "2025-07-07T16:51:35.618376Z",
     "shell.execute_reply": "2025-07-07T16:51:35.617567Z",
     "shell.execute_reply.started": "2025-07-07T16:51:35.399718Z"
    },
    "trusted": true
   },
   "outputs": [],
   "source": [
    "le_gesture = LabelEncoder()\n",
    "train['gesture_int'] = le_gesture.fit_transform(train['gesture']).astype(np.int32)\n",
    "gesture_classes = le_gesture.classes_\n",
    "\n",
    "le_seq = LabelEncoder()\n",
    "train['sequence_id_encode'] = le_seq.fit_transform(train['sequence_id']).astype(np.int32)\n",
    "sequence_id_classes = le_seq.classes_\n"
   ]
  },
  {
   "cell_type": "code",
   "execution_count": 9,
   "metadata": {
    "execution": {
     "iopub.execute_input": "2025-07-07T16:51:39.007209Z",
     "iopub.status.busy": "2025-07-07T16:51:39.006583Z",
     "iopub.status.idle": "2025-07-07T16:52:33.967346Z",
     "shell.execute_reply": "2025-07-07T16:52:33.966249Z",
     "shell.execute_reply.started": "2025-07-07T16:51:39.007181Z"
    },
    "trusted": true
   },
   "outputs": [
    {
     "name": "stdout",
     "output_type": "stream",
     "text": [
      "  Calculating base engineered IMU features (magnitude, angle)...\n",
      "  Calculating engineered IMU derivatives (jerk, angular velocity) for original acc_mag...\n",
      "  Removing gravity and calculating linear acceleration features...\n"
     ]
    }
   ],
   "source": [
    "print(\"  Calculating base engineered IMU features (magnitude, angle)...\")\n",
    "train['acc_mag'] = np.sqrt(train['acc_x']**2 + train['acc_y']**2 + train['acc_z']**2)\n",
    "train['rot_angle'] = 2 * np.arccos(train['rot_w'].clip(-1, 1))\n",
    "\n",
    "print(\"  Calculating engineered IMU derivatives (jerk, angular velocity) for original acc_mag...\")\n",
    "train['acc_mag_jerk'] = train.groupby('sequence_id')['acc_mag'].diff().fillna(0)\n",
    "train['rot_angle_vel'] = train.groupby('sequence_id')['rot_angle'].diff().fillna(0)\n",
    "\n",
    "print(\"  Removing gravity and calculating linear acceleration features...\")\n",
    "\n",
    "linear_accel_list = []\n",
    "for _, group in train.groupby('sequence_id'):\n",
    "    acc_data_group = group[['acc_x', 'acc_y', 'acc_z']]\n",
    "    rot_data_group = group[['rot_x', 'rot_y', 'rot_z', 'rot_w']]\n",
    "    linear_accel_group = remove_gravity_from_acc(acc_data_group, rot_data_group)\n",
    "    linear_accel_list.append(pd.DataFrame(linear_accel_group, columns=['linear_acc_x', 'linear_acc_y', 'linear_acc_z'], index=group.index))\n",
    "\n",
    "train_linear_accel = pd.concat(linear_accel_list)\n",
    "train = pd.concat([train, train_linear_accel], axis=1)\n",
    "\n",
    "train['linear_acc_mag'] = np.sqrt(train['linear_acc_x']**2 + train['linear_acc_y']**2 + train['linear_acc_z']**2)\n",
    "train['linear_acc_mag_jerk'] = train.groupby('sequence_id')['linear_acc_mag'].diff().fillna(0)\n",
    "\n",
    "meta_cols = { ... }\n",
    "\n",
    "imu_cols_base = ['linear_acc_x', 'linear_acc_y', 'linear_acc_z']\n",
    "imu_cols_base.extend([c for c in train.columns if c.startswith('rot_') and c not in ['rot_angle', 'rot_angle_vel']])\n",
    "\n",
    "imu_engineered_features = [\n",
    "    'acc_mag', 'rot_angle',\n",
    "    'acc_mag_jerk', 'rot_angle_vel',\n",
    "    'linear_acc_mag', 'linear_acc_mag_jerk'\n",
    "]\n",
    "imu_cols = imu_cols_base + imu_engineered_features\n",
    "imu_cols = list(dict.fromkeys(imu_cols))"
   ]
  },
  {
   "cell_type": "code",
   "execution_count": 99,
   "metadata": {},
   "outputs": [
    {
     "name": "stdout",
     "output_type": "stream",
     "text": [
      "<class 'pandas.core.frame.DataFrame'>\n",
      "RangeIndex: 574945 entries, 0 to 574944\n",
      "Data columns (total 15 columns):\n",
      " #   Column               Non-Null Count   Dtype  \n",
      "---  ------               --------------   -----  \n",
      " 0   linear_acc_x         574945 non-null  float64\n",
      " 1   linear_acc_y         574945 non-null  float64\n",
      " 2   linear_acc_z         574945 non-null  float64\n",
      " 3   rot_w                571253 non-null  float64\n",
      " 4   rot_x                571253 non-null  float64\n",
      " 5   rot_y                571253 non-null  float64\n",
      " 6   rot_z                571253 non-null  float64\n",
      " 7   acc_mag              574945 non-null  float64\n",
      " 8   rot_angle            571253 non-null  float64\n",
      " 9   acc_mag_jerk         574945 non-null  float64\n",
      " 10  rot_angle_vel        574945 non-null  float64\n",
      " 11  linear_acc_mag       574945 non-null  float64\n",
      " 12  linear_acc_mag_jerk  574945 non-null  float64\n",
      " 13  gesture_int          574945 non-null  int32  \n",
      " 14  sequence_id_encode   574945 non-null  int32  \n",
      "dtypes: float64(13), int32(2)\n",
      "memory usage: 61.4 MB\n"
     ]
    }
   ],
   "source": [
    "input_feature_cols = [col for col in imu_cols if col not in [\"gesture_int\", \"sequence_id_encode\"]]\n",
    "train_imu = train[input_feature_cols + [\"gesture_int\", \"sequence_id_encode\"]]\n",
    "train_imu.info()"
   ]
  },
  {
   "cell_type": "code",
   "execution_count": null,
   "metadata": {
    "execution": {
     "iopub.execute_input": "2025-07-07T16:55:17.946177Z",
     "iopub.status.busy": "2025-07-07T16:55:17.945813Z",
     "iopub.status.idle": "2025-07-07T16:55:18.007482Z",
     "shell.execute_reply": "2025-07-07T16:55:18.006589Z",
     "shell.execute_reply.started": "2025-07-07T16:55:17.946151Z"
    },
    "trusted": true
   },
   "outputs": [
    {
     "name": "stdout",
     "output_type": "stream",
     "text": [
      "<class 'pandas.core.frame.DataFrame'>\n",
      "RangeIndex: 574945 entries, 0 to 574944\n",
      "Data columns (total 15 columns):\n",
      " #   Column               Non-Null Count   Dtype  \n",
      "---  ------               --------------   -----  \n",
      " 0   linear_acc_x         574945 non-null  float64\n",
      " 1   linear_acc_y         574945 non-null  float64\n",
      " 2   linear_acc_z         574945 non-null  float64\n",
      " 3   rot_w                571253 non-null  float64\n",
      " 4   rot_x                571253 non-null  float64\n",
      " 5   rot_y                571253 non-null  float64\n",
      " 6   rot_z                571253 non-null  float64\n",
      " 7   acc_mag              574945 non-null  float64\n",
      " 8   rot_angle            571253 non-null  float64\n",
      " 9   acc_mag_jerk         574945 non-null  float64\n",
      " 10  rot_angle_vel        574945 non-null  float64\n",
      " 11  linear_acc_mag       574945 non-null  float64\n",
      " 12  linear_acc_mag_jerk  574945 non-null  float64\n",
      " 13  gesture_int          574945 non-null  int32  \n",
      " 14  sequence_id_encode   574945 non-null  int32  \n",
      "dtypes: float64(13), int32(2)\n",
      "memory usage: 61.4 MB\n"
     ]
    }
   ],
   "source": [
    "# imu_cols.extend([\"gesture_int\", \"sequence_id_encode\"])\n",
    "# train_imu = train[imu_cols]\n",
    "# train_imu.info()"
   ]
  },
  {
   "cell_type": "code",
   "execution_count": 100,
   "metadata": {
    "execution": {
     "iopub.execute_input": "2025-07-07T16:59:41.844817Z",
     "iopub.status.busy": "2025-07-07T16:59:41.844518Z",
     "iopub.status.idle": "2025-07-07T16:59:41.874403Z",
     "shell.execute_reply": "2025-07-07T16:59:41.873489Z",
     "shell.execute_reply.started": "2025-07-07T16:59:41.844797Z"
    },
    "trusted": true
   },
   "outputs": [
    {
     "name": "stdout",
     "output_type": "stream",
     "text": [
      "   linear_acc_x  linear_acc_y  linear_acc_z     rot_w     rot_x     rot_y  \\\n",
      "0     -0.138540      0.044578     -0.053696  0.134399 -0.355164 -0.447327   \n",
      "1      0.237503      0.238219     -0.808055  0.143494 -0.340271 -0.428650   \n",
      "2     -0.469262      0.526305     -0.412869  0.219055 -0.274231 -0.356934   \n",
      "3      0.619349      0.933462     -0.871046  0.297546 -0.264160 -0.238159   \n",
      "4      1.226582      0.567647      0.839761  0.333557 -0.218628 -0.063538   \n",
      "\n",
      "      rot_z    acc_mag  rot_angle  acc_mag_jerk  rot_angle_vel  \\\n",
      "0 -0.809753   9.723882   2.871978      0.000000       0.000000   \n",
      "1 -0.824524   9.832678   2.853611      0.108796      -0.018367   \n",
      "2 -0.865662   9.561136   2.699901     -0.271542      -0.153711   \n",
      "3 -0.885986   9.886537   2.537349      0.325401      -0.162551   \n",
      "4 -0.914856  11.128921   2.461444      1.242384      -0.075905   \n",
      "\n",
      "   linear_acc_mag  linear_acc_mag_jerk  gesture_int  sequence_id_encode  \n",
      "0        0.155125             0.000000            1                   0  \n",
      "1        0.875276             0.720151            1                   0  \n",
      "2        0.817107            -0.058169            1                   0  \n",
      "3        1.419037             0.601930            1                   0  \n",
      "4        1.591203             0.172166            1                   0  \n"
     ]
    }
   ],
   "source": [
    "print(train_imu.head())"
   ]
  },
  {
   "cell_type": "code",
   "execution_count": 101,
   "metadata": {
    "execution": {
     "iopub.execute_input": "2025-07-07T16:55:39.831238Z",
     "iopub.status.busy": "2025-07-07T16:55:39.830925Z",
     "iopub.status.idle": "2025-07-07T16:55:56.607428Z",
     "shell.execute_reply": "2025-07-07T16:55:56.606625Z",
     "shell.execute_reply.started": "2025-07-07T16:55:39.831213Z"
    },
    "trusted": true
   },
   "outputs": [
    {
     "name": "stdout",
     "output_type": "stream",
     "text": [
      "📏 Padding to 95th percentile sequence length: 127\n",
      "✅ IMU-only train tensor: torch.Size([6520, 127, 13]) | val tensor: torch.Size([1631, 127, 13])\n"
     ]
    }
   ],
   "source": [
    "# Group by sequence\n",
    "grouped = train_imu.groupby(\"sequence_id_encode\")\n",
    "\n",
    "# Store sequences and labels\n",
    "X_list = []\n",
    "y_list = []\n",
    "seq_lens = []\n",
    "\n",
    "for seq_id, group in grouped:\n",
    "    if group.empty:\n",
    "        continue\n",
    "\n",
    "    features = group[input_feature_cols].values.astype(np.float32)\n",
    "    label = group['gesture_int'].iloc[0]\n",
    "\n",
    "    X_tensor = torch.tensor(features, dtype=torch.float32)\n",
    "    X_list.append(X_tensor)\n",
    "    y_list.append(label)\n",
    "    seq_lens.append(len(X_tensor))\n",
    "\n",
    "# Compute pad length = 95th percentile\n",
    "pad_len = int(np.percentile(seq_lens, 95))\n",
    "print(f\"📏 Padding to 95th percentile sequence length: {pad_len}\")\n",
    "\n",
    "# Pad sequences (post-padding)\n",
    "X_padded = pad_sequence(X_list, batch_first=True)  # (N, max_seq_len, D)\n",
    "\n",
    "# Truncate or extend to pad_len\n",
    "if X_padded.size(1) > pad_len:\n",
    "    X_padded = X_padded[:, :pad_len, :]\n",
    "elif X_padded.size(1) < pad_len:\n",
    "    pad_amt = pad_len - X_padded.size(1)\n",
    "    zero_pad = torch.zeros((X_padded.size(0), pad_amt, X_padded.size(2)))\n",
    "    X_padded = torch.cat([X_padded, zero_pad], dim=1)\n",
    "\n",
    "# Label tensor\n",
    "y_tensor = torch.tensor(y_list, dtype=torch.long)\n",
    "\n",
    "# Train/val split\n",
    "X_train, X_val, y_train, y_val = train_test_split(\n",
    "    X_padded, y_tensor, test_size=0.2, random_state=42, stratify=y_tensor\n",
    ")\n",
    "\n",
    "print(f\"✅ IMU-only train tensor: {X_train.shape} | val tensor: {X_val.shape}\")"
   ]
  },
  {
   "cell_type": "code",
   "execution_count": 102,
   "metadata": {},
   "outputs": [],
   "source": [
    "scaler = StandardScaler()\n",
    "for i in range(len(X_list)):\n",
    "    X_list[i] = torch.tensor(scaler.fit_transform(X_list[i]), dtype = torch.float32)"
   ]
  },
  {
   "cell_type": "code",
   "execution_count": 103,
   "metadata": {},
   "outputs": [],
   "source": [
    "class MLP(torch.nn.Module):\n",
    "    def __init__(self, input_dim, hidden_dim, output_dim):\n",
    "        super(MLP, self).__init__()\n",
    "        self.fc1 = torch.nn.Linear(input_dim, hidden_dim)\n",
    "        self.fc2 = torch.nn.Linear(hidden_dim, output_dim)\n",
    "        self.relu = torch.nn.ReLU()\n",
    "        self.dropout = torch.nn.Dropout(0.5)\n",
    "\n",
    "    def forward(self, x):\n",
    "        x = x.mean(dim = 1)\n",
    "        x = self.fc1(x)\n",
    "        x = self.relu(x)\n",
    "        x = self.dropout(x)\n",
    "        x = self.fc2(x)\n",
    "        return x"
   ]
  },
  {
   "cell_type": "code",
   "execution_count": 104,
   "metadata": {},
   "outputs": [],
   "source": [
    "input_dim = X_train.shape[2]\n",
    "hidden_dim = 128\n",
    "output_dim = len(torch.unique(y_train))\n",
    "\n",
    "model = MLP(input_dim = input_dim, hidden_dim = hidden_dim, output_dim = output_dim)\n",
    "criterion = torch.nn.CrossEntropyLoss()\n",
    "optimizer = torch.optim.Adam(params = model.parameters(), lr = 1e-4)\n",
    "clip_value = 5.0"
   ]
  },
  {
   "cell_type": "code",
   "execution_count": 105,
   "metadata": {},
   "outputs": [],
   "source": [
    "device = torch.device(\"cuda\" if torch.cuda.is_available() else \"cpu\")\n",
    "model.to(device)\n",
    "X_train = X_train.to(device)\n",
    "y_train = y_train.to(device)\n",
    "X_val = X_val.to(device)\n",
    "y_val = y_val.to(device)"
   ]
  },
  {
   "cell_type": "code",
   "execution_count": 106,
   "metadata": {},
   "outputs": [],
   "source": [
    "batch_size = 64\n",
    "train_dataset = torch.utils.data.TensorDataset(X_train, y_train)\n",
    "train_loader = torch.utils.data.DataLoader(train_dataset, batch_size=batch_size, shuffle=True)"
   ]
  },
  {
   "cell_type": "code",
   "execution_count": null,
   "metadata": {},
   "outputs": [
    {
     "name": "stderr",
     "output_type": "stream",
     "text": [
      "  2%|▏         | 2/100 [00:00<00:07, 12.65it/s]"
     ]
    },
    {
     "name": "stdout",
     "output_type": "stream",
     "text": [
      "Epoch 1 / 100,Train Loss: nan,Train Accuracy: 0.0782,Val Loss: nan,Val Accuracy: 0.0785\n",
      "Epoch 2 / 100,Train Loss: nan,Train Accuracy: 0.0782,Val Loss: nan,Val Accuracy: 0.0785\n",
      "Epoch 3 / 100,Train Loss: nan,Train Accuracy: 0.0782,Val Loss: nan,Val Accuracy: 0.0785\n"
     ]
    },
    {
     "name": "stderr",
     "output_type": "stream",
     "text": [
      "  6%|▌         | 6/100 [00:00<00:07, 12.97it/s]"
     ]
    },
    {
     "name": "stdout",
     "output_type": "stream",
     "text": [
      "Epoch 4 / 100,Train Loss: nan,Train Accuracy: 0.0782,Val Loss: nan,Val Accuracy: 0.0785\n",
      "Epoch 5 / 100,Train Loss: nan,Train Accuracy: 0.0782,Val Loss: nan,Val Accuracy: 0.0785\n",
      "Epoch 6 / 100,Train Loss: nan,Train Accuracy: 0.0782,Val Loss: nan,Val Accuracy: 0.0785\n"
     ]
    },
    {
     "name": "stderr",
     "output_type": "stream",
     "text": [
      "  8%|▊         | 8/100 [00:00<00:07, 13.01it/s]"
     ]
    },
    {
     "name": "stdout",
     "output_type": "stream",
     "text": [
      "Epoch 7 / 100,Train Loss: nan,Train Accuracy: 0.0782,Val Loss: nan,Val Accuracy: 0.0785\n",
      "Epoch 8 / 100,Train Loss: nan,Train Accuracy: 0.0782,Val Loss: nan,Val Accuracy: 0.0785\n",
      "Epoch 9 / 100,Train Loss: nan,Train Accuracy: 0.0782,Val Loss: nan,Val Accuracy: 0.0785\n"
     ]
    },
    {
     "name": "stderr",
     "output_type": "stream",
     "text": [
      " 12%|█▏        | 12/100 [00:00<00:06, 13.39it/s]"
     ]
    },
    {
     "name": "stdout",
     "output_type": "stream",
     "text": [
      "Epoch 10 / 100,Train Loss: nan,Train Accuracy: 0.0782,Val Loss: nan,Val Accuracy: 0.0785\n",
      "Epoch 11 / 100,Train Loss: nan,Train Accuracy: 0.0782,Val Loss: nan,Val Accuracy: 0.0785\n",
      "Epoch 12 / 100,Train Loss: nan,Train Accuracy: 0.0782,Val Loss: nan,Val Accuracy: 0.0785\n"
     ]
    },
    {
     "name": "stderr",
     "output_type": "stream",
     "text": [
      " 14%|█▍        | 14/100 [00:01<00:06, 13.75it/s]"
     ]
    },
    {
     "name": "stdout",
     "output_type": "stream",
     "text": [
      "Epoch 13 / 100,Train Loss: nan,Train Accuracy: 0.0782,Val Loss: nan,Val Accuracy: 0.0785\n",
      "Epoch 14 / 100,Train Loss: nan,Train Accuracy: 0.0782,Val Loss: nan,Val Accuracy: 0.0785\n",
      "Epoch 15 / 100,Train Loss: nan,Train Accuracy: 0.0782,Val Loss: nan,Val Accuracy: 0.0785\n"
     ]
    },
    {
     "name": "stderr",
     "output_type": "stream",
     "text": [
      " 18%|█▊        | 18/100 [00:01<00:06, 13.47it/s]"
     ]
    },
    {
     "name": "stdout",
     "output_type": "stream",
     "text": [
      "Epoch 16 / 100,Train Loss: nan,Train Accuracy: 0.0782,Val Loss: nan,Val Accuracy: 0.0785\n",
      "Epoch 17 / 100,Train Loss: nan,Train Accuracy: 0.0782,Val Loss: nan,Val Accuracy: 0.0785\n",
      "Epoch 18 / 100,Train Loss: nan,Train Accuracy: 0.0782,Val Loss: nan,Val Accuracy: 0.0785\n"
     ]
    },
    {
     "name": "stderr",
     "output_type": "stream",
     "text": [
      " 20%|██        | 20/100 [00:01<00:05, 13.40it/s]"
     ]
    },
    {
     "name": "stdout",
     "output_type": "stream",
     "text": [
      "Epoch 19 / 100,Train Loss: nan,Train Accuracy: 0.0782,Val Loss: nan,Val Accuracy: 0.0785\n",
      "Epoch 20 / 100,Train Loss: nan,Train Accuracy: 0.0782,Val Loss: nan,Val Accuracy: 0.0785\n",
      "Epoch 21 / 100,Train Loss: nan,Train Accuracy: 0.0782,Val Loss: nan,Val Accuracy: 0.0785\n"
     ]
    },
    {
     "name": "stderr",
     "output_type": "stream",
     "text": [
      " 24%|██▍       | 24/100 [00:01<00:05, 13.58it/s]"
     ]
    },
    {
     "name": "stdout",
     "output_type": "stream",
     "text": [
      "Epoch 22 / 100,Train Loss: nan,Train Accuracy: 0.0782,Val Loss: nan,Val Accuracy: 0.0785\n",
      "Epoch 23 / 100,Train Loss: nan,Train Accuracy: 0.0782,Val Loss: nan,Val Accuracy: 0.0785\n",
      "Epoch 24 / 100,Train Loss: nan,Train Accuracy: 0.0782,Val Loss: nan,Val Accuracy: 0.0785\n"
     ]
    },
    {
     "name": "stderr",
     "output_type": "stream",
     "text": [
      " 26%|██▌       | 26/100 [00:01<00:05, 13.46it/s]"
     ]
    },
    {
     "name": "stdout",
     "output_type": "stream",
     "text": [
      "Epoch 25 / 100,Train Loss: nan,Train Accuracy: 0.0782,Val Loss: nan,Val Accuracy: 0.0785\n",
      "Epoch 26 / 100,Train Loss: nan,Train Accuracy: 0.0782,Val Loss: nan,Val Accuracy: 0.0785\n",
      "Epoch 27 / 100,Train Loss: nan,Train Accuracy: 0.0782,Val Loss: nan,Val Accuracy: 0.0785\n"
     ]
    },
    {
     "name": "stderr",
     "output_type": "stream",
     "text": [
      " 30%|███       | 30/100 [00:02<00:05, 13.52it/s]"
     ]
    },
    {
     "name": "stdout",
     "output_type": "stream",
     "text": [
      "Epoch 28 / 100,Train Loss: nan,Train Accuracy: 0.0782,Val Loss: nan,Val Accuracy: 0.0785\n",
      "Epoch 29 / 100,Train Loss: nan,Train Accuracy: 0.0782,Val Loss: nan,Val Accuracy: 0.0785\n",
      "Epoch 30 / 100,Train Loss: nan,Train Accuracy: 0.0782,Val Loss: nan,Val Accuracy: 0.0785\n"
     ]
    },
    {
     "name": "stderr",
     "output_type": "stream",
     "text": [
      " 32%|███▏      | 32/100 [00:02<00:05, 13.58it/s]"
     ]
    },
    {
     "name": "stdout",
     "output_type": "stream",
     "text": [
      "Epoch 31 / 100,Train Loss: nan,Train Accuracy: 0.0782,Val Loss: nan,Val Accuracy: 0.0785\n",
      "Epoch 32 / 100,Train Loss: nan,Train Accuracy: 0.0782,Val Loss: nan,Val Accuracy: 0.0785\n",
      "Epoch 33 / 100,Train Loss: nan,Train Accuracy: 0.0782,Val Loss: nan,Val Accuracy: 0.0785\n"
     ]
    },
    {
     "name": "stderr",
     "output_type": "stream",
     "text": [
      " 36%|███▌      | 36/100 [00:02<00:04, 13.57it/s]"
     ]
    },
    {
     "name": "stdout",
     "output_type": "stream",
     "text": [
      "Epoch 34 / 100,Train Loss: nan,Train Accuracy: 0.0782,Val Loss: nan,Val Accuracy: 0.0785\n",
      "Epoch 35 / 100,Train Loss: nan,Train Accuracy: 0.0782,Val Loss: nan,Val Accuracy: 0.0785\n",
      "Epoch 36 / 100,Train Loss: nan,Train Accuracy: 0.0782,Val Loss: nan,Val Accuracy: 0.0785\n"
     ]
    },
    {
     "name": "stderr",
     "output_type": "stream",
     "text": [
      " 38%|███▊      | 38/100 [00:02<00:04, 13.37it/s]"
     ]
    },
    {
     "name": "stdout",
     "output_type": "stream",
     "text": [
      "Epoch 37 / 100,Train Loss: nan,Train Accuracy: 0.0782,Val Loss: nan,Val Accuracy: 0.0785\n",
      "Epoch 38 / 100,Train Loss: nan,Train Accuracy: 0.0782,Val Loss: nan,Val Accuracy: 0.0785\n",
      "Epoch 39 / 100,Train Loss: nan,Train Accuracy: 0.0782,Val Loss: nan,Val Accuracy: 0.0785\n"
     ]
    },
    {
     "name": "stderr",
     "output_type": "stream",
     "text": [
      " 42%|████▏     | 42/100 [00:03<00:04, 13.71it/s]"
     ]
    },
    {
     "name": "stdout",
     "output_type": "stream",
     "text": [
      "Epoch 40 / 100,Train Loss: nan,Train Accuracy: 0.0782,Val Loss: nan,Val Accuracy: 0.0785\n",
      "Epoch 41 / 100,Train Loss: nan,Train Accuracy: 0.0782,Val Loss: nan,Val Accuracy: 0.0785\n",
      "Epoch 42 / 100,Train Loss: nan,Train Accuracy: 0.0782,Val Loss: nan,Val Accuracy: 0.0785\n"
     ]
    },
    {
     "name": "stderr",
     "output_type": "stream",
     "text": [
      " 44%|████▍     | 44/100 [00:03<00:04, 13.67it/s]"
     ]
    },
    {
     "name": "stdout",
     "output_type": "stream",
     "text": [
      "Epoch 43 / 100,Train Loss: nan,Train Accuracy: 0.0782,Val Loss: nan,Val Accuracy: 0.0785\n",
      "Epoch 44 / 100,Train Loss: nan,Train Accuracy: 0.0782,Val Loss: nan,Val Accuracy: 0.0785\n",
      "Epoch 45 / 100,Train Loss: nan,Train Accuracy: 0.0782,Val Loss: nan,Val Accuracy: 0.0785\n"
     ]
    },
    {
     "name": "stderr",
     "output_type": "stream",
     "text": [
      " 48%|████▊     | 48/100 [00:03<00:03, 13.67it/s]"
     ]
    },
    {
     "name": "stdout",
     "output_type": "stream",
     "text": [
      "Epoch 46 / 100,Train Loss: nan,Train Accuracy: 0.0782,Val Loss: nan,Val Accuracy: 0.0785\n",
      "Epoch 47 / 100,Train Loss: nan,Train Accuracy: 0.0782,Val Loss: nan,Val Accuracy: 0.0785\n",
      "Epoch 48 / 100,Train Loss: nan,Train Accuracy: 0.0782,Val Loss: nan,Val Accuracy: 0.0785\n"
     ]
    },
    {
     "name": "stderr",
     "output_type": "stream",
     "text": [
      " 50%|█████     | 50/100 [00:03<00:03, 13.48it/s]"
     ]
    },
    {
     "name": "stdout",
     "output_type": "stream",
     "text": [
      "Epoch 49 / 100,Train Loss: nan,Train Accuracy: 0.0782,Val Loss: nan,Val Accuracy: 0.0785\n",
      "Epoch 50 / 100,Train Loss: nan,Train Accuracy: 0.0782,Val Loss: nan,Val Accuracy: 0.0785\n",
      "Epoch 51 / 100,Train Loss: nan,Train Accuracy: 0.0782,Val Loss: nan,Val Accuracy: 0.0785\n"
     ]
    },
    {
     "name": "stderr",
     "output_type": "stream",
     "text": [
      " 54%|█████▍    | 54/100 [00:04<00:03, 13.51it/s]"
     ]
    },
    {
     "name": "stdout",
     "output_type": "stream",
     "text": [
      "Epoch 52 / 100,Train Loss: nan,Train Accuracy: 0.0782,Val Loss: nan,Val Accuracy: 0.0785\n",
      "Epoch 53 / 100,Train Loss: nan,Train Accuracy: 0.0782,Val Loss: nan,Val Accuracy: 0.0785\n",
      "Epoch 54 / 100,Train Loss: nan,Train Accuracy: 0.0782,Val Loss: nan,Val Accuracy: 0.0785\n"
     ]
    },
    {
     "name": "stderr",
     "output_type": "stream",
     "text": [
      " 56%|█████▌    | 56/100 [00:04<00:03, 13.55it/s]"
     ]
    },
    {
     "name": "stdout",
     "output_type": "stream",
     "text": [
      "Epoch 55 / 100,Train Loss: nan,Train Accuracy: 0.0782,Val Loss: nan,Val Accuracy: 0.0785\n",
      "Epoch 56 / 100,Train Loss: nan,Train Accuracy: 0.0782,Val Loss: nan,Val Accuracy: 0.0785\n",
      "Epoch 57 / 100,Train Loss: nan,Train Accuracy: 0.0782,Val Loss: nan,Val Accuracy: 0.0785\n"
     ]
    },
    {
     "name": "stderr",
     "output_type": "stream",
     "text": [
      " 60%|██████    | 60/100 [00:04<00:02, 13.37it/s]"
     ]
    },
    {
     "name": "stdout",
     "output_type": "stream",
     "text": [
      "Epoch 58 / 100,Train Loss: nan,Train Accuracy: 0.0782,Val Loss: nan,Val Accuracy: 0.0785\n",
      "Epoch 59 / 100,Train Loss: nan,Train Accuracy: 0.0782,Val Loss: nan,Val Accuracy: 0.0785\n",
      "Epoch 60 / 100,Train Loss: nan,Train Accuracy: 0.0782,Val Loss: nan,Val Accuracy: 0.0785\n"
     ]
    },
    {
     "name": "stderr",
     "output_type": "stream",
     "text": [
      " 62%|██████▏   | 62/100 [00:04<00:02, 13.49it/s]"
     ]
    },
    {
     "name": "stdout",
     "output_type": "stream",
     "text": [
      "Epoch 61 / 100,Train Loss: nan,Train Accuracy: 0.0782,Val Loss: nan,Val Accuracy: 0.0785\n",
      "Epoch 62 / 100,Train Loss: nan,Train Accuracy: 0.0782,Val Loss: nan,Val Accuracy: 0.0785\n",
      "Epoch 63 / 100,Train Loss: nan,Train Accuracy: 0.0782,Val Loss: nan,Val Accuracy: 0.0785\n"
     ]
    },
    {
     "name": "stderr",
     "output_type": "stream",
     "text": [
      " 66%|██████▌   | 66/100 [00:04<00:02, 13.20it/s]"
     ]
    },
    {
     "name": "stdout",
     "output_type": "stream",
     "text": [
      "Epoch 64 / 100,Train Loss: nan,Train Accuracy: 0.0782,Val Loss: nan,Val Accuracy: 0.0785\n",
      "Epoch 65 / 100,Train Loss: nan,Train Accuracy: 0.0782,Val Loss: nan,Val Accuracy: 0.0785\n",
      "Epoch 66 / 100,Train Loss: nan,Train Accuracy: 0.0782,Val Loss: nan,Val Accuracy: 0.0785\n"
     ]
    },
    {
     "name": "stderr",
     "output_type": "stream",
     "text": [
      " 68%|██████▊   | 68/100 [00:05<00:02, 13.14it/s]"
     ]
    },
    {
     "name": "stdout",
     "output_type": "stream",
     "text": [
      "Epoch 67 / 100,Train Loss: nan,Train Accuracy: 0.0782,Val Loss: nan,Val Accuracy: 0.0785\n",
      "Epoch 68 / 100,Train Loss: nan,Train Accuracy: 0.0782,Val Loss: nan,Val Accuracy: 0.0785\n",
      "Epoch 69 / 100,Train Loss: nan,Train Accuracy: 0.0782,Val Loss: nan,Val Accuracy: 0.0785\n"
     ]
    },
    {
     "name": "stderr",
     "output_type": "stream",
     "text": [
      " 72%|███████▏  | 72/100 [00:05<00:02, 13.09it/s]"
     ]
    },
    {
     "name": "stdout",
     "output_type": "stream",
     "text": [
      "Epoch 70 / 100,Train Loss: nan,Train Accuracy: 0.0782,Val Loss: nan,Val Accuracy: 0.0785\n",
      "Epoch 71 / 100,Train Loss: nan,Train Accuracy: 0.0782,Val Loss: nan,Val Accuracy: 0.0785\n",
      "Epoch 72 / 100,Train Loss: nan,Train Accuracy: 0.0782,Val Loss: nan,Val Accuracy: 0.0785\n"
     ]
    },
    {
     "name": "stderr",
     "output_type": "stream",
     "text": [
      " 74%|███████▍  | 74/100 [00:05<00:02, 12.97it/s]"
     ]
    },
    {
     "name": "stdout",
     "output_type": "stream",
     "text": [
      "Epoch 73 / 100,Train Loss: nan,Train Accuracy: 0.0782,Val Loss: nan,Val Accuracy: 0.0785\n",
      "Epoch 74 / 100,Train Loss: nan,Train Accuracy: 0.0782,Val Loss: nan,Val Accuracy: 0.0785\n",
      "Epoch 75 / 100,Train Loss: nan,Train Accuracy: 0.0782,Val Loss: nan,Val Accuracy: 0.0785\n"
     ]
    },
    {
     "name": "stderr",
     "output_type": "stream",
     "text": [
      " 78%|███████▊  | 78/100 [00:05<00:01, 13.44it/s]"
     ]
    },
    {
     "name": "stdout",
     "output_type": "stream",
     "text": [
      "Epoch 76 / 100,Train Loss: nan,Train Accuracy: 0.0782,Val Loss: nan,Val Accuracy: 0.0785\n",
      "Epoch 77 / 100,Train Loss: nan,Train Accuracy: 0.0782,Val Loss: nan,Val Accuracy: 0.0785\n",
      "Epoch 78 / 100,Train Loss: nan,Train Accuracy: 0.0782,Val Loss: nan,Val Accuracy: 0.0785\n"
     ]
    },
    {
     "name": "stderr",
     "output_type": "stream",
     "text": [
      " 80%|████████  | 80/100 [00:05<00:01, 13.29it/s]"
     ]
    },
    {
     "name": "stdout",
     "output_type": "stream",
     "text": [
      "Epoch 79 / 100,Train Loss: nan,Train Accuracy: 0.0782,Val Loss: nan,Val Accuracy: 0.0785\n",
      "Epoch 80 / 100,Train Loss: nan,Train Accuracy: 0.0782,Val Loss: nan,Val Accuracy: 0.0785\n",
      "Epoch 81 / 100,Train Loss: nan,Train Accuracy: 0.0782,Val Loss: nan,Val Accuracy: 0.0785\n"
     ]
    },
    {
     "name": "stderr",
     "output_type": "stream",
     "text": [
      " 84%|████████▍ | 84/100 [00:06<00:01, 13.45it/s]"
     ]
    },
    {
     "name": "stdout",
     "output_type": "stream",
     "text": [
      "Epoch 82 / 100,Train Loss: nan,Train Accuracy: 0.0782,Val Loss: nan,Val Accuracy: 0.0785\n",
      "Epoch 83 / 100,Train Loss: nan,Train Accuracy: 0.0782,Val Loss: nan,Val Accuracy: 0.0785\n",
      "Epoch 84 / 100,Train Loss: nan,Train Accuracy: 0.0782,Val Loss: nan,Val Accuracy: 0.0785\n"
     ]
    },
    {
     "name": "stderr",
     "output_type": "stream",
     "text": [
      " 86%|████████▌ | 86/100 [00:06<00:01, 13.50it/s]"
     ]
    },
    {
     "name": "stdout",
     "output_type": "stream",
     "text": [
      "Epoch 85 / 100,Train Loss: nan,Train Accuracy: 0.0782,Val Loss: nan,Val Accuracy: 0.0785\n",
      "Epoch 86 / 100,Train Loss: nan,Train Accuracy: 0.0782,Val Loss: nan,Val Accuracy: 0.0785\n",
      "Epoch 87 / 100,Train Loss: nan,Train Accuracy: 0.0782,Val Loss: nan,Val Accuracy: 0.0785\n"
     ]
    },
    {
     "name": "stderr",
     "output_type": "stream",
     "text": [
      " 90%|█████████ | 90/100 [00:06<00:00, 12.03it/s]"
     ]
    },
    {
     "name": "stdout",
     "output_type": "stream",
     "text": [
      "Epoch 88 / 100,Train Loss: nan,Train Accuracy: 0.0782,Val Loss: nan,Val Accuracy: 0.0785\n",
      "Epoch 89 / 100,Train Loss: nan,Train Accuracy: 0.0782,Val Loss: nan,Val Accuracy: 0.0785\n",
      "Epoch 90 / 100,Train Loss: nan,Train Accuracy: 0.0782,Val Loss: nan,Val Accuracy: 0.0785\n"
     ]
    },
    {
     "name": "stderr",
     "output_type": "stream",
     "text": [
      " 92%|█████████▏| 92/100 [00:06<00:00, 12.53it/s]"
     ]
    },
    {
     "name": "stdout",
     "output_type": "stream",
     "text": [
      "Epoch 91 / 100,Train Loss: nan,Train Accuracy: 0.0782,Val Loss: nan,Val Accuracy: 0.0785\n",
      "Epoch 92 / 100,Train Loss: nan,Train Accuracy: 0.0782,Val Loss: nan,Val Accuracy: 0.0785\n",
      "Epoch 93 / 100,Train Loss: nan,Train Accuracy: 0.0782,Val Loss: nan,Val Accuracy: 0.0785\n"
     ]
    },
    {
     "name": "stderr",
     "output_type": "stream",
     "text": [
      " 96%|█████████▌| 96/100 [00:07<00:00, 12.91it/s]"
     ]
    },
    {
     "name": "stdout",
     "output_type": "stream",
     "text": [
      "Epoch 94 / 100,Train Loss: nan,Train Accuracy: 0.0782,Val Loss: nan,Val Accuracy: 0.0785\n",
      "Epoch 95 / 100,Train Loss: nan,Train Accuracy: 0.0782,Val Loss: nan,Val Accuracy: 0.0785\n",
      "Epoch 96 / 100,Train Loss: nan,Train Accuracy: 0.0782,Val Loss: nan,Val Accuracy: 0.0785\n"
     ]
    },
    {
     "name": "stderr",
     "output_type": "stream",
     "text": [
      " 98%|█████████▊| 98/100 [00:07<00:00, 12.75it/s]"
     ]
    },
    {
     "name": "stdout",
     "output_type": "stream",
     "text": [
      "Epoch 97 / 100,Train Loss: nan,Train Accuracy: 0.0782,Val Loss: nan,Val Accuracy: 0.0785\n",
      "Epoch 98 / 100,Train Loss: nan,Train Accuracy: 0.0782,Val Loss: nan,Val Accuracy: 0.0785\n",
      "Epoch 99 / 100,Train Loss: nan,Train Accuracy: 0.0782,Val Loss: nan,Val Accuracy: 0.0785\n"
     ]
    },
    {
     "name": "stderr",
     "output_type": "stream",
     "text": [
      "100%|██████████| 100/100 [00:07<00:00, 13.29it/s]"
     ]
    },
    {
     "name": "stdout",
     "output_type": "stream",
     "text": [
      "Epoch 100 / 100,Train Loss: nan,Train Accuracy: 0.0782,Val Loss: nan,Val Accuracy: 0.0785\n"
     ]
    },
    {
     "name": "stderr",
     "output_type": "stream",
     "text": [
      "\n"
     ]
    }
   ],
   "source": [
    "\n",
    "epochs = 100\n",
    "for epoch in trange(epochs):\n",
    "    #model train\n",
    "    model.train()\n",
    "    train_loss = 0.0\n",
    "    train_correct = 0\n",
    "    train_total = 0\n",
    "\n",
    "    for xb, yb in train_loader:\n",
    "        xb = xb.to(device)\n",
    "        yb = yb.to(device)\n",
    "        optimizer.zero_grad()\n",
    "        outputs = model(xb)\n",
    "        loss = criterion(outputs, yb)\n",
    "        loss.backward()\n",
    "        torch.nn.utils.clip_grad_norm_(parameters = model.parameters(), max_norm = 2)\n",
    "        optimizer.step()\n",
    "        train_loss += loss.item() * xb.size(0)\n",
    "        preds = outputs.argmax(dim = 1)\n",
    "        train_correct += (preds == yb).sum().item()\n",
    "        train_total += xb.size(0)\n",
    "    \n",
    "    avg_train_loss = train_loss / train_total\n",
    "    train_accuracy = train_correct / train_total\n",
    "    \n",
    "    #model eval\n",
    "    model.eval()\n",
    "    with torch.no_grad():\n",
    "        val_outputs = model(X_val)\n",
    "        val_loss = criterion(val_outputs, y_val)\n",
    "        preds = val_outputs.argmax(dim=1)\n",
    "        val_accuracy = (preds == y_val).float().mean().item()\n",
    "\n",
    "    print(f\"Epoch {epoch + 1} / {epochs},\"\n",
    "          f\"Train Loss: {loss.item():.4f},\"\n",
    "          f\"Train Accuracy: {train_accuracy:.4f},\"\n",
    "          f\"Val Loss: {val_loss.item():.4f},\"\n",
    "          f\"Val Accuracy: {val_accuracy:.4f}\")"
   ]
  },
  {
   "cell_type": "code",
   "execution_count": null,
   "metadata": {},
   "outputs": [],
   "source": []
  }
 ],
 "metadata": {
  "kaggle": {
   "accelerator": "none",
   "dataSources": [
    {
     "databundleVersionId": 12518947,
     "sourceId": 102335,
     "sourceType": "competition"
    }
   ],
   "dockerImageVersionId": 31040,
   "isGpuEnabled": false,
   "isInternetEnabled": true,
   "language": "python",
   "sourceType": "notebook"
  },
  "kernelspec": {
   "display_name": ".venv",
   "language": "python",
   "name": "python3"
  },
  "language_info": {
   "codemirror_mode": {
    "name": "ipython",
    "version": 3
   },
   "file_extension": ".py",
   "mimetype": "text/x-python",
   "name": "python",
   "nbconvert_exporter": "python",
   "pygments_lexer": "ipython3",
   "version": "3.12.3"
  }
 },
 "nbformat": 4,
 "nbformat_minor": 4
}
