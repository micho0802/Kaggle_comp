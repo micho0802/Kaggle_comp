{
 "cells": [
  {
   "cell_type": "code",
   "execution_count": 1,
   "id": "cdfcfd7c",
   "metadata": {
    "_cell_guid": "b1076dfc-b9ad-4769-8c92-a6c4dae69d19",
    "_uuid": "8f2839f25d086af736a60e9eeb907d3b93b6e0e5",
    "execution": {
     "iopub.execute_input": "2025-05-26T19:27:49.193029Z",
     "iopub.status.busy": "2025-05-26T19:27:49.192785Z",
     "iopub.status.idle": "2025-05-26T19:28:08.727815Z",
     "shell.execute_reply": "2025-05-26T19:28:08.726992Z"
    },
    "papermill": {
     "duration": 19.542716,
     "end_time": "2025-05-26T19:28:08.729359",
     "exception": false,
     "start_time": "2025-05-26T19:27:49.186643",
     "status": "completed"
    },
    "tags": []
   },
   "outputs": [],
   "source": [
    "# This Python 3 environment comes with many helpful analytics libraries installed\n",
    "# It is defined by the kaggle/python Docker image: https://github.com/kaggle/docker-python\n",
    "# For example, here's several helpful packages to load\n",
    "\n",
    "import numpy as np # linear algebra\n",
    "import pandas as pd # data processing, CSV file I/O (e.g. pd.read_csv)\n",
    "\n",
    "# Input data files are available in the read-only \"../input/\" directory\n",
    "# For example, running this (by clicking run or pressing Shift+Enter) will list all files under the input directory\n",
    "\n",
    "import os\n",
    "for dirname, _, filenames in os.walk('/kaggle/input'):\n",
    "    for filename in filenames:\n",
    "        pass\n",
    "        #print(os.path.join(dirname, filename))\n",
    "\n",
    "# You can write up to 20GB to the current directory (/kaggle/working/) that gets preserved as output when you create a version using \"Save & Run All\" \n",
    "# You can also write temporary files to /kaggle/temp/, but they won't be saved outside of the current session"
   ]
  },
  {
   "cell_type": "code",
   "execution_count": 2,
   "id": "2d213892",
   "metadata": {
    "execution": {
     "iopub.execute_input": "2025-05-26T19:28:08.739793Z",
     "iopub.status.busy": "2025-05-26T19:28:08.739464Z",
     "iopub.status.idle": "2025-05-26T19:28:08.862008Z",
     "shell.execute_reply": "2025-05-26T19:28:08.861239Z"
    },
    "papermill": {
     "duration": 0.129008,
     "end_time": "2025-05-26T19:28:08.863403",
     "exception": false,
     "start_time": "2025-05-26T19:28:08.734395",
     "status": "completed"
    },
    "tags": []
   },
   "outputs": [
    {
     "name": "stdout",
     "output_type": "stream",
     "text": [
      "aiohappyeyeballs-2.6.1-py3-none-any.whl\r\n",
      "aiohttp-3.11.18-cp311-cp311-win_amd64.whl\r\n",
      "aiosignal-1.3.2-py2.py3-none-any.whl\r\n",
      "attrs-25.3.0-py3-none-any.whl\r\n",
      "certifi-2025.4.26-py3-none-any.whl\r\n",
      "charset_normalizer-3.4.2-cp311-cp311-win_amd64.whl\r\n",
      "colorama-0.4.6-py2.py3-none-any.whl\r\n",
      "e3nn-0.5.6-py3-none-any.whl\r\n",
      "egnn_pytorch-0.2.8-py3-none-any.whl\r\n",
      "einops-0.8.1-py3-none-any.whl\r\n",
      "einx-0.3.0-py3-none-any.whl\r\n",
      "filelock-3.18.0-py3-none-any.whl\r\n",
      "frozendict-2.4.6-py311-none-any.whl\r\n",
      "frozenlist-1.6.0-cp311-cp311-win_amd64.whl\r\n",
      "fsspec-2025.3.2-py3-none-any.whl\r\n",
      "gotennet_pytorch-0.3.1-py3-none-any.whl\r\n",
      "hyper_connections-0.1.15-py3-none-any.whl\r\n",
      "idna-3.10-py3-none-any.whl\r\n",
      "jaxtyping-0.3.2-py3-none-any.whl\r\n",
      "jinja2-3.1.6-py3-none-any.whl\r\n",
      "llvmlite-0.44.0-cp311-cp311-win_amd64.whl\r\n",
      "loguru-0.7.3-py3-none-any.whl\r\n",
      "MarkupSafe-3.0.2-cp311-cp311-win_amd64.whl\r\n",
      "mpmath-1.3.0-py3-none-any.whl\r\n",
      "multidict-6.4.3-cp311-cp311-win_amd64.whl\r\n",
      "multidict-6.4.4-cp311-cp311-win_amd64.whl\r\n",
      "networkx-3.4.2-py3-none-any.whl\r\n",
      "numba-0.61.2-cp311-cp311-win_amd64.whl\r\n",
      "numpy-2.2.5-cp311-cp311-win_amd64.whl\r\n",
      "numpy-2.2.6-cp311-cp311-win_amd64.whl\r\n",
      "opt_einsum-3.4.0-py3-none-any.whl\r\n",
      "opt_einsum_fx-0.1.4-py3-none-any.whl\r\n",
      "packaging-25.0-py3-none-any.whl\r\n",
      "propcache-0.3.1-cp311-cp311-win_amd64.whl\r\n",
      "psutil-7.0.0-cp37-abi3-win_amd64.whl\r\n",
      "pyparsing-3.2.3-py3-none-any.whl\r\n",
      "requests-2.32.3-py3-none-any.whl\r\n",
      "scipy-1.15.3-cp311-cp311-win_amd64.whl\r\n",
      "sympy-1.14.0-py3-none-any.whl\r\n",
      "torch-2.7.0-cp311-cp311-win_amd64.whl\r\n",
      "torch_geometric-2.6.1-py3-none-any.whl\r\n",
      "torch_scatter-2.1.2+pt26cu124-cp311-cp311-linux_x86_64.whl\r\n",
      "tqdm-4.67.1-py3-none-any.whl\r\n",
      "typing_extensions-4.13.2-py3-none-any.whl\r\n",
      "urllib3-2.4.0-py3-none-any.whl\r\n",
      "wadler_lindig-0.1.6-py3-none-any.whl\r\n",
      "win32_setctime-1.2.0-py3-none-any.whl\r\n",
      "x_transformers-2.3.5-py3-none-any.whl\r\n",
      "yarl-1.20.0-cp311-cp311-win_amd64.whl\r\n"
     ]
    }
   ],
   "source": [
    "!ls /kaggle/input/gotennet-required-libraries"
   ]
  },
  {
   "cell_type": "code",
   "execution_count": 3,
   "id": "a9123e3d",
   "metadata": {
    "execution": {
     "iopub.execute_input": "2025-05-26T19:28:08.873682Z",
     "iopub.status.busy": "2025-05-26T19:28:08.873437Z",
     "iopub.status.idle": "2025-05-26T19:28:12.014266Z",
     "shell.execute_reply": "2025-05-26T19:28:12.013543Z"
    },
    "papermill": {
     "duration": 3.147346,
     "end_time": "2025-05-26T19:28:12.015598",
     "exception": false,
     "start_time": "2025-05-26T19:28:08.868252",
     "status": "completed"
    },
    "tags": []
   },
   "outputs": [
    {
     "name": "stdout",
     "output_type": "stream",
     "text": [
      "Looking in links: /kaggle/input/gotennet-required-libraries\r\n",
      "Processing /kaggle/input/gotennet-required-libraries/torch_geometric-2.6.1-py3-none-any.whl\r\n",
      "Processing /kaggle/input/gotennet-required-libraries/gotennet_pytorch-0.3.1-py3-none-any.whl\r\n",
      "Installing collected packages: torch_geometric, gotennet_pytorch\r\n",
      "Successfully installed gotennet_pytorch-0.3.1 torch_geometric-2.6.1\r\n"
     ]
    }
   ],
   "source": [
    "!pip install --no-deps --no-index --find-links=/kaggle/input/gotennet-required-libraries torch_geometric gotennet_pytorch"
   ]
  },
  {
   "cell_type": "code",
   "execution_count": 4,
   "id": "632d873f",
   "metadata": {
    "execution": {
     "iopub.execute_input": "2025-05-26T19:28:12.026018Z",
     "iopub.status.busy": "2025-05-26T19:28:12.025798Z",
     "iopub.status.idle": "2025-05-26T19:28:14.015414Z",
     "shell.execute_reply": "2025-05-26T19:28:14.014481Z"
    },
    "papermill": {
     "duration": 1.996419,
     "end_time": "2025-05-26T19:28:14.016934",
     "exception": false,
     "start_time": "2025-05-26T19:28:12.020515",
     "status": "completed"
    },
    "tags": []
   },
   "outputs": [
    {
     "name": "stdout",
     "output_type": "stream",
     "text": [
      "Looking in links: /kaggle/input/gotennet-required-libraries\r\n",
      "Processing /kaggle/input/gotennet-required-libraries/e3nn-0.5.6-py3-none-any.whl\r\n",
      "Processing /kaggle/input/gotennet-required-libraries/einx-0.3.0-py3-none-any.whl\r\n",
      "Processing /kaggle/input/gotennet-required-libraries/opt_einsum_fx-0.1.4-py3-none-any.whl\r\n",
      "Processing /kaggle/input/gotennet-required-libraries/jaxtyping-0.3.2-py3-none-any.whl\r\n",
      "Processing /kaggle/input/gotennet-required-libraries/hyper_connections-0.1.15-py3-none-any.whl\r\n",
      "Processing /kaggle/input/gotennet-required-libraries/x_transformers-2.3.5-py3-none-any.whl\r\n",
      "Processing /kaggle/input/gotennet-required-libraries/loguru-0.7.3-py3-none-any.whl\r\n",
      "Installing collected packages: x_transformers, opt_einsum_fx, loguru, jaxtyping, hyper_connections, einx, e3nn\r\n",
      "Successfully installed e3nn-0.5.6 einx-0.3.0 hyper_connections-0.1.15 jaxtyping-0.3.2 loguru-0.7.3 opt_einsum_fx-0.1.4 x_transformers-2.3.5\r\n"
     ]
    }
   ],
   "source": [
    "!pip install --no-deps --no-index --find-links=/kaggle/input/gotennet-required-libraries e3nn einx opt_einsum_fx jaxtyping hyper_connections x_transformers loguru"
   ]
  },
  {
   "cell_type": "code",
   "execution_count": 5,
   "id": "f53093a4",
   "metadata": {
    "execution": {
     "iopub.execute_input": "2025-05-26T19:28:14.028342Z",
     "iopub.status.busy": "2025-05-26T19:28:14.028091Z",
     "iopub.status.idle": "2025-05-26T19:28:26.027333Z",
     "shell.execute_reply": "2025-05-26T19:28:26.026757Z"
    },
    "papermill": {
     "duration": 12.00656,
     "end_time": "2025-05-26T19:28:26.028647",
     "exception": false,
     "start_time": "2025-05-26T19:28:14.022087",
     "status": "completed"
    },
    "tags": []
   },
   "outputs": [],
   "source": [
    "import numpy as np\n",
    "import pandas as pd\n",
    "import matplotlib.pyplot as plt\n",
    "import torch\n",
    "import torch_geometric\n",
    "from torch_geometric.data import Data, DataLoader\n",
    "import gotennet_pytorch\n",
    "import torch\n",
    "import torch.nn as nn\n",
    "import torch.nn.functional as F\n",
    "from sklearn.model_selection import train_test_split\n",
    "import matplotlib.pyplot as plt\n",
    "import random\n",
    "from torch.optim import AdamW\n",
    "from gotennet_pytorch import GotenNet\n",
    "from tqdm import tqdm\n",
    "\n",
    "\n",
    "# Set random seeds for reproducibility\n",
    "def set_seed(seed=42):\n",
    "    random.seed(seed)\n",
    "    np.random.seed(seed)\n",
    "    torch.manual_seed(seed)\n",
    "    torch.cuda.manual_seed_all(seed)\n",
    "    os.environ['PYTHONHASHSEED'] = str(seed)\n",
    "    torch.backends.cudnn.deterministic = True\n",
    "\n",
    "set_seed(42)"
   ]
  },
  {
   "cell_type": "code",
   "execution_count": 6,
   "id": "056728f3",
   "metadata": {
    "execution": {
     "iopub.execute_input": "2025-05-26T19:28:26.039602Z",
     "iopub.status.busy": "2025-05-26T19:28:26.039185Z",
     "iopub.status.idle": "2025-05-26T19:28:26.352548Z",
     "shell.execute_reply": "2025-05-26T19:28:26.351640Z"
    },
    "papermill": {
     "duration": 0.319815,
     "end_time": "2025-05-26T19:28:26.353697",
     "exception": false,
     "start_time": "2025-05-26T19:28:26.033882",
     "status": "completed"
    },
    "tags": []
   },
   "outputs": [
    {
     "name": "stdout",
     "output_type": "stream",
     "text": [
      "Loaded 844 RNA sequences and 137095 nucleotide labels\n"
     ]
    }
   ],
   "source": [
    "# Define paths to data files\n",
    "TRAIN_SEQUENCES_PATH = \"/kaggle/input/stanford-rna-3d-folding/train_sequences.csv\"\n",
    "TRAIN_LABELS_PATH = \"/kaggle/input/stanford-rna-3d-folding/train_labels.csv\"\n",
    "# Load data\n",
    "train_sequences = pd.read_csv(TRAIN_SEQUENCES_PATH)\n",
    "train_labels = pd.read_csv(TRAIN_LABELS_PATH)\n",
    "\n",
    "print(f\"Loaded {len(train_sequences)} RNA sequences and {len(train_labels)} nucleotide labels\")"
   ]
  },
  {
   "cell_type": "code",
   "execution_count": 7,
   "id": "aa125ede",
   "metadata": {
    "execution": {
     "iopub.execute_input": "2025-05-26T19:28:26.364519Z",
     "iopub.status.busy": "2025-05-26T19:28:26.364006Z",
     "iopub.status.idle": "2025-05-26T19:28:26.367147Z",
     "shell.execute_reply": "2025-05-26T19:28:26.366634Z"
    },
    "papermill": {
     "duration": 0.009353,
     "end_time": "2025-05-26T19:28:26.368135",
     "exception": false,
     "start_time": "2025-05-26T19:28:26.358782",
     "status": "completed"
    },
    "tags": []
   },
   "outputs": [],
   "source": [
    "MAX_SEQ_LEN = 500"
   ]
  },
  {
   "cell_type": "code",
   "execution_count": 8,
   "id": "91377cc1",
   "metadata": {
    "execution": {
     "iopub.execute_input": "2025-05-26T19:28:26.378332Z",
     "iopub.status.busy": "2025-05-26T19:28:26.377914Z",
     "iopub.status.idle": "2025-05-26T19:28:26.381388Z",
     "shell.execute_reply": "2025-05-26T19:28:26.380737Z"
    },
    "papermill": {
     "duration": 0.009649,
     "end_time": "2025-05-26T19:28:26.382526",
     "exception": false,
     "start_time": "2025-05-26T19:28:26.372877",
     "status": "completed"
    },
    "tags": []
   },
   "outputs": [],
   "source": [
    "# Preprocess data\n",
    "# 1. Encoding nucleotides\n",
    "nucleotide_mapping = {'A': 0, 'C': 1, 'G': 2, 'U': 3}\n",
    "reverse_mapping = {0: 'A', 1: 'C', 2: 'G', 3: 'U'}"
   ]
  },
  {
   "cell_type": "code",
   "execution_count": 9,
   "id": "652a746d",
   "metadata": {
    "execution": {
     "iopub.execute_input": "2025-05-26T19:28:26.392765Z",
     "iopub.status.busy": "2025-05-26T19:28:26.392566Z",
     "iopub.status.idle": "2025-05-26T19:28:26.396074Z",
     "shell.execute_reply": "2025-05-26T19:28:26.395453Z"
    },
    "papermill": {
     "duration": 0.009525,
     "end_time": "2025-05-26T19:28:26.397099",
     "exception": false,
     "start_time": "2025-05-26T19:28:26.387574",
     "status": "completed"
    },
    "tags": []
   },
   "outputs": [],
   "source": [
    "# 2. Create feature representation for each nucleotide\n",
    "def one_hot_encode(nucleotide):\n",
    "    encoding = [0, 0, 0, 0]\n",
    "    if nucleotide in nucleotide_mapping:\n",
    "        encoding[nucleotide_mapping[nucleotide]] = 1\n",
    "    return encoding"
   ]
  },
  {
   "cell_type": "code",
   "execution_count": 10,
   "id": "683ecc32",
   "metadata": {
    "execution": {
     "iopub.execute_input": "2025-05-26T19:28:26.407173Z",
     "iopub.status.busy": "2025-05-26T19:28:26.406983Z",
     "iopub.status.idle": "2025-05-26T19:28:26.415688Z",
     "shell.execute_reply": "2025-05-26T19:28:26.415212Z"
    },
    "papermill": {
     "duration": 0.014997,
     "end_time": "2025-05-26T19:28:26.416654",
     "exception": false,
     "start_time": "2025-05-26T19:28:26.401657",
     "status": "completed"
    },
    "tags": []
   },
   "outputs": [],
   "source": [
    "# Function to create a graph from an RNA sequence\n",
    "def sequence_to_graph(sequence, target_id, labels_df=None, max_connections=MAX_SEQ_LEN):\n",
    "    \"\"\"\n",
    "    Create a graph representation of an RNA sequence.\n",
    "    \n",
    "    Args:\n",
    "        sequence: The RNA sequence\n",
    "        target_id: Identifier for the RNA\n",
    "        labels_df: Optional dataframe with 3D coordinate labels\n",
    "        max_connections: Maximum number of edges to create (to avoid CUDA OOM errors)\n",
    "        \n",
    "    Returns:\n",
    "        PyTorch Geometric Data object\n",
    "    \"\"\"\n",
    "    # One-hot encode each nucleotide\n",
    "    x = [one_hot_encode(nt) for nt in sequence]\n",
    "    x = torch.tensor(x, dtype=torch.float)\n",
    "    \n",
    "    # Create edges - connect adjacent nucleotides (backbone)\n",
    "    # and potentially other connections based on domain knowledge\n",
    "    edges = []\n",
    "    \n",
    "    # Always add backbone connections\n",
    "    for i in range(len(sequence) - 1):\n",
    "        # Connect to next nucleotide (backbone)\n",
    "        edges.append([i, i + 1])\n",
    "        edges.append([i + 1, i])  # Bidirectional\n",
    "    \n",
    "    # Add potential base-pairing connections, but limit total edges to avoid OOM\n",
    "    edge_count = len(edges)\n",
    "    max_additional_edges = max_connections - edge_count\n",
    "    \n",
    "    if max_additional_edges > 0:\n",
    "        potential_base_pairs = []\n",
    "        \n",
    "        # Identify potential base pairs (A-U, G-C)\n",
    "        for i in range(len(sequence)):\n",
    "            for j in range(i + 3, len(sequence)):  # Minimum loop size of 3\n",
    "                if (sequence[i] == 'A' and sequence[j] == 'U') or \\\n",
    "                   (sequence[i] == 'U' and sequence[j] == 'A') or \\\n",
    "                   (sequence[i] == 'G' and sequence[j] == 'C') or \\\n",
    "                   (sequence[i] == 'C' and sequence[j] == 'G'):\n",
    "                    # Store the potential base pair\n",
    "                    potential_base_pairs.append((i, j))\n",
    "        \n",
    "        # Randomly select base pairs if we have too many\n",
    "        if len(potential_base_pairs) > max_additional_edges // 2:  # Divide by 2 for bidirectional edges\n",
    "            # Shuffle and take only what we can handle\n",
    "            random.shuffle(potential_base_pairs)\n",
    "            potential_base_pairs = potential_base_pairs[:max_additional_edges // 2]\n",
    "        \n",
    "        # Add the selected base pairs\n",
    "        for i, j in potential_base_pairs:\n",
    "            edges.append([i, j])\n",
    "            edges.append([j, i])  # Bidirectional\n",
    "    \n",
    "    # Convert edges to tensor\n",
    "    edge_index = torch.tensor(edges, dtype=torch.long).t().contiguous()\n",
    "    \n",
    "    # Get coordinates if available\n",
    "    y = None\n",
    "    mask = None\n",
    "    if labels_df is not None:\n",
    "        target_labels = labels_df[labels_df['ID'].str.startswith(target_id + '_')]\n",
    "        \n",
    "        # Sort by residue ID to match sequence order\n",
    "        target_labels = target_labels.sort_values(by='resid')\n",
    "        \n",
    "        # Check if we have the expected number of residues\n",
    "        if len(target_labels) == len(sequence):\n",
    "            # Extract coordinates for each residue\n",
    "            coordinates = target_labels[['x_1', 'y_1', 'z_1']].values\n",
    "            \n",
    "            # Create a mask for NaN values (1 for valid, 0 for NaN)\n",
    "            valid_mask = ~np.isnan(coordinates).any(axis=1)\n",
    "            mask = torch.tensor(valid_mask, dtype=torch.float)\n",
    "            \n",
    "            # Replace NaN with zeros (we'll mask these during loss calculation)\n",
    "            coordinates = np.nan_to_num(coordinates, nan=0.0)\n",
    "            \n",
    "            y = torch.tensor(coordinates, dtype=torch.float)\n",
    "        else:\n",
    "            print(f\"Warning: Mismatch in sequence length and label count for {target_id}\")\n",
    "    \n",
    "    # Create the data object with properly typed target_id (as string)\n",
    "    data = Data(x=x, edge_index=edge_index, y=y, mask=mask)\n",
    "    \n",
    "    # Store target_id as a string attribute\n",
    "    data.target_id = str(target_id)\n",
    "    \n",
    "    return data"
   ]
  },
  {
   "cell_type": "code",
   "execution_count": 11,
   "id": "594a25cf",
   "metadata": {
    "execution": {
     "iopub.execute_input": "2025-05-26T19:28:26.426456Z",
     "iopub.status.busy": "2025-05-26T19:28:26.426237Z",
     "iopub.status.idle": "2025-05-26T19:28:26.431810Z",
     "shell.execute_reply": "2025-05-26T19:28:26.431304Z"
    },
    "papermill": {
     "duration": 0.011612,
     "end_time": "2025-05-26T19:28:26.432804",
     "exception": false,
     "start_time": "2025-05-26T19:28:26.421192",
     "status": "completed"
    },
    "tags": []
   },
   "outputs": [],
   "source": [
    "def create_dataset(sequences_df, labels_df=None):\n",
    "    dataset = []\n",
    "    skipped_count = 0\n",
    "    nan_count = 0\n",
    "    \n",
    "    for idx, row in tqdm(sequences_df.iterrows(), total=len(sequences_df)):\n",
    "        target_id = row['target_id']\n",
    "        sequence = row['sequence']\n",
    "        \n",
    "        # Clean sequence - replace any non-standard nucleotides with 'N'\n",
    "        # and count how many non-standard nucleotides there are\n",
    "        cleaned_sequence = ''\n",
    "        non_standard_count = 0\n",
    "        \n",
    "        for nt in sequence:\n",
    "            if nt in nucleotide_mapping:\n",
    "                cleaned_sequence += nt\n",
    "            else:\n",
    "                cleaned_sequence += 'N'  # Placeholder for non-standard nucleotides\n",
    "                non_standard_count += 1\n",
    "        \n",
    "        # If too many non-standard nucleotides (>10%), skip this sequence\n",
    "        if non_standard_count / len(sequence) > 0.1:\n",
    "            print(f\"Skipping sequence {target_id} with {non_standard_count} non-standard nucleotides\")\n",
    "            skipped_count += 1\n",
    "            continue\n",
    "        \n",
    "        # Create graph\n",
    "        graph = sequence_to_graph(cleaned_sequence, target_id, labels_df)\n",
    "        \n",
    "        # Check if we have labels with many NaN values\n",
    "        if labels_df is not None and hasattr(graph, 'mask') and graph.mask is not None:\n",
    "            nan_percentage = 1.0 - torch.mean(graph.mask).item()\n",
    "            if nan_percentage > 0.5:  # If more than 50% coordinates are NaN\n",
    "                print(f\"Warning: Sequence {target_id} has {nan_percentage:.1%} NaN coordinates\")\n",
    "                nan_count += 1\n",
    "        \n",
    "        # Add to dataset if no labels needed or valid labels exist\n",
    "        if labels_df is None or graph.y is not None:\n",
    "            dataset.append(graph)\n",
    "    \n",
    "    print(f\"Dataset creation: {skipped_count} sequences skipped due to non-standard nucleotides\")\n",
    "    print(f\"Dataset creation: {nan_count} sequences have >50% NaN coordinates\")\n",
    "    \n",
    "    return dataset"
   ]
  },
  {
   "cell_type": "code",
   "execution_count": 12,
   "id": "f17a3236",
   "metadata": {
    "execution": {
     "iopub.execute_input": "2025-05-26T19:28:26.442630Z",
     "iopub.status.busy": "2025-05-26T19:28:26.442444Z",
     "iopub.status.idle": "2025-05-26T19:28:26.449563Z",
     "shell.execute_reply": "2025-05-26T19:28:26.449025Z"
    },
    "papermill": {
     "duration": 0.013127,
     "end_time": "2025-05-26T19:28:26.450534",
     "exception": false,
     "start_time": "2025-05-26T19:28:26.437407",
     "status": "completed"
    },
    "tags": []
   },
   "outputs": [],
   "source": [
    "data={\n",
    "      \"sequence\":train_sequences['sequence'].to_list(),\n",
    "      \"temporal_cutoff\": train_sequences['temporal_cutoff'].to_list(),\n",
    "      \"description\": train_sequences['description'].to_list(),\n",
    "      \"all_sequences\": train_sequences['all_sequences'].to_list(),\n",
    "}\n",
    "config = {\n",
    "    \"cutoff_date\": \"2020-01-01\",\n",
    "    \"test_cutoff_date\": \"2022-05-01\",\n",
    "}"
   ]
  },
  {
   "cell_type": "code",
   "execution_count": 13,
   "id": "c413037e",
   "metadata": {
    "execution": {
     "iopub.execute_input": "2025-05-26T19:28:26.460735Z",
     "iopub.status.busy": "2025-05-26T19:28:26.460323Z",
     "iopub.status.idle": "2025-05-26T19:28:26.467313Z",
     "shell.execute_reply": "2025-05-26T19:28:26.466845Z"
    },
    "papermill": {
     "duration": 0.013147,
     "end_time": "2025-05-26T19:28:26.468241",
     "exception": false,
     "start_time": "2025-05-26T19:28:26.455094",
     "status": "completed"
    },
    "tags": []
   },
   "outputs": [],
   "source": [
    "# Split data into train and test\n",
    "all_index = np.arange(len(data['sequence']))\n",
    "cutoff_date = pd.Timestamp(config['cutoff_date'])\n",
    "test_cutoff_date = pd.Timestamp(config['test_cutoff_date'])\n",
    "train_index = [i for i, d in enumerate(data['temporal_cutoff']) if pd.Timestamp(d) <= cutoff_date]\n",
    "test_index = [i for i, d in enumerate(data['temporal_cutoff']) if pd.Timestamp(d) > cutoff_date and pd.Timestamp(d) <= test_cutoff_date]"
   ]
  },
  {
   "cell_type": "code",
   "execution_count": 14,
   "id": "4f65c503",
   "metadata": {
    "execution": {
     "iopub.execute_input": "2025-05-26T19:28:26.478486Z",
     "iopub.status.busy": "2025-05-26T19:28:26.478069Z",
     "iopub.status.idle": "2025-05-26T19:28:51.502482Z",
     "shell.execute_reply": "2025-05-26T19:28:51.501563Z"
    },
    "papermill": {
     "duration": 25.030998,
     "end_time": "2025-05-26T19:28:51.503795",
     "exception": false,
     "start_time": "2025-05-26T19:28:26.472797",
     "status": "completed"
    },
    "tags": []
   },
   "outputs": [
    {
     "name": "stderr",
     "output_type": "stream",
     "text": [
      " 14%|█▎        | 115/844 [00:03<00:20, 35.32it/s]"
     ]
    },
    {
     "name": "stdout",
     "output_type": "stream",
     "text": [
      "Warning: Sequence 1LS2_B has 100.0% NaN coordinates\n"
     ]
    },
    {
     "name": "stderr",
     "output_type": "stream",
     "text": [
      " 16%|█▌        | 135/844 [00:03<00:20, 35.39it/s]"
     ]
    },
    {
     "name": "stdout",
     "output_type": "stream",
     "text": [
      "Warning: Sequence 1P6V_D has 64.7% NaN coordinates\n",
      "Warning: Sequence 1QZC_C has 100.0% NaN coordinates\n"
     ]
    },
    {
     "name": "stderr",
     "output_type": "stream",
     "text": [
      " 17%|█▋        | 143/844 [00:04<00:19, 35.22it/s]"
     ]
    },
    {
     "name": "stdout",
     "output_type": "stream",
     "text": [
      "Warning: Sequence 1R2W_C has 100.0% NaN coordinates\n",
      "Warning: Sequence 1QZC_B has 100.0% NaN coordinates\n",
      "Warning: Sequence 1QZA_B has 100.0% NaN coordinates\n",
      "Warning: Sequence 1QZB_B has 100.0% NaN coordinates\n"
     ]
    },
    {
     "name": "stderr",
     "output_type": "stream",
     "text": [
      " 20%|█▉        | 167/844 [00:04<00:20, 32.39it/s]"
     ]
    },
    {
     "name": "stdout",
     "output_type": "stream",
     "text": [
      "Warning: Sequence 1Y1Y_P has 100.0% NaN coordinates\n"
     ]
    },
    {
     "name": "stderr",
     "output_type": "stream",
     "text": [
      " 21%|██        | 179/844 [00:05<00:20, 33.20it/s]"
     ]
    },
    {
     "name": "stdout",
     "output_type": "stream",
     "text": [
      "Warning: Sequence 1ZC8_Z has 100.0% NaN coordinates\n",
      "Warning: Sequence 1ZC8_G has 100.0% NaN coordinates\n",
      "Warning: Sequence 1ZC8_J has 100.0% NaN coordinates\n",
      "Warning: Sequence 1ZC8_F has 100.0% NaN coordinates\n",
      "Warning: Sequence 1ZC8_I has 100.0% NaN coordinates\n",
      "Warning: Sequence 1ZC8_H has 100.0% NaN coordinates\n",
      "Warning: Sequence 1X18_D has 100.0% NaN coordinates\n"
     ]
    },
    {
     "name": "stderr",
     "output_type": "stream",
     "text": [
      " 22%|██▏       | 187/844 [00:05<00:19, 34.07it/s]"
     ]
    },
    {
     "name": "stdout",
     "output_type": "stream",
     "text": [
      "Warning: Sequence 1X18_A has 100.0% NaN coordinates\n",
      "Warning: Sequence 1X18_B has 100.0% NaN coordinates\n",
      "Warning: Sequence 1ZN1_B has 100.0% NaN coordinates\n"
     ]
    },
    {
     "name": "stderr",
     "output_type": "stream",
     "text": [
      " 25%|██▌       | 211/844 [00:06<00:18, 35.02it/s]"
     ]
    },
    {
     "name": "stdout",
     "output_type": "stream",
     "text": [
      "Warning: Sequence 2BS0_S has 55.0% NaN coordinates\n"
     ]
    },
    {
     "name": "stderr",
     "output_type": "stream",
     "text": [
      " 26%|██▌       | 219/844 [00:06<00:17, 35.03it/s]"
     ]
    },
    {
     "name": "stdout",
     "output_type": "stream",
     "text": [
      "Warning: Sequence 2AGN_C has 100.0% NaN coordinates\n",
      "Warning: Sequence 2AGN_A has 100.0% NaN coordinates\n"
     ]
    },
    {
     "name": "stderr",
     "output_type": "stream",
     "text": [
      " 28%|██▊       | 235/844 [00:06<00:17, 34.80it/s]"
     ]
    },
    {
     "name": "stdout",
     "output_type": "stream",
     "text": [
      "Warning: Sequence 2IY3_B has 100.0% NaN coordinates\n"
     ]
    },
    {
     "name": "stderr",
     "output_type": "stream",
     "text": [
      " 29%|██▉       | 247/844 [00:07<00:17, 34.23it/s]"
     ]
    },
    {
     "name": "stdout",
     "output_type": "stream",
     "text": [
      "Warning: Sequence 2OB7_D has 100.0% NaN coordinates\n"
     ]
    },
    {
     "name": "stderr",
     "output_type": "stream",
     "text": [
      " 34%|███▎      | 283/844 [00:08<00:16, 33.17it/s]"
     ]
    },
    {
     "name": "stdout",
     "output_type": "stream",
     "text": [
      "Warning: Sequence 2R1G_C has 100.0% NaN coordinates\n",
      "Warning: Sequence 2R1G_A has 100.0% NaN coordinates\n",
      "Warning: Sequence 2R1G_X has 100.0% NaN coordinates\n",
      "Warning: Sequence 2R1G_F has 100.0% NaN coordinates\n",
      "Warning: Sequence 2R1G_B has 100.0% NaN coordinates\n",
      "Warning: Sequence 2R1G_E has 100.0% NaN coordinates\n"
     ]
    },
    {
     "name": "stderr",
     "output_type": "stream",
     "text": [
      " 36%|███▋      | 307/844 [00:08<00:15, 34.63it/s]"
     ]
    },
    {
     "name": "stdout",
     "output_type": "stream",
     "text": [
      "Warning: Sequence 3EQ3_E has 100.0% NaN coordinates\n",
      "Warning: Sequence 3EQ3_Y has 100.0% NaN coordinates\n",
      "Warning: Sequence 3EP2_B has 100.0% NaN coordinates\n",
      "Warning: Sequence 3EP2_D has 100.0% NaN coordinates\n",
      "Warning: Sequence 3EQ4_A has 100.0% NaN coordinates\n",
      "Warning: Sequence 3EP2_C has 100.0% NaN coordinates\n"
     ]
    },
    {
     "name": "stderr",
     "output_type": "stream",
     "text": [
      " 37%|███▋      | 315/844 [00:09<00:15, 34.49it/s]"
     ]
    },
    {
     "name": "stdout",
     "output_type": "stream",
     "text": [
      "Warning: Sequence 3CW1_v has 100.0% NaN coordinates\n"
     ]
    },
    {
     "name": "stderr",
     "output_type": "stream",
     "text": [
      " 41%|████      | 347/844 [00:10<00:14, 34.36it/s]"
     ]
    },
    {
     "name": "stdout",
     "output_type": "stream",
     "text": [
      "Warning: Sequence 3PGW_N has 100.0% NaN coordinates\n"
     ]
    },
    {
     "name": "stderr",
     "output_type": "stream",
     "text": [
      " 51%|█████     | 427/844 [00:12<00:12, 32.97it/s]"
     ]
    },
    {
     "name": "stdout",
     "output_type": "stream",
     "text": [
      "Warning: Sequence 4V5Z_BP has 100.0% NaN coordinates\n"
     ]
    },
    {
     "name": "stderr",
     "output_type": "stream",
     "text": [
      " 52%|█████▏    | 443/844 [00:13<00:16, 24.83it/s]"
     ]
    },
    {
     "name": "stdout",
     "output_type": "stream",
     "text": [
      "Warning: Sequence 4V5Z_BA has 100.0% NaN coordinates\n",
      "Warning: Sequence 4V5Z_BH has 100.0% NaN coordinates\n",
      "Warning: Sequence 4V5Z_BL has 100.0% NaN coordinates\n"
     ]
    },
    {
     "name": "stderr",
     "output_type": "stream",
     "text": [
      " 54%|█████▎    | 453/844 [00:13<00:14, 27.21it/s]"
     ]
    },
    {
     "name": "stdout",
     "output_type": "stream",
     "text": [
      "Warning: Sequence 4V5Z_BC has 100.0% NaN coordinates\n",
      "Warning: Sequence 4V5Z_BK has 100.0% NaN coordinates\n"
     ]
    },
    {
     "name": "stderr",
     "output_type": "stream",
     "text": [
      " 54%|█████▍    | 457/844 [00:13<00:13, 28.58it/s]"
     ]
    },
    {
     "name": "stdout",
     "output_type": "stream",
     "text": [
      "Warning: Sequence 4V5Z_AH has 100.0% NaN coordinates\n",
      "Warning: Sequence 4V5Z_BU has 100.0% NaN coordinates\n",
      "Warning: Sequence 4V5Z_BQ has 100.0% NaN coordinates\n"
     ]
    },
    {
     "name": "stderr",
     "output_type": "stream",
     "text": [
      " 55%|█████▌    | 465/844 [00:13<00:12, 31.54it/s]"
     ]
    },
    {
     "name": "stdout",
     "output_type": "stream",
     "text": [
      "Warning: Sequence 4V5Z_AF has 100.0% NaN coordinates\n",
      "Warning: Sequence 4V5Z_BM has 100.0% NaN coordinates\n",
      "Warning: Sequence 4OQ9_3 has 90.0% NaN coordinates\n"
     ]
    },
    {
     "name": "stderr",
     "output_type": "stream",
     "text": [
      " 60%|██████    | 509/844 [00:15<00:09, 34.22it/s]"
     ]
    },
    {
     "name": "stdout",
     "output_type": "stream",
     "text": [
      "Warning: Sequence 5GAP_U has 90.7% NaN coordinates\n"
     ]
    },
    {
     "name": "stderr",
     "output_type": "stream",
     "text": [
      " 69%|██████▉   | 581/844 [00:17<00:07, 34.70it/s]"
     ]
    },
    {
     "name": "stdout",
     "output_type": "stream",
     "text": [
      "Warning: Sequence 6IV6_G has 55.9% NaN coordinates\n"
     ]
    },
    {
     "name": "stderr",
     "output_type": "stream",
     "text": [
      " 71%|███████   | 597/844 [00:17<00:07, 34.57it/s]"
     ]
    },
    {
     "name": "stdout",
     "output_type": "stream",
     "text": [
      "Warning: Sequence 6HYU_D has 66.7% NaN coordinates\n"
     ]
    },
    {
     "name": "stderr",
     "output_type": "stream",
     "text": [
      " 73%|███████▎  | 617/844 [00:18<00:06, 34.15it/s]"
     ]
    },
    {
     "name": "stdout",
     "output_type": "stream",
     "text": [
      "Warning: Sequence 6WB1_C has 68.0% NaN coordinates\n"
     ]
    },
    {
     "name": "stderr",
     "output_type": "stream",
     "text": [
      " 76%|███████▋  | 645/844 [00:19<00:05, 33.76it/s]"
     ]
    },
    {
     "name": "stdout",
     "output_type": "stream",
     "text": [
      "Warning: Sequence 6Y0C_IN1 has 59.2% NaN coordinates\n"
     ]
    },
    {
     "name": "stderr",
     "output_type": "stream",
     "text": [
      " 80%|████████  | 677/844 [00:20<00:04, 34.07it/s]"
     ]
    },
    {
     "name": "stdout",
     "output_type": "stream",
     "text": [
      "Warning: Sequence 6WW6_E has 68.5% NaN coordinates\n",
      "Warning: Sequence 6WW6_F has 68.5% NaN coordinates\n",
      "Warning: Sequence 6WW6_C has 66.7% NaN coordinates\n",
      "Warning: Sequence 7M57_ii has 63.0% NaN coordinates\n",
      "Warning: Sequence 7M2T_ss has 74.1% NaN coordinates\n"
     ]
    },
    {
     "name": "stderr",
     "output_type": "stream",
     "text": [
      " 82%|████████▏ | 693/844 [00:20<00:04, 34.31it/s]"
     ]
    },
    {
     "name": "stdout",
     "output_type": "stream",
     "text": [
      "Warning: Sequence 7SLP_R has 54.3% NaN coordinates\n",
      "Warning: Sequence 7S3H_R has 70.6% NaN coordinates\n"
     ]
    },
    {
     "name": "stderr",
     "output_type": "stream",
     "text": [
      " 93%|█████████▎| 789/844 [00:23<00:01, 33.83it/s]"
     ]
    },
    {
     "name": "stdout",
     "output_type": "stream",
     "text": [
      "Warning: Sequence 8P0B_V has 62.5% NaN coordinates\n",
      "Warning: Sequence 8P0G_V has 60.0% NaN coordinates\n"
     ]
    },
    {
     "name": "stderr",
     "output_type": "stream",
     "text": [
      " 96%|█████████▌| 809/844 [00:23<00:01, 32.87it/s]"
     ]
    },
    {
     "name": "stdout",
     "output_type": "stream",
     "text": [
      "Warning: Sequence 8WT6_E has 67.2% NaN coordinates\n",
      "Warning: Sequence 8WT8_F has 62.2% NaN coordinates\n",
      "Warning: Sequence 8WT8_E has 67.2% NaN coordinates\n",
      "Warning: Sequence 8WT6_F has 62.2% NaN coordinates\n",
      "Warning: Sequence 8WT7_E has 67.2% NaN coordinates\n",
      "Warning: Sequence 8WT7_F has 62.2% NaN coordinates\n"
     ]
    },
    {
     "name": "stderr",
     "output_type": "stream",
     "text": [
      "100%|██████████| 844/844 [00:25<00:00, 33.74it/s]"
     ]
    },
    {
     "name": "stdout",
     "output_type": "stream",
     "text": [
      "Dataset creation: 0 sequences skipped due to non-standard nucleotides\n",
      "Dataset creation: 69 sequences have >50% NaN coordinates\n",
      "Created 844 graph data objects for training\n"
     ]
    },
    {
     "name": "stderr",
     "output_type": "stream",
     "text": [
      "\n"
     ]
    }
   ],
   "source": [
    "# Create training dataset\n",
    "train_dataset = create_dataset(train_sequences, train_labels)\n",
    "print(f\"Created {len(train_dataset)} graph data objects for training\")"
   ]
  },
  {
   "cell_type": "code",
   "execution_count": 15,
   "id": "3ace9371",
   "metadata": {
    "execution": {
     "iopub.execute_input": "2025-05-26T19:28:51.533143Z",
     "iopub.status.busy": "2025-05-26T19:28:51.532910Z",
     "iopub.status.idle": "2025-05-26T19:28:51.543807Z",
     "shell.execute_reply": "2025-05-26T19:28:51.543261Z"
    },
    "papermill": {
     "duration": 0.026387,
     "end_time": "2025-05-26T19:28:51.544889",
     "exception": false,
     "start_time": "2025-05-26T19:28:51.518502",
     "status": "completed"
    },
    "tags": []
   },
   "outputs": [],
   "source": [
    "train_graphs = train_dataset[:len(train_index)]\n",
    "val_graphs = train_dataset[:len(train_index)]\n",
    "train_graphs = [g for g in train_graphs if g.num_nodes <= MAX_SEQ_LEN]\n",
    "val_graphs = [g for g in val_graphs if g.num_nodes <= MAX_SEQ_LEN]"
   ]
  },
  {
   "cell_type": "markdown",
   "id": "27fe3d73",
   "metadata": {
    "papermill": {
     "duration": 0.013359,
     "end_time": "2025-05-26T19:28:51.571735",
     "exception": false,
     "start_time": "2025-05-26T19:28:51.558376",
     "status": "completed"
    },
    "tags": []
   },
   "source": [
    "## Visualize "
   ]
  },
  {
   "cell_type": "code",
   "execution_count": 16,
   "id": "c72b2468",
   "metadata": {
    "execution": {
     "iopub.execute_input": "2025-05-26T19:28:51.599650Z",
     "iopub.status.busy": "2025-05-26T19:28:51.599183Z",
     "iopub.status.idle": "2025-05-26T19:28:53.002327Z",
     "shell.execute_reply": "2025-05-26T19:28:53.001689Z"
    },
    "papermill": {
     "duration": 1.422303,
     "end_time": "2025-05-26T19:28:53.007451",
     "exception": false,
     "start_time": "2025-05-26T19:28:51.585148",
     "status": "completed"
    },
    "tags": []
   },
   "outputs": [
    {
     "data": {
      "image/png": "[encoded data removed]",
      "text/plain": [
       "<Figure size 2000x1200 with 33 Axes>"
      ]
     },
     "metadata": {},
     "output_type": "display_data"
    }
   ],
   "source": [
    "# Get unique target_ids from the dataset\n",
    "all_target_ids = [data.target_id for data in train_graphs]\n",
    "unique_target_ids = list(set(all_target_ids))\n",
    "\n",
    "# Randomly sample 32 unique target_ids\n",
    "selected_target_ids = np.random.choice(unique_target_ids, size=32, replace=False)\n",
    "\n",
    "# Create 4x8 grid of subplots\n",
    "fig, axes = plt.subplots(4, 8, figsize=(20, 12), subplot_kw={'projection': '3d'})\n",
    "axes = axes.flatten()\n",
    "\n",
    "for i, target_id in enumerate(selected_target_ids):\n",
    "    axes[i].axis('off')\n",
    "\n",
    "    # Find the corresponding graph in the dataset\n",
    "    graph = next((g for g in train_dataset if g.target_id == target_id), None)\n",
    "    \n",
    "    if graph is None or graph.y is None:\n",
    "        continue\n",
    "\n",
    "    coords = graph.y.numpy()\n",
    "    valid_mask = graph.mask.numpy().astype(bool) if graph.mask is not None else np.ones(len(coords), dtype=bool)\n",
    "\n",
    "    x = coords[valid_mask, 0]\n",
    "    y = coords[valid_mask, 1]\n",
    "    z = coords[valid_mask, 2]\n",
    "\n",
    "    sc = axes[i].scatter(x, y, z, c=z, cmap='viridis', alpha=0.8)\n",
    "    axes[i].view_init(elev=30, azim=45)\n",
    "    axes[i].set_title(f'{target_id}', fontsize=10, pad=10)\n",
    "\n",
    "# Add shared colorbar\n",
    "cbar_ax = fig.add_axes([0.92, 0.15, 0.02, 0.7])\n",
    "fig.colorbar(sc, cax=cbar_ax, label='z (depth)', orientation='vertical')\n",
    "\n",
    "# Adjust layout\n",
    "fig.subplots_adjust(left=0.05, right=0.9, top=0.95, bottom=0.05, wspace=0.4, hspace=0.6)\n",
    "\n",
    "# Show plot\n",
    "plt.show()"
   ]
  },
  {
   "cell_type": "markdown",
   "id": "ea5a5c42",
   "metadata": {
    "papermill": {
     "duration": 0.017265,
     "end_time": "2025-05-26T19:28:53.043266",
     "exception": false,
     "start_time": "2025-05-26T19:28:53.026001",
     "status": "completed"
    },
    "tags": []
   },
   "source": [
    "## Gotennet"
   ]
  },
  {
   "cell_type": "code",
   "execution_count": 17,
   "id": "419ca62a",
   "metadata": {
    "execution": {
     "iopub.execute_input": "2025-05-26T19:28:53.078667Z",
     "iopub.status.busy": "2025-05-26T19:28:53.078389Z",
     "iopub.status.idle": "2025-05-26T19:28:53.082817Z",
     "shell.execute_reply": "2025-05-26T19:28:53.082277Z"
    },
    "papermill": {
     "duration": 0.023618,
     "end_time": "2025-05-26T19:28:53.083875",
     "exception": false,
     "start_time": "2025-05-26T19:28:53.060257",
     "status": "completed"
    },
    "tags": []
   },
   "outputs": [],
   "source": [
    "# Define loss function for 3D coordinate prediction\n",
    "def rmsd_loss(pred, target, mask=None):\n",
    "    \"\"\"\n",
    "    Root Mean Square Deviation (RMSD) loss function with optional masking for NaN values.\n",
    "    Lower RMSD indicates better structural similarity.\n",
    "    \n",
    "    Args:\n",
    "        pred: Predicted coordinates, shape (n_nucleotides, 3)\n",
    "        target: Target coordinates, shape (n_nucleotides, 3)\n",
    "        mask: Optional mask for valid values, shape (n_nucleotides,)\n",
    "    \"\"\"\n",
    "    squared_diff = torch.sum((pred - target) ** 2, dim=1)\n",
    "    \n",
    "    if mask is not None:\n",
    "        # Apply mask to consider only valid coordinates\n",
    "        # Ensure we don't divide by zero by adding a small epsilon to the sum\n",
    "        masked_squared_diff = squared_diff * mask\n",
    "        mean_squared_diff = torch.sum(masked_squared_diff) / (torch.sum(mask) + 1e-10)\n",
    "    else:\n",
    "        mean_squared_diff = torch.mean(squared_diff)\n",
    "    \n",
    "    rmsd = torch.sqrt(mean_squared_diff)\n",
    "    return rmsd"
   ]
  },
  {
   "cell_type": "code",
   "execution_count": 18,
   "id": "9e1ded2e",
   "metadata": {
    "execution": {
     "iopub.execute_input": "2025-05-26T19:28:53.119184Z",
     "iopub.status.busy": "2025-05-26T19:28:53.118901Z",
     "iopub.status.idle": "2025-05-26T19:28:53.130090Z",
     "shell.execute_reply": "2025-05-26T19:28:53.129611Z"
    },
    "papermill": {
     "duration": 0.03001,
     "end_time": "2025-05-26T19:28:53.131055",
     "exception": false,
     "start_time": "2025-05-26T19:28:53.101045",
     "status": "completed"
    },
    "tags": []
   },
   "outputs": [],
   "source": [
    "def calculate_distance_matrix(X,Y,epsilon=1e-4):\n",
    "    return (torch.square(X[:,None]-Y[None,:])+epsilon).sum(-1).sqrt()\n",
    "\n",
    "\n",
    "def dRMSD(pred_x,\n",
    "          pred_y,\n",
    "          gt_x,\n",
    "          gt_y,\n",
    "          epsilon=1e-4,Z=10,d_clamp=None):\n",
    "    pred_dm=calculate_distance_matrix(pred_x,pred_y)\n",
    "    gt_dm=calculate_distance_matrix(gt_x,gt_y)\n",
    "\n",
    "\n",
    "\n",
    "    mask=~torch.isnan(gt_dm)\n",
    "    mask[torch.eye(mask.shape[0]).bool()]=False\n",
    "\n",
    "    if d_clamp is not None:\n",
    "        rmsd=(torch.square(pred_dm[mask]-gt_dm[mask])+epsilon).clip(0,d_clamp**2)\n",
    "    else:\n",
    "        rmsd=torch.square(pred_dm[mask]-gt_dm[mask])+epsilon\n",
    "\n",
    "    return rmsd.sqrt().mean()/Z\n",
    "\n",
    "def local_dRMSD(pred_x,\n",
    "          pred_y,\n",
    "          gt_x,\n",
    "          gt_y,\n",
    "          epsilon=1e-4,Z=10,d_clamp=30):\n",
    "    pred_dm=calculate_distance_matrix(pred_x,pred_y)\n",
    "    gt_dm=calculate_distance_matrix(gt_x,gt_y)\n",
    "\n",
    "\n",
    "\n",
    "    mask=(~torch.isnan(gt_dm))*(gt_dm<d_clamp)\n",
    "    mask[torch.eye(mask.shape[0]).bool()]=False\n",
    "\n",
    "\n",
    "\n",
    "    rmsd=torch.square(pred_dm[mask]-gt_dm[mask])+epsilon\n",
    "    # rmsd=(torch.square(pred_dm[mask]-gt_dm[mask])+epsilon).sqrt()/Z\n",
    "    #rmsd=torch.abs(pred_dm[mask]-gt_dm[mask])/Z\n",
    "    return rmsd.sqrt().mean()/Z\n",
    "\n",
    "def dRMAE(pred_x,\n",
    "          pred_y,\n",
    "          gt_x,\n",
    "          gt_y,\n",
    "          epsilon=1e-4,Z=10,d_clamp=None):\n",
    "    pred_dm=calculate_distance_matrix(pred_x,pred_y)\n",
    "    gt_dm=calculate_distance_matrix(gt_x,gt_y)\n",
    "\n",
    "\n",
    "\n",
    "    mask=~torch.isnan(gt_dm)\n",
    "    mask[torch.eye(mask.shape[0]).bool()]=False\n",
    "\n",
    "    rmsd=torch.abs(pred_dm[mask]-gt_dm[mask])\n",
    "\n",
    "    return rmsd.mean()/Z\n",
    "\n",
    "def align_svd_mae(input, target, Z=10):\n",
    "    \"\"\"\n",
    "    Aligns the input (Nx3) to target (Nx3) using SVD-based Procrustes alignment\n",
    "    and computes RMSD loss.\n",
    "    \n",
    "    Args:\n",
    "        input (torch.Tensor): Nx3 tensor representing the input points.\n",
    "        target (torch.Tensor): Nx3 tensor representing the target points.\n",
    "    \n",
    "    Returns:\n",
    "        aligned_input (torch.Tensor): Nx3 aligned input.\n",
    "        rmsd_loss (torch.Tensor): RMSD loss.\n",
    "    \"\"\"\n",
    "    assert input.shape == target.shape, \"Input and target must have the same shape\"\n",
    "\n",
    "    #mask \n",
    "    mask=~torch.isnan(target.sum(-1))\n",
    "\n",
    "    input=input[mask]\n",
    "    target=target[mask]\n",
    "    \n",
    "    # Compute centroids\n",
    "    centroid_input = input.mean(dim=0, keepdim=True)\n",
    "    centroid_target = target.mean(dim=0, keepdim=True)\n",
    "\n",
    "    # Center the points\n",
    "    input_centered = input - centroid_input.detach()\n",
    "    target_centered = target - centroid_target\n",
    "\n",
    "    # Compute covariance matrix\n",
    "    cov_matrix = input_centered.T @ target_centered\n",
    "\n",
    "    # SVD to find optimal rotation\n",
    "    U, S, Vt = torch.svd(cov_matrix)\n",
    "\n",
    "    # Compute rotation matrix\n",
    "    R = Vt @ U.T\n",
    "\n",
    "    # Ensure a proper rotation (det(R) = 1, no reflection)\n",
    "    if torch.det(R) < 0:\n",
    "        Vt[-1, :] *= -1\n",
    "        R = Vt @ U.T\n",
    "\n",
    "    # Rotate input\n",
    "    aligned_input = (input_centered @ R.T.detach()) + centroid_target.detach()\n",
    "\n",
    "    # # Compute RMSD loss\n",
    "    # rmsd_loss = torch.sqrt(((aligned_input - target) ** 2).mean())\n",
    "\n",
    "    # rmsd_loss = torch.sqrt(((aligned_input - target) ** 2).mean())\n",
    "    \n",
    "    # return aligned_input, rmsd_loss\n",
    "    return torch.abs(aligned_input-target).mean()/Z"
   ]
  },
  {
   "cell_type": "code",
   "execution_count": 19,
   "id": "3f86ba06",
   "metadata": {
    "execution": {
     "iopub.execute_input": "2025-05-26T19:28:53.166145Z",
     "iopub.status.busy": "2025-05-26T19:28:53.165936Z",
     "iopub.status.idle": "2025-05-26T19:28:53.171471Z",
     "shell.execute_reply": "2025-05-26T19:28:53.170920Z"
    },
    "papermill": {
     "duration": 0.024228,
     "end_time": "2025-05-26T19:28:53.172513",
     "exception": false,
     "start_time": "2025-05-26T19:28:53.148285",
     "status": "completed"
    },
    "tags": []
   },
   "outputs": [],
   "source": [
    "# ----------- Model Wrapper -----------\n",
    "class GotenNetRNA(nn.Module):\n",
    "    def __init__(self, num_atom_types=4, hidden_dim=256):\n",
    "        super().__init__()\n",
    "        self.embedding = nn.Embedding(num_atom_types, hidden_dim)\n",
    "\n",
    "        self.model = GotenNet(\n",
    "            dim=hidden_dim,\n",
    "            max_degree=2,\n",
    "            depth=1,\n",
    "            heads=2,\n",
    "            dim_head=32,\n",
    "            dim_edge_refinement=hidden_dim,\n",
    "            return_coors=False\n",
    "        )\n",
    "\n",
    "        self.output_proj = nn.Linear(hidden_dim, 3)\n",
    "\n",
    "    def forward(self, data):\n",
    "        atom_ids = torch.argmax(data.x, dim=1).unsqueeze(0)  # (1, N)\n",
    "        N = atom_ids.size(1)\n",
    "        device = atom_ids.device\n",
    "\n",
    "        adj = torch.zeros((1, N, N), dtype=torch.bool, device=device)\n",
    "        src, dst = data.edge_index\n",
    "        adj[0, src, dst] = 1\n",
    "\n",
    "        coors = torch.zeros((1, N, 3), device=device)  # dummy input\n",
    "\n",
    "        invariant, _ = self.model(atom_ids, adj_mat=adj, coors=coors)\n",
    "        out = self.output_proj(invariant)\n",
    "        return out.squeeze(0)  # (N, 3)"
   ]
  },
  {
   "cell_type": "code",
   "execution_count": 20,
   "id": "370b7c94",
   "metadata": {
    "execution": {
     "iopub.execute_input": "2025-05-26T19:28:53.207869Z",
     "iopub.status.busy": "2025-05-26T19:28:53.207648Z",
     "iopub.status.idle": "2025-05-26T19:28:53.216619Z",
     "shell.execute_reply": "2025-05-26T19:28:53.216051Z"
    },
    "papermill": {
     "duration": 0.028023,
     "end_time": "2025-05-26T19:28:53.217588",
     "exception": false,
     "start_time": "2025-05-26T19:28:53.189565",
     "status": "completed"
    },
    "tags": []
   },
   "outputs": [],
   "source": [
    "def train(model, train_loader, optimizer, device):\n",
    "    model.train()\n",
    "    total_loss = 0\n",
    "    loss_values = []\n",
    "    # Create tqdm progress bar with loss display\n",
    "    pbar = tqdm(train_loader, desc='Training')\n",
    "    \n",
    "    for data in pbar:\n",
    "        data = data.to(device)\n",
    "        optimizer.zero_grad()\n",
    "        \n",
    "        # Forward pass\n",
    "        pred = model(data)\n",
    "        \n",
    "        # Calculate loss if labels exist\n",
    "        if data.y is not None:\n",
    "            # Use mask if available\n",
    "            if hasattr(data, 'mask') and data.mask is not None:\n",
    "                loss = dRMAE(pred,pred,data.y,data.y) + align_svd_mae(pred, data.y)\n",
    "                # loss = rmsd_loss(pred, data.y, data.mask)\n",
    "            else:\n",
    "                loss = dRMAE(pred,pred,data.y,data.y) + align_svd_mae(pred, data.y)\n",
    "                # loss = rmsd_loss(pred, data.y)\n",
    "                \n",
    "            loss.backward()\n",
    "            optimizer.step()\n",
    "            total_loss += loss.item()\n",
    "            loss_values.append(loss.item())\n",
    "            \n",
    "            # Update progress bar with current loss\n",
    "            pbar.set_postfix({'loss': f'{loss.item():.4f}', 'smooth loss': np.mean(loss_values[-100:])})\n",
    "    \n",
    "    avg_loss = total_loss / len(train_loader)\n",
    "    return avg_loss\n",
    "\n",
    "def validate(model, val_loader, device):\n",
    "    model.eval()\n",
    "    total_loss = 0\n",
    "    \n",
    "    # Create tqdm progress bar with loss display\n",
    "    pbar = tqdm(val_loader, desc='Validation')\n",
    "    \n",
    "    with torch.no_grad():\n",
    "        for data in pbar:\n",
    "            data = data.to(device)\n",
    "            pred = model(data)\n",
    "            \n",
    "            if data.y is not None:\n",
    "                # Use mask if available\n",
    "                if hasattr(data, 'mask') and data.mask is not None:\n",
    "                    loss = dRMAE(pred,pred,data.y,data.y) + align_svd_mae(pred, data.y)\n",
    "                    # loss = rmsd_loss(pred, data.y, data.mask)\n",
    "                else:\n",
    "                    loss = dRMAE(pred,pred,data.y,data.y) + align_svd_mae(pred, data.y)\n",
    "                    # loss = rmsd_loss(pred, data.y)\n",
    "                total_loss += loss.item()\n",
    "                \n",
    "                # Update progress bar with current loss\n",
    "                pbar.set_postfix({'loss': f'{loss.item():.4f}'})\n",
    "    \n",
    "    avg_loss = total_loss / len(val_loader)\n",
    "    return avg_loss\n",
    "\n",
    "# Function to make predictions on test data\n",
    "def predict(model, test_loader, device):\n",
    "    model.eval()\n",
    "    predictions = {}\n",
    "    \n",
    "    with torch.no_grad():\n",
    "        for data in test_loader:\n",
    "            data = data.to(device)\n",
    "            pred = model(data)\n",
    "            \n",
    "            # Store predictions\n",
    "            target_id = data.target_id\n",
    "            \n",
    "            # If we have ground truth and mask, report metrics\n",
    "            if hasattr(data, 'y') and data.y is not None:\n",
    "                if hasattr(data, 'mask') and data.mask is not None:\n",
    "                    loss = rmsd_loss(pred, data.y, data.mask).item()\n",
    "                else:\n",
    "                    loss = rmsd_loss(pred, data.y).item()\n",
    "                print(f\"Prediction for {target_id}, RMSD: {loss:.4f}\")\n",
    "            \n",
    "            predictions[target_id] = pred.cpu().numpy()\n",
    "    \n",
    "    return predictions"
   ]
  },
  {
   "cell_type": "code",
   "execution_count": 21,
   "id": "db130204",
   "metadata": {
    "execution": {
     "iopub.execute_input": "2025-05-26T19:28:53.253003Z",
     "iopub.status.busy": "2025-05-26T19:28:53.252767Z",
     "iopub.status.idle": "2025-05-26T19:28:53.463493Z",
     "shell.execute_reply": "2025-05-26T19:28:53.462899Z"
    },
    "papermill": {
     "duration": 0.230249,
     "end_time": "2025-05-26T19:28:53.464901",
     "exception": false,
     "start_time": "2025-05-26T19:28:53.234652",
     "status": "completed"
    },
    "tags": []
   },
   "outputs": [],
   "source": [
    "# ----------- Setup -----------\n",
    "device = torch.device('cuda' if torch.cuda.is_available() else 'cpu')\n",
    "model = GotenNetRNA().to(device)\n",
    "optimizer = AdamW(model.parameters(), lr=1e-3, weight_decay=1e-2)\n",
    "criterion = nn.L1Loss()\n",
    "scheduler = torch.optim.lr_scheduler.ReduceLROnPlateau(optimizer, mode='min', factor=0.5, patience=3)\n",
    "num_epochs = 600\n",
    "batch_size = 1\n",
    "num_workers = 4\n",
    "early_stopping_patience = 100\n",
    "best_val_loss = float(\"inf\")"
   ]
  },
  {
   "cell_type": "code",
   "execution_count": 22,
   "id": "afc54345",
   "metadata": {
    "execution": {
     "iopub.execute_input": "2025-05-26T19:28:53.552055Z",
     "iopub.status.busy": "2025-05-26T19:28:53.551548Z",
     "iopub.status.idle": "2025-05-26T19:28:53.556005Z",
     "shell.execute_reply": "2025-05-26T19:28:53.555397Z"
    },
    "papermill": {
     "duration": 0.074079,
     "end_time": "2025-05-26T19:28:53.556969",
     "exception": false,
     "start_time": "2025-05-26T19:28:53.482890",
     "status": "completed"
    },
    "tags": []
   },
   "outputs": [
    {
     "name": "stdout",
     "output_type": "stream",
     "text": [
      "Using device: cuda\n"
     ]
    }
   ],
   "source": [
    "# Setup for training\n",
    "device = 'cpu'\n",
    "if torch.cuda.is_available():\n",
    "    device = 'cuda'\n",
    "elif torch.backends.mps.is_available():\n",
    "    device = 'mps'\n",
    "device = torch.device(device)\n",
    "print(f\"Using device: {device}\")"
   ]
  },
  {
   "cell_type": "code",
   "execution_count": 23,
   "id": "fd77712d",
   "metadata": {
    "execution": {
     "iopub.execute_input": "2025-05-26T19:28:53.593068Z",
     "iopub.status.busy": "2025-05-26T19:28:53.592858Z",
     "iopub.status.idle": "2025-05-26T19:28:53.597622Z",
     "shell.execute_reply": "2025-05-26T19:28:53.596886Z"
    },
    "papermill": {
     "duration": 0.023948,
     "end_time": "2025-05-26T19:28:53.598685",
     "exception": false,
     "start_time": "2025-05-26T19:28:53.574737",
     "status": "completed"
    },
    "tags": []
   },
   "outputs": [
    {
     "name": "stderr",
     "output_type": "stream",
     "text": [
      "/usr/local/lib/python3.11/dist-packages/torch_geometric/deprecation.py:26: UserWarning: 'data.DataLoader' is deprecated, use 'loader.DataLoader' instead\n",
      "  warnings.warn(out)\n"
     ]
    }
   ],
   "source": [
    "# Create data loaders\n",
    "train_loader = DataLoader(train_graphs, batch_size=1, shuffle=True, num_workers=4)\n",
    "val_loader = DataLoader(val_graphs, batch_size=1, shuffle=False, num_workers=4)"
   ]
  },
  {
   "cell_type": "code",
   "execution_count": 24,
   "id": "5e532bef",
   "metadata": {
    "execution": {
     "iopub.execute_input": "2025-05-26T19:28:53.634593Z",
     "iopub.status.busy": "2025-05-26T19:28:53.634044Z",
     "iopub.status.idle": "2025-05-26T21:37:07.433616Z",
     "shell.execute_reply": "2025-05-26T21:37:07.432385Z"
    },
    "papermill": {
     "duration": 7693.818652,
     "end_time": "2025-05-26T21:37:07.434910",
     "exception": false,
     "start_time": "2025-05-26T19:28:53.616258",
     "status": "completed"
    },
    "tags": []
   },
   "outputs": [
    {
     "name": "stdout",
     "output_type": "stream",
     "text": [
      "Starting training...\n"
     ]
    },
    {
     "name": "stderr",
     "output_type": "stream",
     "text": [
      "Training: 100%|██████████| 575/575 [00:56<00:00, 10.15it/s, loss=7.4227, smooth loss=3.25]\n",
      "Validation: 100%|██████████| 575/575 [00:11<00:00, 48.26it/s, loss=3.2794]\n"
     ]
    },
    {
     "name": "stdout",
     "output_type": "stream",
     "text": [
      "Epoch    1/600, Train Loss: 2.7938, Val Loss: 2.7606, LR: 0.001000\n"
     ]
    },
    {
     "name": "stderr",
     "output_type": "stream",
     "text": [
      "Training: 100%|██████████| 575/575 [00:22<00:00, 25.22it/s, loss=2.3433, smooth loss=2.48]\n",
      "Validation: 100%|██████████| 575/575 [00:11<00:00, 48.18it/s, loss=3.3388]\n"
     ]
    },
    {
     "name": "stdout",
     "output_type": "stream",
     "text": [
      "Epoch    2/600, Train Loss: 2.7621, Val Loss: 2.7347, LR: 0.001000\n"
     ]
    },
    {
     "name": "stderr",
     "output_type": "stream",
     "text": [
      "Training: 100%|██████████| 575/575 [00:22<00:00, 25.01it/s, loss=2.8230, smooth loss=2.58]\n",
      "Validation: 100%|██████████| 575/575 [00:12<00:00, 47.73it/s, loss=3.2460]\n"
     ]
    },
    {
     "name": "stdout",
     "output_type": "stream",
     "text": [
      "Epoch    3/600, Train Loss: 2.7291, Val Loss: 2.7218, LR: 0.001000\n"
     ]
    },
    {
     "name": "stderr",
     "output_type": "stream",
     "text": [
      "Training: 100%|██████████| 575/575 [00:22<00:00, 25.12it/s, loss=1.8034, smooth loss=3.01]\n",
      "Validation: 100%|██████████| 575/575 [00:12<00:00, 47.33it/s, loss=3.1555]\n"
     ]
    },
    {
     "name": "stdout",
     "output_type": "stream",
     "text": [
      "Epoch    4/600, Train Loss: 2.7354, Val Loss: 2.7677, LR: 0.001000\n"
     ]
    },
    {
     "name": "stderr",
     "output_type": "stream",
     "text": [
      "Training: 100%|██████████| 575/575 [00:22<00:00, 25.32it/s, loss=1.5645, smooth loss=3.13]\n",
      "Validation: 100%|██████████| 575/575 [00:12<00:00, 47.02it/s, loss=3.2535]\n"
     ]
    },
    {
     "name": "stdout",
     "output_type": "stream",
     "text": [
      "Epoch    5/600, Train Loss: 2.7456, Val Loss: 2.7012, LR: 0.001000\n"
     ]
    },
    {
     "name": "stderr",
     "output_type": "stream",
     "text": [
      "Training: 100%|██████████| 575/575 [00:22<00:00, 25.07it/s, loss=4.2311, smooth loss=2.77]\n",
      "Validation: 100%|██████████| 575/575 [00:12<00:00, 47.04it/s, loss=3.1796]\n"
     ]
    },
    {
     "name": "stdout",
     "output_type": "stream",
     "text": [
      "Epoch    6/600, Train Loss: 2.7371, Val Loss: 2.7271, LR: 0.001000\n"
     ]
    },
    {
     "name": "stderr",
     "output_type": "stream",
     "text": [
      "Training: 100%|██████████| 575/575 [00:22<00:00, 25.21it/s, loss=1.4890, smooth loss=3]\n",
      "Validation: 100%|██████████| 575/575 [00:12<00:00, 46.89it/s, loss=3.2225]\n"
     ]
    },
    {
     "name": "stdout",
     "output_type": "stream",
     "text": [
      "Epoch    7/600, Train Loss: 2.7159, Val Loss: 2.6979, LR: 0.001000\n"
     ]
    },
    {
     "name": "stderr",
     "output_type": "stream",
     "text": [
      "Training: 100%|██████████| 575/575 [00:23<00:00, 24.91it/s, loss=1.1154, smooth loss=2.29]\n",
      "Validation: 100%|██████████| 575/575 [00:11<00:00, 47.98it/s, loss=3.3047]\n"
     ]
    },
    {
     "name": "stdout",
     "output_type": "stream",
     "text": [
      "Epoch    8/600, Train Loss: 2.7052, Val Loss: 2.6900, LR: 0.001000\n"
     ]
    },
    {
     "name": "stderr",
     "output_type": "stream",
     "text": [
      "Training: 100%|██████████| 575/575 [00:22<00:00, 25.07it/s, loss=3.8802, smooth loss=2.63]\n",
      "Validation: 100%|██████████| 575/575 [00:12<00:00, 47.61it/s, loss=3.3997]\n"
     ]
    },
    {
     "name": "stdout",
     "output_type": "stream",
     "text": [
      "Epoch    9/600, Train Loss: 2.6942, Val Loss: 2.7108, LR: 0.001000\n"
     ]
    },
    {
     "name": "stderr",
     "output_type": "stream",
     "text": [
      "Training: 100%|██████████| 575/575 [00:22<00:00, 25.09it/s, loss=2.8418, smooth loss=2.81]\n",
      "Validation: 100%|██████████| 575/575 [00:11<00:00, 48.31it/s, loss=3.1913]\n"
     ]
    },
    {
     "name": "stdout",
     "output_type": "stream",
     "text": [
      "Epoch   10/600, Train Loss: 2.6854, Val Loss: 2.6923, LR: 0.001000\n"
     ]
    },
    {
     "name": "stderr",
     "output_type": "stream",
     "text": [
      "Training: 100%|██████████| 575/575 [00:22<00:00, 25.02it/s, loss=1.9560, smooth loss=2.6]\n",
      "Validation: 100%|██████████| 575/575 [00:11<00:00, 47.98it/s, loss=3.1549]\n"
     ]
    },
    {
     "name": "stdout",
     "output_type": "stream",
     "text": [
      "Epoch   11/600, Train Loss: 2.6749, Val Loss: 2.6588, LR: 0.001000\n"
     ]
    },
    {
     "name": "stderr",
     "output_type": "stream",
     "text": [
      "Training: 100%|██████████| 575/575 [00:22<00:00, 25.03it/s, loss=1.0838, smooth loss=2.51]\n",
      "Validation: 100%|██████████| 575/575 [00:12<00:00, 47.48it/s, loss=3.1421]\n"
     ]
    },
    {
     "name": "stdout",
     "output_type": "stream",
     "text": [
      "Epoch   12/600, Train Loss: 2.6706, Val Loss: 2.6603, LR: 0.001000\n"
     ]
    },
    {
     "name": "stderr",
     "output_type": "stream",
     "text": [
      "Training: 100%|██████████| 575/575 [00:22<00:00, 25.23it/s, loss=2.3498, smooth loss=2.25]\n",
      "Validation: 100%|██████████| 575/575 [00:12<00:00, 47.87it/s, loss=3.3665]\n"
     ]
    },
    {
     "name": "stdout",
     "output_type": "stream",
     "text": [
      "Epoch   13/600, Train Loss: 2.6631, Val Loss: 2.6847, LR: 0.001000\n"
     ]
    },
    {
     "name": "stderr",
     "output_type": "stream",
     "text": [
      "Training: 100%|██████████| 575/575 [00:22<00:00, 25.30it/s, loss=1.3465, smooth loss=2.37]\n",
      "Validation: 100%|██████████| 575/575 [00:12<00:00, 46.86it/s, loss=3.2600]\n"
     ]
    },
    {
     "name": "stdout",
     "output_type": "stream",
     "text": [
      "Epoch   14/600, Train Loss: 2.6669, Val Loss: 2.6507, LR: 0.001000\n"
     ]
    },
    {
     "name": "stderr",
     "output_type": "stream",
     "text": [
      "Training: 100%|██████████| 575/575 [00:22<00:00, 25.40it/s, loss=1.5228, smooth loss=2.66]\n",
      "Validation: 100%|██████████| 575/575 [00:12<00:00, 47.30it/s, loss=3.1985]\n"
     ]
    },
    {
     "name": "stdout",
     "output_type": "stream",
     "text": [
      "Epoch   15/600, Train Loss: 2.6763, Val Loss: 2.6634, LR: 0.001000\n"
     ]
    },
    {
     "name": "stderr",
     "output_type": "stream",
     "text": [
      "Training: 100%|██████████| 575/575 [00:22<00:00, 25.48it/s, loss=1.9537, smooth loss=2.52]\n",
      "Validation: 100%|██████████| 575/575 [00:12<00:00, 46.25it/s, loss=3.1828]\n"
     ]
    },
    {
     "name": "stdout",
     "output_type": "stream",
     "text": [
      "Epoch   16/600, Train Loss: 2.6596, Val Loss: 2.6485, LR: 0.001000\n"
     ]
    },
    {
     "name": "stderr",
     "output_type": "stream",
     "text": [
      "Training: 100%|██████████| 575/575 [00:22<00:00, 25.06it/s, loss=2.6515, smooth loss=2.39]\n",
      "Validation: 100%|██████████| 575/575 [00:11<00:00, 48.31it/s, loss=3.1742]\n"
     ]
    },
    {
     "name": "stdout",
     "output_type": "stream",
     "text": [
      "Epoch   17/600, Train Loss: 2.6582, Val Loss: 2.6398, LR: 0.001000\n"
     ]
    },
    {
     "name": "stderr",
     "output_type": "stream",
     "text": [
      "Training: 100%|██████████| 575/575 [00:22<00:00, 25.06it/s, loss=1.5438, smooth loss=2.92]\n",
      "Validation: 100%|██████████| 575/575 [00:11<00:00, 48.24it/s, loss=3.2934]\n"
     ]
    },
    {
     "name": "stdout",
     "output_type": "stream",
     "text": [
      "Epoch   18/600, Train Loss: 2.6481, Val Loss: 2.6839, LR: 0.001000\n"
     ]
    },
    {
     "name": "stderr",
     "output_type": "stream",
     "text": [
      "Training: 100%|██████████| 575/575 [00:23<00:00, 24.94it/s, loss=2.0958, smooth loss=2.72]\n",
      "Validation: 100%|██████████| 575/575 [00:11<00:00, 48.34it/s, loss=3.1034]\n"
     ]
    },
    {
     "name": "stdout",
     "output_type": "stream",
     "text": [
      "Epoch   19/600, Train Loss: 2.6533, Val Loss: 2.6372, LR: 0.001000\n"
     ]
    },
    {
     "name": "stderr",
     "output_type": "stream",
     "text": [
      "Training: 100%|██████████| 575/575 [00:22<00:00, 25.04it/s, loss=16.0327, smooth loss=2.78]\n",
      "Validation: 100%|██████████| 575/575 [00:11<00:00, 48.44it/s, loss=3.1448]\n"
     ]
    },
    {
     "name": "stdout",
     "output_type": "stream",
     "text": [
      "Epoch   20/600, Train Loss: 2.6509, Val Loss: 2.6280, LR: 0.001000\n"
     ]
    },
    {
     "name": "stderr",
     "output_type": "stream",
     "text": [
      "Training: 100%|██████████| 575/575 [00:22<00:00, 25.01it/s, loss=1.3731, smooth loss=3.16]\n",
      "Validation: 100%|██████████| 575/575 [00:11<00:00, 48.18it/s, loss=3.1667]\n"
     ]
    },
    {
     "name": "stdout",
     "output_type": "stream",
     "text": [
      "Epoch   21/600, Train Loss: 2.6477, Val Loss: 2.6442, LR: 0.001000\n"
     ]
    },
    {
     "name": "stderr",
     "output_type": "stream",
     "text": [
      "Training: 100%|██████████| 575/575 [00:22<00:00, 25.06it/s, loss=14.5654, smooth loss=2.96]\n",
      "Validation: 100%|██████████| 575/575 [00:12<00:00, 46.74it/s, loss=3.1167]\n"
     ]
    },
    {
     "name": "stdout",
     "output_type": "stream",
     "text": [
      "Epoch   22/600, Train Loss: 2.6840, Val Loss: 2.6518, LR: 0.001000\n"
     ]
    },
    {
     "name": "stderr",
     "output_type": "stream",
     "text": [
      "Training: 100%|██████████| 575/575 [00:22<00:00, 25.30it/s, loss=1.8143, smooth loss=2.53]\n",
      "Validation: 100%|██████████| 575/575 [00:12<00:00, 46.89it/s, loss=3.2072]\n"
     ]
    },
    {
     "name": "stdout",
     "output_type": "stream",
     "text": [
      "Epoch   23/600, Train Loss: 2.6577, Val Loss: 2.6285, LR: 0.001000\n"
     ]
    },
    {
     "name": "stderr",
     "output_type": "stream",
     "text": [
      "Training: 100%|██████████| 575/575 [00:22<00:00, 25.28it/s, loss=1.1950, smooth loss=2.28]\n",
      "Validation: 100%|██████████| 575/575 [00:12<00:00, 47.29it/s, loss=3.2224]\n"
     ]
    },
    {
     "name": "stdout",
     "output_type": "stream",
     "text": [
      "Epoch   24/600, Train Loss: 2.6512, Val Loss: 2.6344, LR: 0.000500\n"
     ]
    },
    {
     "name": "stderr",
     "output_type": "stream",
     "text": [
      "Training: 100%|██████████| 575/575 [00:22<00:00, 25.24it/s, loss=1.4846, smooth loss=2.46]\n",
      "Validation: 100%|██████████| 575/575 [00:12<00:00, 47.57it/s, loss=3.2287]\n"
     ]
    },
    {
     "name": "stdout",
     "output_type": "stream",
     "text": [
      "Epoch   25/600, Train Loss: 2.6532, Val Loss: 2.6482, LR: 0.000500\n"
     ]
    },
    {
     "name": "stderr",
     "output_type": "stream",
     "text": [
      "Training: 100%|██████████| 575/575 [00:23<00:00, 24.71it/s, loss=1.4464, smooth loss=2.44]\n",
      "Validation: 100%|██████████| 575/575 [00:11<00:00, 48.50it/s, loss=3.1747]\n"
     ]
    },
    {
     "name": "stdout",
     "output_type": "stream",
     "text": [
      "Epoch   26/600, Train Loss: 2.6461, Val Loss: 2.6306, LR: 0.000500\n"
     ]
    },
    {
     "name": "stderr",
     "output_type": "stream",
     "text": [
      "Training: 100%|██████████| 575/575 [00:22<00:00, 25.05it/s, loss=3.2439, smooth loss=2.43]\n",
      "Validation: 100%|██████████| 575/575 [00:11<00:00, 48.77it/s, loss=3.2423]\n"
     ]
    },
    {
     "name": "stdout",
     "output_type": "stream",
     "text": [
      "Epoch   27/600, Train Loss: 2.6233, Val Loss: 2.6298, LR: 0.000500\n"
     ]
    },
    {
     "name": "stderr",
     "output_type": "stream",
     "text": [
      "Training: 100%|██████████| 575/575 [00:22<00:00, 25.20it/s, loss=2.0590, smooth loss=2.71]\n",
      "Validation: 100%|██████████| 575/575 [00:11<00:00, 48.22it/s, loss=3.2037]\n"
     ]
    },
    {
     "name": "stdout",
     "output_type": "stream",
     "text": [
      "Epoch   28/600, Train Loss: 2.6176, Val Loss: 2.6209, LR: 0.000500\n"
     ]
    },
    {
     "name": "stderr",
     "output_type": "stream",
     "text": [
      "Training: 100%|██████████| 575/575 [00:22<00:00, 25.14it/s, loss=1.6775, smooth loss=2.78]\n",
      "Validation: 100%|██████████| 575/575 [00:11<00:00, 48.64it/s, loss=3.1600]\n"
     ]
    },
    {
     "name": "stdout",
     "output_type": "stream",
     "text": [
      "Epoch   29/600, Train Loss: 2.6097, Val Loss: 2.6007, LR: 0.000500\n"
     ]
    },
    {
     "name": "stderr",
     "output_type": "stream",
     "text": [
      "Training: 100%|██████████| 575/575 [00:23<00:00, 24.95it/s, loss=17.0092, smooth loss=2.63]\n",
      "Validation: 100%|██████████| 575/575 [00:11<00:00, 48.35it/s, loss=3.2169]\n"
     ]
    },
    {
     "name": "stdout",
     "output_type": "stream",
     "text": [
      "Epoch   30/600, Train Loss: 2.6194, Val Loss: 2.6296, LR: 0.000500\n"
     ]
    },
    {
     "name": "stderr",
     "output_type": "stream",
     "text": [
      "Training: 100%|██████████| 575/575 [00:23<00:00, 24.97it/s, loss=2.7133, smooth loss=2.72]\n",
      "Validation: 100%|██████████| 575/575 [00:11<00:00, 47.93it/s, loss=3.1005]\n"
     ]
    },
    {
     "name": "stdout",
     "output_type": "stream",
     "text": [
      "Epoch   31/600, Train Loss: 2.6000, Val Loss: 2.5773, LR: 0.000500\n"
     ]
    },
    {
     "name": "stderr",
     "output_type": "stream",
     "text": [
      "Training: 100%|██████████| 575/575 [00:22<00:00, 25.19it/s, loss=2.0346, smooth loss=2.88]\n",
      "Validation: 100%|██████████| 575/575 [00:12<00:00, 47.47it/s, loss=3.0454]\n"
     ]
    },
    {
     "name": "stdout",
     "output_type": "stream",
     "text": [
      "Epoch   32/600, Train Loss: 2.5958, Val Loss: 2.5664, LR: 0.000500\n"
     ]
    },
    {
     "name": "stderr",
     "output_type": "stream",
     "text": [
      "Training: 100%|██████████| 575/575 [00:22<00:00, 25.22it/s, loss=1.8919, smooth loss=2.63]\n",
      "Validation: 100%|██████████| 575/575 [00:12<00:00, 47.65it/s, loss=3.1317]\n"
     ]
    },
    {
     "name": "stdout",
     "output_type": "stream",
     "text": [
      "Epoch   33/600, Train Loss: 2.5872, Val Loss: 2.5709, LR: 0.000500\n"
     ]
    },
    {
     "name": "stderr",
     "output_type": "stream",
     "text": [
      "Training: 100%|██████████| 575/575 [00:22<00:00, 25.02it/s, loss=1.5544, smooth loss=2.48]\n",
      "Validation: 100%|██████████| 575/575 [00:12<00:00, 47.20it/s, loss=3.0657]\n"
     ]
    },
    {
     "name": "stdout",
     "output_type": "stream",
     "text": [
      "Epoch   34/600, Train Loss: 2.5897, Val Loss: 2.5641, LR: 0.000500\n"
     ]
    },
    {
     "name": "stderr",
     "output_type": "stream",
     "text": [
      "Training: 100%|██████████| 575/575 [00:22<00:00, 25.11it/s, loss=7.5062, smooth loss=2.64]\n",
      "Validation: 100%|██████████| 575/575 [00:12<00:00, 47.35it/s, loss=3.2144]\n"
     ]
    },
    {
     "name": "stdout",
     "output_type": "stream",
     "text": [
      "Epoch   35/600, Train Loss: 2.5745, Val Loss: 2.5990, LR: 0.000500\n"
     ]
    },
    {
     "name": "stderr",
     "output_type": "stream",
     "text": [
      "Training: 100%|██████████| 575/575 [00:22<00:00, 25.37it/s, loss=1.0718, smooth loss=2.75]\n",
      "Validation: 100%|██████████| 575/575 [00:12<00:00, 47.81it/s, loss=3.0596]\n"
     ]
    },
    {
     "name": "stdout",
     "output_type": "stream",
     "text": [
      "Epoch   36/600, Train Loss: 2.5728, Val Loss: 2.5574, LR: 0.000500\n"
     ]
    },
    {
     "name": "stderr",
     "output_type": "stream",
     "text": [
      "Training: 100%|██████████| 575/575 [00:22<00:00, 25.17it/s, loss=1.5816, smooth loss=2.69]\n",
      "Validation: 100%|██████████| 575/575 [00:12<00:00, 47.80it/s, loss=3.0534]\n"
     ]
    },
    {
     "name": "stdout",
     "output_type": "stream",
     "text": [
      "Epoch   37/600, Train Loss: 2.5682, Val Loss: 2.5896, LR: 0.000500\n"
     ]
    },
    {
     "name": "stderr",
     "output_type": "stream",
     "text": [
      "Training: 100%|██████████| 575/575 [00:22<00:00, 25.27it/s, loss=1.9213, smooth loss=2.42]\n",
      "Validation: 100%|██████████| 575/575 [00:12<00:00, 47.68it/s, loss=3.0546]\n"
     ]
    },
    {
     "name": "stdout",
     "output_type": "stream",
     "text": [
      "Epoch   38/600, Train Loss: 2.5726, Val Loss: 2.5529, LR: 0.000500\n"
     ]
    },
    {
     "name": "stderr",
     "output_type": "stream",
     "text": [
      "Training: 100%|██████████| 575/575 [00:22<00:00, 25.24it/s, loss=1.4186, smooth loss=2.58]\n",
      "Validation: 100%|██████████| 575/575 [00:11<00:00, 48.02it/s, loss=3.0052]\n"
     ]
    },
    {
     "name": "stdout",
     "output_type": "stream",
     "text": [
      "Epoch   39/600, Train Loss: 2.5632, Val Loss: 2.5428, LR: 0.000500\n"
     ]
    },
    {
     "name": "stderr",
     "output_type": "stream",
     "text": [
      "Training: 100%|██████████| 575/575 [00:22<00:00, 25.09it/s, loss=1.4052, smooth loss=2.8]\n",
      "Validation: 100%|██████████| 575/575 [00:11<00:00, 48.01it/s, loss=3.0225]\n"
     ]
    },
    {
     "name": "stdout",
     "output_type": "stream",
     "text": [
      "Epoch   40/600, Train Loss: 2.5640, Val Loss: 2.5391, LR: 0.000500\n"
     ]
    },
    {
     "name": "stderr",
     "output_type": "stream",
     "text": [
      "Training: 100%|██████████| 575/575 [00:22<00:00, 25.05it/s, loss=2.2258, smooth loss=2.48]\n",
      "Validation: 100%|██████████| 575/575 [00:12<00:00, 47.80it/s, loss=2.9814]\n"
     ]
    },
    {
     "name": "stdout",
     "output_type": "stream",
     "text": [
      "Epoch   41/600, Train Loss: 2.5606, Val Loss: 2.5480, LR: 0.000500\n"
     ]
    },
    {
     "name": "stderr",
     "output_type": "stream",
     "text": [
      "Training: 100%|██████████| 575/575 [00:22<00:00, 25.31it/s, loss=5.9581, smooth loss=2.68]\n",
      "Validation: 100%|██████████| 575/575 [00:12<00:00, 47.90it/s, loss=3.0016]\n"
     ]
    },
    {
     "name": "stdout",
     "output_type": "stream",
     "text": [
      "Epoch   42/600, Train Loss: 2.5549, Val Loss: 2.5401, LR: 0.000500\n"
     ]
    },
    {
     "name": "stderr",
     "output_type": "stream",
     "text": [
      "Training: 100%|██████████| 575/575 [00:22<00:00, 25.17it/s, loss=1.6612, smooth loss=2.46]\n",
      "Validation: 100%|██████████| 575/575 [00:11<00:00, 48.35it/s, loss=3.0542]\n"
     ]
    },
    {
     "name": "stdout",
     "output_type": "stream",
     "text": [
      "Epoch   43/600, Train Loss: 2.5550, Val Loss: 2.5480, LR: 0.000500\n"
     ]
    },
    {
     "name": "stderr",
     "output_type": "stream",
     "text": [
      "Training: 100%|██████████| 575/575 [00:23<00:00, 24.71it/s, loss=4.8147, smooth loss=2.51]\n",
      "Validation: 100%|██████████| 575/575 [00:11<00:00, 49.23it/s, loss=3.0178]\n"
     ]
    },
    {
     "name": "stdout",
     "output_type": "stream",
     "text": [
      "Epoch   44/600, Train Loss: 2.5583, Val Loss: 2.5503, LR: 0.000250\n"
     ]
    },
    {
     "name": "stderr",
     "output_type": "stream",
     "text": [
      "Training: 100%|██████████| 575/575 [00:22<00:00, 25.07it/s, loss=5.6438, smooth loss=2.71]\n",
      "Validation: 100%|██████████| 575/575 [00:11<00:00, 48.10it/s, loss=2.9880]\n"
     ]
    },
    {
     "name": "stdout",
     "output_type": "stream",
     "text": [
      "Epoch   45/600, Train Loss: 2.5397, Val Loss: 2.5241, LR: 0.000250\n"
     ]
    },
    {
     "name": "stderr",
     "output_type": "stream",
     "text": [
      "Training: 100%|██████████| 575/575 [00:23<00:00, 24.63it/s, loss=1.0259, smooth loss=2.3]\n",
      "Validation: 100%|██████████| 575/575 [00:11<00:00, 48.75it/s, loss=3.0114]\n"
     ]
    },
    {
     "name": "stdout",
     "output_type": "stream",
     "text": [
      "Epoch   46/600, Train Loss: 2.5349, Val Loss: 2.5289, LR: 0.000250\n"
     ]
    },
    {
     "name": "stderr",
     "output_type": "stream",
     "text": [
      "Training: 100%|██████████| 575/575 [00:22<00:00, 25.05it/s, loss=1.8907, smooth loss=2.47]\n",
      "Validation: 100%|██████████| 575/575 [00:11<00:00, 48.85it/s, loss=2.9889]\n"
     ]
    },
    {
     "name": "stdout",
     "output_type": "stream",
     "text": [
      "Epoch   47/600, Train Loss: 2.5312, Val Loss: 2.5236, LR: 0.000250\n"
     ]
    },
    {
     "name": "stderr",
     "output_type": "stream",
     "text": [
      "Training: 100%|██████████| 575/575 [00:23<00:00, 24.90it/s, loss=1.8249, smooth loss=2.62]\n",
      "Validation: 100%|██████████| 575/575 [00:11<00:00, 48.63it/s, loss=2.9806]\n"
     ]
    },
    {
     "name": "stdout",
     "output_type": "stream",
     "text": [
      "Epoch   48/600, Train Loss: 2.5358, Val Loss: 2.5231, LR: 0.000250\n"
     ]
    },
    {
     "name": "stderr",
     "output_type": "stream",
     "text": [
      "Training: 100%|██████████| 575/575 [00:23<00:00, 24.82it/s, loss=2.9358, smooth loss=2.46]\n",
      "Validation: 100%|██████████| 575/575 [00:11<00:00, 48.16it/s, loss=2.9970]\n"
     ]
    },
    {
     "name": "stdout",
     "output_type": "stream",
     "text": [
      "Epoch   49/600, Train Loss: 2.5292, Val Loss: 2.5270, LR: 0.000250\n"
     ]
    },
    {
     "name": "stderr",
     "output_type": "stream",
     "text": [
      "Training: 100%|██████████| 575/575 [00:22<00:00, 25.15it/s, loss=6.4483, smooth loss=2.73]\n",
      "Validation: 100%|██████████| 575/575 [00:12<00:00, 47.80it/s, loss=2.9824]\n"
     ]
    },
    {
     "name": "stdout",
     "output_type": "stream",
     "text": [
      "Epoch   50/600, Train Loss: 2.5277, Val Loss: 2.5312, LR: 0.000250\n"
     ]
    },
    {
     "name": "stderr",
     "output_type": "stream",
     "text": [
      "Training: 100%|██████████| 575/575 [00:22<00:00, 25.09it/s, loss=6.5395, smooth loss=2.25]\n",
      "Validation: 100%|██████████| 575/575 [00:12<00:00, 47.83it/s, loss=2.9872]\n"
     ]
    },
    {
     "name": "stdout",
     "output_type": "stream",
     "text": [
      "Epoch   51/600, Train Loss: 2.5240, Val Loss: 2.5184, LR: 0.000250\n"
     ]
    },
    {
     "name": "stderr",
     "output_type": "stream",
     "text": [
      "Training: 100%|██████████| 575/575 [00:22<00:00, 25.13it/s, loss=3.7842, smooth loss=2.44]\n",
      "Validation: 100%|██████████| 575/575 [00:12<00:00, 47.07it/s, loss=2.9730]\n"
     ]
    },
    {
     "name": "stdout",
     "output_type": "stream",
     "text": [
      "Epoch   52/600, Train Loss: 2.5261, Val Loss: 2.5173, LR: 0.000250\n"
     ]
    },
    {
     "name": "stderr",
     "output_type": "stream",
     "text": [
      "Training: 100%|██████████| 575/575 [00:22<00:00, 25.31it/s, loss=0.9598, smooth loss=2.54]\n",
      "Validation: 100%|██████████| 575/575 [00:12<00:00, 47.41it/s, loss=3.0018]\n"
     ]
    },
    {
     "name": "stdout",
     "output_type": "stream",
     "text": [
      "Epoch   53/600, Train Loss: 2.5221, Val Loss: 2.5431, LR: 0.000250\n"
     ]
    },
    {
     "name": "stderr",
     "output_type": "stream",
     "text": [
      "Training: 100%|██████████| 575/575 [00:22<00:00, 25.02it/s, loss=3.0159, smooth loss=2.42]\n",
      "Validation: 100%|██████████| 575/575 [00:11<00:00, 48.36it/s, loss=2.9891]\n"
     ]
    },
    {
     "name": "stdout",
     "output_type": "stream",
     "text": [
      "Epoch   54/600, Train Loss: 2.5237, Val Loss: 2.5138, LR: 0.000250\n"
     ]
    },
    {
     "name": "stderr",
     "output_type": "stream",
     "text": [
      "Training: 100%|██████████| 575/575 [00:22<00:00, 25.24it/s, loss=5.8942, smooth loss=2.72]\n",
      "Validation: 100%|██████████| 575/575 [00:13<00:00, 42.22it/s, loss=2.9728]\n"
     ]
    },
    {
     "name": "stdout",
     "output_type": "stream",
     "text": [
      "Epoch   55/600, Train Loss: 2.5227, Val Loss: 2.5114, LR: 0.000250\n"
     ]
    },
    {
     "name": "stderr",
     "output_type": "stream",
     "text": [
      "Training: 100%|██████████| 575/575 [00:22<00:00, 25.29it/s, loss=2.7437, smooth loss=2.3]\n",
      "Validation: 100%|██████████| 575/575 [00:12<00:00, 47.46it/s, loss=2.9633]\n"
     ]
    },
    {
     "name": "stdout",
     "output_type": "stream",
     "text": [
      "Epoch   56/600, Train Loss: 2.5190, Val Loss: 2.5086, LR: 0.000250\n"
     ]
    },
    {
     "name": "stderr",
     "output_type": "stream",
     "text": [
      "Training: 100%|██████████| 575/575 [00:22<00:00, 25.26it/s, loss=7.3473, smooth loss=2.39]\n",
      "Validation: 100%|██████████| 575/575 [00:12<00:00, 46.94it/s, loss=2.9845]\n"
     ]
    },
    {
     "name": "stdout",
     "output_type": "stream",
     "text": [
      "Epoch   57/600, Train Loss: 2.5227, Val Loss: 2.5077, LR: 0.000250\n"
     ]
    },
    {
     "name": "stderr",
     "output_type": "stream",
     "text": [
      "Training: 100%|██████████| 575/575 [00:22<00:00, 25.32it/s, loss=1.7826, smooth loss=2.43]\n",
      "Validation: 100%|██████████| 575/575 [00:12<00:00, 46.51it/s, loss=3.0032]\n"
     ]
    },
    {
     "name": "stdout",
     "output_type": "stream",
     "text": [
      "Epoch   58/600, Train Loss: 2.5164, Val Loss: 2.5218, LR: 0.000250\n"
     ]
    },
    {
     "name": "stderr",
     "output_type": "stream",
     "text": [
      "Training: 100%|██████████| 575/575 [00:22<00:00, 25.10it/s, loss=3.8196, smooth loss=2.51]\n",
      "Validation: 100%|██████████| 575/575 [00:12<00:00, 46.16it/s, loss=2.9608]\n"
     ]
    },
    {
     "name": "stdout",
     "output_type": "stream",
     "text": [
      "Epoch   59/600, Train Loss: 2.5215, Val Loss: 2.5098, LR: 0.000250\n"
     ]
    },
    {
     "name": "stderr",
     "output_type": "stream",
     "text": [
      "Training: 100%|██████████| 575/575 [00:22<00:00, 25.45it/s, loss=1.5486, smooth loss=2.37]\n",
      "Validation: 100%|██████████| 575/575 [00:12<00:00, 46.34it/s, loss=2.9481]\n"
     ]
    },
    {
     "name": "stdout",
     "output_type": "stream",
     "text": [
      "Epoch   60/600, Train Loss: 2.5175, Val Loss: 2.5024, LR: 0.000250\n"
     ]
    },
    {
     "name": "stderr",
     "output_type": "stream",
     "text": [
      "Training: 100%|██████████| 575/575 [00:22<00:00, 25.38it/s, loss=5.7769, smooth loss=2.52]\n",
      "Validation: 100%|██████████| 575/575 [00:12<00:00, 46.87it/s, loss=2.9688]\n"
     ]
    },
    {
     "name": "stdout",
     "output_type": "stream",
     "text": [
      "Epoch   61/600, Train Loss: 2.5138, Val Loss: 2.5090, LR: 0.000250\n"
     ]
    },
    {
     "name": "stderr",
     "output_type": "stream",
     "text": [
      "Training: 100%|██████████| 575/575 [00:22<00:00, 25.58it/s, loss=4.1873, smooth loss=2.72]\n",
      "Validation: 100%|██████████| 575/575 [00:12<00:00, 46.95it/s, loss=3.0111]\n"
     ]
    },
    {
     "name": "stdout",
     "output_type": "stream",
     "text": [
      "Epoch   62/600, Train Loss: 2.5150, Val Loss: 2.5055, LR: 0.000250\n"
     ]
    },
    {
     "name": "stderr",
     "output_type": "stream",
     "text": [
      "Training: 100%|██████████| 575/575 [00:22<00:00, 25.45it/s, loss=2.3081, smooth loss=2.67]\n",
      "Validation: 100%|██████████| 575/575 [00:12<00:00, 47.00it/s, loss=2.9782]\n"
     ]
    },
    {
     "name": "stdout",
     "output_type": "stream",
     "text": [
      "Epoch   63/600, Train Loss: 2.5100, Val Loss: 2.5027, LR: 0.000250\n"
     ]
    },
    {
     "name": "stderr",
     "output_type": "stream",
     "text": [
      "Training: 100%|██████████| 575/575 [00:22<00:00, 25.47it/s, loss=1.1506, smooth loss=2.58]\n",
      "Validation: 100%|██████████| 575/575 [00:12<00:00, 47.19it/s, loss=2.9613]\n"
     ]
    },
    {
     "name": "stdout",
     "output_type": "stream",
     "text": [
      "Epoch   64/600, Train Loss: 2.5173, Val Loss: 2.5183, LR: 0.000125\n"
     ]
    },
    {
     "name": "stderr",
     "output_type": "stream",
     "text": [
      "Training: 100%|██████████| 575/575 [00:22<00:00, 25.35it/s, loss=1.9679, smooth loss=2.52]\n",
      "Validation: 100%|██████████| 575/575 [00:12<00:00, 47.19it/s, loss=2.9542]\n"
     ]
    },
    {
     "name": "stdout",
     "output_type": "stream",
     "text": [
      "Epoch   65/600, Train Loss: 2.5050, Val Loss: 2.4994, LR: 0.000125\n"
     ]
    },
    {
     "name": "stderr",
     "output_type": "stream",
     "text": [
      "Training: 100%|██████████| 575/575 [00:22<00:00, 25.31it/s, loss=1.8115, smooth loss=2.52]\n",
      "Validation: 100%|██████████| 575/575 [00:12<00:00, 47.16it/s, loss=2.9549]\n"
     ]
    },
    {
     "name": "stdout",
     "output_type": "stream",
     "text": [
      "Epoch   66/600, Train Loss: 2.5016, Val Loss: 2.4995, LR: 0.000125\n"
     ]
    },
    {
     "name": "stderr",
     "output_type": "stream",
     "text": [
      "Training: 100%|██████████| 575/575 [00:22<00:00, 25.21it/s, loss=0.9745, smooth loss=2.52]\n",
      "Validation: 100%|██████████| 575/575 [00:12<00:00, 46.90it/s, loss=2.9714]\n"
     ]
    },
    {
     "name": "stdout",
     "output_type": "stream",
     "text": [
      "Epoch   67/600, Train Loss: 2.5002, Val Loss: 2.4945, LR: 0.000125\n"
     ]
    },
    {
     "name": "stderr",
     "output_type": "stream",
     "text": [
      "Training: 100%|██████████| 575/575 [00:22<00:00, 25.18it/s, loss=2.6104, smooth loss=2.62]\n",
      "Validation: 100%|██████████| 575/575 [00:12<00:00, 46.63it/s, loss=2.9566]\n"
     ]
    },
    {
     "name": "stdout",
     "output_type": "stream",
     "text": [
      "Epoch   68/600, Train Loss: 2.5004, Val Loss: 2.5019, LR: 0.000125\n"
     ]
    },
    {
     "name": "stderr",
     "output_type": "stream",
     "text": [
      "Training: 100%|██████████| 575/575 [00:22<00:00, 25.15it/s, loss=5.7288, smooth loss=2.52]\n",
      "Validation: 100%|██████████| 575/575 [00:12<00:00, 45.01it/s, loss=2.9571]\n"
     ]
    },
    {
     "name": "stdout",
     "output_type": "stream",
     "text": [
      "Epoch   69/600, Train Loss: 2.4983, Val Loss: 2.5002, LR: 0.000125\n"
     ]
    },
    {
     "name": "stderr",
     "output_type": "stream",
     "text": [
      "Training: 100%|██████████| 575/575 [00:22<00:00, 25.38it/s, loss=2.7135, smooth loss=2.56]\n",
      "Validation: 100%|██████████| 575/575 [00:12<00:00, 45.86it/s, loss=2.9576]\n"
     ]
    },
    {
     "name": "stdout",
     "output_type": "stream",
     "text": [
      "Epoch   70/600, Train Loss: 2.5010, Val Loss: 2.4920, LR: 0.000125\n"
     ]
    },
    {
     "name": "stderr",
     "output_type": "stream",
     "text": [
      "Training: 100%|██████████| 575/575 [00:22<00:00, 25.33it/s, loss=9.3092, smooth loss=2.66]\n",
      "Validation: 100%|██████████| 575/575 [00:12<00:00, 46.20it/s, loss=2.9487]\n"
     ]
    },
    {
     "name": "stdout",
     "output_type": "stream",
     "text": [
      "Epoch   71/600, Train Loss: 2.5000, Val Loss: 2.4927, LR: 0.000125\n"
     ]
    },
    {
     "name": "stderr",
     "output_type": "stream",
     "text": [
      "Training: 100%|██████████| 575/575 [00:23<00:00, 24.98it/s, loss=0.9283, smooth loss=2.07]\n",
      "Validation: 100%|██████████| 575/575 [00:12<00:00, 47.10it/s, loss=2.9536]\n"
     ]
    },
    {
     "name": "stdout",
     "output_type": "stream",
     "text": [
      "Epoch   72/600, Train Loss: 2.4995, Val Loss: 2.4903, LR: 0.000125\n"
     ]
    },
    {
     "name": "stderr",
     "output_type": "stream",
     "text": [
      "Training: 100%|██████████| 575/575 [00:22<00:00, 25.43it/s, loss=1.4417, smooth loss=2.8]\n",
      "Validation: 100%|██████████| 575/575 [00:12<00:00, 46.80it/s, loss=2.9621]\n"
     ]
    },
    {
     "name": "stdout",
     "output_type": "stream",
     "text": [
      "Epoch   73/600, Train Loss: 2.5029, Val Loss: 2.4942, LR: 0.000125\n"
     ]
    },
    {
     "name": "stderr",
     "output_type": "stream",
     "text": [
      "Training: 100%|██████████| 575/575 [00:22<00:00, 25.18it/s, loss=1.8120, smooth loss=2.15]\n",
      "Validation: 100%|██████████| 575/575 [00:12<00:00, 46.49it/s, loss=2.9490]\n"
     ]
    },
    {
     "name": "stdout",
     "output_type": "stream",
     "text": [
      "Epoch   74/600, Train Loss: 2.4980, Val Loss: 2.4917, LR: 0.000125\n"
     ]
    },
    {
     "name": "stderr",
     "output_type": "stream",
     "text": [
      "Training: 100%|██████████| 575/575 [00:23<00:00, 24.70it/s, loss=3.6612, smooth loss=2.7]\n",
      "Validation: 100%|██████████| 575/575 [00:12<00:00, 45.50it/s, loss=2.9586]\n"
     ]
    },
    {
     "name": "stdout",
     "output_type": "stream",
     "text": [
      "Epoch   75/600, Train Loss: 2.5002, Val Loss: 2.4916, LR: 0.000125\n"
     ]
    },
    {
     "name": "stderr",
     "output_type": "stream",
     "text": [
      "Training: 100%|██████████| 575/575 [00:23<00:00, 24.69it/s, loss=1.1353, smooth loss=2.86]\n",
      "Validation: 100%|██████████| 575/575 [00:12<00:00, 44.89it/s, loss=2.9725]\n"
     ]
    },
    {
     "name": "stdout",
     "output_type": "stream",
     "text": [
      "Epoch   76/600, Train Loss: 2.4993, Val Loss: 2.4945, LR: 0.000063\n"
     ]
    },
    {
     "name": "stderr",
     "output_type": "stream",
     "text": [
      "Training: 100%|██████████| 575/575 [00:23<00:00, 24.66it/s, loss=1.7682, smooth loss=2.67]\n",
      "Validation: 100%|██████████| 575/575 [00:12<00:00, 45.18it/s, loss=2.9597]\n"
     ]
    },
    {
     "name": "stdout",
     "output_type": "stream",
     "text": [
      "Epoch   77/600, Train Loss: 2.4929, Val Loss: 2.4885, LR: 0.000063\n"
     ]
    },
    {
     "name": "stderr",
     "output_type": "stream",
     "text": [
      "Training: 100%|██████████| 575/575 [00:23<00:00, 24.70it/s, loss=15.9818, smooth loss=2.39]\n",
      "Validation: 100%|██████████| 575/575 [00:12<00:00, 44.82it/s, loss=2.9532]\n"
     ]
    },
    {
     "name": "stdout",
     "output_type": "stream",
     "text": [
      "Epoch   78/600, Train Loss: 2.4909, Val Loss: 2.4866, LR: 0.000063\n"
     ]
    },
    {
     "name": "stderr",
     "output_type": "stream",
     "text": [
      "Training: 100%|██████████| 575/575 [00:23<00:00, 24.56it/s, loss=1.4905, smooth loss=2.64]\n",
      "Validation: 100%|██████████| 575/575 [00:12<00:00, 45.94it/s, loss=2.9564]\n"
     ]
    },
    {
     "name": "stdout",
     "output_type": "stream",
     "text": [
      "Epoch   79/600, Train Loss: 2.4902, Val Loss: 2.4867, LR: 0.000063\n"
     ]
    },
    {
     "name": "stderr",
     "output_type": "stream",
     "text": [
      "Training: 100%|██████████| 575/575 [00:23<00:00, 24.54it/s, loss=2.2108, smooth loss=2.25]\n",
      "Validation: 100%|██████████| 575/575 [00:12<00:00, 45.58it/s, loss=2.9593]\n"
     ]
    },
    {
     "name": "stdout",
     "output_type": "stream",
     "text": [
      "Epoch   80/600, Train Loss: 2.4895, Val Loss: 2.4870, LR: 0.000063\n"
     ]
    },
    {
     "name": "stderr",
     "output_type": "stream",
     "text": [
      "Training: 100%|██████████| 575/575 [00:23<00:00, 24.74it/s, loss=2.6316, smooth loss=2.59]\n",
      "Validation: 100%|██████████| 575/575 [00:12<00:00, 45.46it/s, loss=2.9630]\n"
     ]
    },
    {
     "name": "stdout",
     "output_type": "stream",
     "text": [
      "Epoch   81/600, Train Loss: 2.4913, Val Loss: 2.4857, LR: 0.000063\n"
     ]
    },
    {
     "name": "stderr",
     "output_type": "stream",
     "text": [
      "Training: 100%|██████████| 575/575 [00:23<00:00, 24.66it/s, loss=7.1919, smooth loss=2.34]\n",
      "Validation: 100%|██████████| 575/575 [00:12<00:00, 45.80it/s, loss=2.9515]\n"
     ]
    },
    {
     "name": "stdout",
     "output_type": "stream",
     "text": [
      "Epoch   82/600, Train Loss: 2.4888, Val Loss: 2.4864, LR: 0.000063\n"
     ]
    },
    {
     "name": "stderr",
     "output_type": "stream",
     "text": [
      "Training: 100%|██████████| 575/575 [00:23<00:00, 24.56it/s, loss=2.1466, smooth loss=2.37]\n",
      "Validation: 100%|██████████| 575/575 [00:12<00:00, 45.97it/s, loss=2.9577]\n"
     ]
    },
    {
     "name": "stdout",
     "output_type": "stream",
     "text": [
      "Epoch   83/600, Train Loss: 2.4904, Val Loss: 2.4923, LR: 0.000063\n"
     ]
    },
    {
     "name": "stderr",
     "output_type": "stream",
     "text": [
      "Training: 100%|██████████| 575/575 [00:23<00:00, 24.62it/s, loss=0.9674, smooth loss=2.47]\n",
      "Validation: 100%|██████████| 575/575 [00:12<00:00, 44.32it/s, loss=2.9659]\n"
     ]
    },
    {
     "name": "stdout",
     "output_type": "stream",
     "text": [
      "Epoch   84/600, Train Loss: 2.4889, Val Loss: 2.4898, LR: 0.000063\n"
     ]
    },
    {
     "name": "stderr",
     "output_type": "stream",
     "text": [
      "Training: 100%|██████████| 575/575 [00:23<00:00, 24.68it/s, loss=1.5534, smooth loss=2.23]\n",
      "Validation: 100%|██████████| 575/575 [00:12<00:00, 44.56it/s, loss=2.9492]\n"
     ]
    },
    {
     "name": "stdout",
     "output_type": "stream",
     "text": [
      "Epoch   85/600, Train Loss: 2.4899, Val Loss: 2.4857, LR: 0.000031\n"
     ]
    },
    {
     "name": "stderr",
     "output_type": "stream",
     "text": [
      "Training: 100%|██████████| 575/575 [00:23<00:00, 24.47it/s, loss=1.4230, smooth loss=2.66]\n",
      "Validation: 100%|██████████| 575/575 [00:12<00:00, 46.04it/s, loss=2.9582]\n"
     ]
    },
    {
     "name": "stdout",
     "output_type": "stream",
     "text": [
      "Epoch   86/600, Train Loss: 2.4860, Val Loss: 2.4873, LR: 0.000031\n"
     ]
    },
    {
     "name": "stderr",
     "output_type": "stream",
     "text": [
      "Training: 100%|██████████| 575/575 [00:23<00:00, 24.58it/s, loss=3.3919, smooth loss=2.62]\n",
      "Validation: 100%|██████████| 575/575 [00:12<00:00, 45.77it/s, loss=2.9519]\n"
     ]
    },
    {
     "name": "stdout",
     "output_type": "stream",
     "text": [
      "Epoch   87/600, Train Loss: 2.4864, Val Loss: 2.4835, LR: 0.000031\n"
     ]
    },
    {
     "name": "stderr",
     "output_type": "stream",
     "text": [
      "Training: 100%|██████████| 575/575 [00:23<00:00, 24.40it/s, loss=2.6751, smooth loss=2.45]\n",
      "Validation: 100%|██████████| 575/575 [00:12<00:00, 46.00it/s, loss=2.9495]\n"
     ]
    },
    {
     "name": "stdout",
     "output_type": "stream",
     "text": [
      "Epoch   88/600, Train Loss: 2.4863, Val Loss: 2.4839, LR: 0.000031\n"
     ]
    },
    {
     "name": "stderr",
     "output_type": "stream",
     "text": [
      "Training: 100%|██████████| 575/575 [00:23<00:00, 24.35it/s, loss=1.4913, smooth loss=2.54]\n",
      "Validation: 100%|██████████| 575/575 [00:12<00:00, 45.89it/s, loss=2.9508]\n"
     ]
    },
    {
     "name": "stdout",
     "output_type": "stream",
     "text": [
      "Epoch   89/600, Train Loss: 2.4858, Val Loss: 2.4838, LR: 0.000031\n"
     ]
    },
    {
     "name": "stderr",
     "output_type": "stream",
     "text": [
      "Training: 100%|██████████| 575/575 [00:23<00:00, 24.70it/s, loss=1.5974, smooth loss=2.47]\n",
      "Validation: 100%|██████████| 575/575 [00:12<00:00, 46.26it/s, loss=2.9595]\n"
     ]
    },
    {
     "name": "stdout",
     "output_type": "stream",
     "text": [
      "Epoch   90/600, Train Loss: 2.4849, Val Loss: 2.4843, LR: 0.000031\n"
     ]
    },
    {
     "name": "stderr",
     "output_type": "stream",
     "text": [
      "Training: 100%|██████████| 575/575 [00:23<00:00, 24.39it/s, loss=1.3118, smooth loss=2.75]\n",
      "Validation: 100%|██████████| 575/575 [00:12<00:00, 45.93it/s, loss=2.9500]\n"
     ]
    },
    {
     "name": "stdout",
     "output_type": "stream",
     "text": [
      "Epoch   91/600, Train Loss: 2.4846, Val Loss: 2.4825, LR: 0.000031\n"
     ]
    },
    {
     "name": "stderr",
     "output_type": "stream",
     "text": [
      "Training: 100%|██████████| 575/575 [00:23<00:00, 24.61it/s, loss=1.0984, smooth loss=2.59]\n",
      "Validation: 100%|██████████| 575/575 [00:12<00:00, 46.26it/s, loss=2.9480]\n"
     ]
    },
    {
     "name": "stdout",
     "output_type": "stream",
     "text": [
      "Epoch   92/600, Train Loss: 2.4849, Val Loss: 2.4823, LR: 0.000031\n"
     ]
    },
    {
     "name": "stderr",
     "output_type": "stream",
     "text": [
      "Training: 100%|██████████| 575/575 [00:23<00:00, 24.38it/s, loss=1.1122, smooth loss=2.59]\n",
      "Validation: 100%|██████████| 575/575 [00:12<00:00, 46.56it/s, loss=2.9584]\n"
     ]
    },
    {
     "name": "stdout",
     "output_type": "stream",
     "text": [
      "Epoch   93/600, Train Loss: 2.4842, Val Loss: 2.4836, LR: 0.000031\n"
     ]
    },
    {
     "name": "stderr",
     "output_type": "stream",
     "text": [
      "Training: 100%|██████████| 575/575 [00:23<00:00, 24.28it/s, loss=1.1954, smooth loss=2.61]\n",
      "Validation: 100%|██████████| 575/575 [00:12<00:00, 45.08it/s, loss=2.9515]\n"
     ]
    },
    {
     "name": "stdout",
     "output_type": "stream",
     "text": [
      "Epoch   94/600, Train Loss: 2.4846, Val Loss: 2.4818, LR: 0.000031\n"
     ]
    },
    {
     "name": "stderr",
     "output_type": "stream",
     "text": [
      "Training: 100%|██████████| 575/575 [00:23<00:00, 24.25it/s, loss=3.3605, smooth loss=2.83]\n",
      "Validation: 100%|██████████| 575/575 [00:12<00:00, 47.67it/s, loss=2.9518]\n"
     ]
    },
    {
     "name": "stdout",
     "output_type": "stream",
     "text": [
      "Epoch   95/600, Train Loss: 2.4843, Val Loss: 2.4822, LR: 0.000031\n"
     ]
    },
    {
     "name": "stderr",
     "output_type": "stream",
     "text": [
      "Training: 100%|██████████| 575/575 [00:23<00:00, 24.03it/s, loss=1.2651, smooth loss=2.09]\n",
      "Validation: 100%|██████████| 575/575 [00:12<00:00, 47.36it/s, loss=2.9500]\n"
     ]
    },
    {
     "name": "stdout",
     "output_type": "stream",
     "text": [
      "Epoch   96/600, Train Loss: 2.4842, Val Loss: 2.4839, LR: 0.000031\n"
     ]
    },
    {
     "name": "stderr",
     "output_type": "stream",
     "text": [
      "Training: 100%|██████████| 575/575 [00:23<00:00, 24.21it/s, loss=2.1660, smooth loss=2.68]\n",
      "Validation: 100%|██████████| 575/575 [00:12<00:00, 47.19it/s, loss=2.9456]\n"
     ]
    },
    {
     "name": "stdout",
     "output_type": "stream",
     "text": [
      "Epoch   97/600, Train Loss: 2.4831, Val Loss: 2.4821, LR: 0.000031\n"
     ]
    },
    {
     "name": "stderr",
     "output_type": "stream",
     "text": [
      "Training: 100%|██████████| 575/575 [00:23<00:00, 24.29it/s, loss=3.6584, smooth loss=2.79]\n",
      "Validation: 100%|██████████| 575/575 [00:12<00:00, 46.68it/s, loss=2.9476]\n"
     ]
    },
    {
     "name": "stdout",
     "output_type": "stream",
     "text": [
      "Epoch   98/600, Train Loss: 2.4841, Val Loss: 2.4831, LR: 0.000016\n"
     ]
    },
    {
     "name": "stderr",
     "output_type": "stream",
     "text": [
      "Training: 100%|██████████| 575/575 [00:23<00:00, 24.08it/s, loss=0.7467, smooth loss=2.67]\n",
      "Validation: 100%|██████████| 575/575 [00:12<00:00, 46.63it/s, loss=2.9512]\n"
     ]
    },
    {
     "name": "stdout",
     "output_type": "stream",
     "text": [
      "Epoch   99/600, Train Loss: 2.4833, Val Loss: 2.4812, LR: 0.000016\n"
     ]
    },
    {
     "name": "stderr",
     "output_type": "stream",
     "text": [
      "Training: 100%|██████████| 575/575 [00:23<00:00, 24.39it/s, loss=5.7560, smooth loss=2.79]\n",
      "Validation: 100%|██████████| 575/575 [00:12<00:00, 46.69it/s, loss=2.9488]\n"
     ]
    },
    {
     "name": "stdout",
     "output_type": "stream",
     "text": [
      "Epoch  100/600, Train Loss: 2.4822, Val Loss: 2.4804, LR: 0.000016\n"
     ]
    },
    {
     "name": "stderr",
     "output_type": "stream",
     "text": [
      "Training: 100%|██████████| 575/575 [00:23<00:00, 24.37it/s, loss=1.4347, smooth loss=2.35]\n",
      "Validation: 100%|██████████| 575/575 [00:12<00:00, 47.44it/s, loss=2.9485]\n"
     ]
    },
    {
     "name": "stdout",
     "output_type": "stream",
     "text": [
      "Epoch  101/600, Train Loss: 2.4821, Val Loss: 2.4806, LR: 0.000016\n"
     ]
    },
    {
     "name": "stderr",
     "output_type": "stream",
     "text": [
      "Training: 100%|██████████| 575/575 [00:24<00:00, 23.94it/s, loss=2.8978, smooth loss=2.26]\n",
      "Validation: 100%|██████████| 575/575 [00:12<00:00, 46.92it/s, loss=2.9482]\n"
     ]
    },
    {
     "name": "stdout",
     "output_type": "stream",
     "text": [
      "Epoch  102/600, Train Loss: 2.4822, Val Loss: 2.4810, LR: 0.000016\n"
     ]
    },
    {
     "name": "stderr",
     "output_type": "stream",
     "text": [
      "Training: 100%|██████████| 575/575 [00:24<00:00, 23.94it/s, loss=2.1470, smooth loss=2.5]\n",
      "Validation: 100%|██████████| 575/575 [00:12<00:00, 47.68it/s, loss=2.9495]\n"
     ]
    },
    {
     "name": "stdout",
     "output_type": "stream",
     "text": [
      "Epoch  103/600, Train Loss: 2.4821, Val Loss: 2.4806, LR: 0.000016\n"
     ]
    },
    {
     "name": "stderr",
     "output_type": "stream",
     "text": [
      "Training: 100%|██████████| 575/575 [00:23<00:00, 24.56it/s, loss=1.7067, smooth loss=2.5]\n",
      "Validation: 100%|██████████| 575/575 [00:12<00:00, 47.42it/s, loss=2.9490]\n"
     ]
    },
    {
     "name": "stdout",
     "output_type": "stream",
     "text": [
      "Epoch  104/600, Train Loss: 2.4825, Val Loss: 2.4805, LR: 0.000008\n"
     ]
    },
    {
     "name": "stderr",
     "output_type": "stream",
     "text": [
      "Training: 100%|██████████| 575/575 [00:23<00:00, 24.38it/s, loss=5.2275, smooth loss=2.06]\n",
      "Validation: 100%|██████████| 575/575 [00:12<00:00, 46.52it/s, loss=2.9498]\n"
     ]
    },
    {
     "name": "stdout",
     "output_type": "stream",
     "text": [
      "Epoch  105/600, Train Loss: 2.4805, Val Loss: 2.4801, LR: 0.000008\n"
     ]
    },
    {
     "name": "stderr",
     "output_type": "stream",
     "text": [
      "Training: 100%|██████████| 575/575 [00:23<00:00, 24.98it/s, loss=1.3258, smooth loss=2.08]\n",
      "Validation: 100%|██████████| 575/575 [00:12<00:00, 47.00it/s, loss=2.9491]\n"
     ]
    },
    {
     "name": "stdout",
     "output_type": "stream",
     "text": [
      "Epoch  106/600, Train Loss: 2.4810, Val Loss: 2.4802, LR: 0.000008\n"
     ]
    },
    {
     "name": "stderr",
     "output_type": "stream",
     "text": [
      "Training: 100%|██████████| 575/575 [00:23<00:00, 24.35it/s, loss=1.2831, smooth loss=2.25]\n",
      "Validation: 100%|██████████| 575/575 [00:12<00:00, 47.11it/s, loss=2.9494]\n"
     ]
    },
    {
     "name": "stdout",
     "output_type": "stream",
     "text": [
      "Epoch  107/600, Train Loss: 2.4808, Val Loss: 2.4797, LR: 0.000008\n"
     ]
    },
    {
     "name": "stderr",
     "output_type": "stream",
     "text": [
      "Training: 100%|██████████| 575/575 [00:23<00:00, 24.78it/s, loss=1.1292, smooth loss=2.24]\n",
      "Validation: 100%|██████████| 575/575 [00:12<00:00, 46.52it/s, loss=2.9492]\n"
     ]
    },
    {
     "name": "stdout",
     "output_type": "stream",
     "text": [
      "Epoch  108/600, Train Loss: 2.4806, Val Loss: 2.4802, LR: 0.000008\n"
     ]
    },
    {
     "name": "stderr",
     "output_type": "stream",
     "text": [
      "Training: 100%|██████████| 575/575 [00:24<00:00, 23.96it/s, loss=1.3471, smooth loss=2.6]\n",
      "Validation: 100%|██████████| 575/575 [00:12<00:00, 47.78it/s, loss=2.9486]\n"
     ]
    },
    {
     "name": "stdout",
     "output_type": "stream",
     "text": [
      "Epoch  109/600, Train Loss: 2.4809, Val Loss: 2.4800, LR: 0.000008\n"
     ]
    },
    {
     "name": "stderr",
     "output_type": "stream",
     "text": [
      "Training: 100%|██████████| 575/575 [00:23<00:00, 24.74it/s, loss=1.3665, smooth loss=2.81]\n",
      "Validation: 100%|██████████| 575/575 [00:12<00:00, 45.86it/s, loss=2.9488]\n"
     ]
    },
    {
     "name": "stdout",
     "output_type": "stream",
     "text": [
      "Epoch  110/600, Train Loss: 2.4808, Val Loss: 2.4802, LR: 0.000008\n"
     ]
    },
    {
     "name": "stderr",
     "output_type": "stream",
     "text": [
      "Training: 100%|██████████| 575/575 [00:23<00:00, 24.31it/s, loss=2.4928, smooth loss=2.63]\n",
      "Validation: 100%|██████████| 575/575 [00:12<00:00, 47.56it/s, loss=2.9508]\n"
     ]
    },
    {
     "name": "stdout",
     "output_type": "stream",
     "text": [
      "Epoch  111/600, Train Loss: 2.4806, Val Loss: 2.4800, LR: 0.000004\n"
     ]
    },
    {
     "name": "stderr",
     "output_type": "stream",
     "text": [
      "Training: 100%|██████████| 575/575 [00:23<00:00, 24.70it/s, loss=2.2826, smooth loss=2.35]\n",
      "Validation: 100%|██████████| 575/575 [00:12<00:00, 45.13it/s, loss=2.9498]\n"
     ]
    },
    {
     "name": "stdout",
     "output_type": "stream",
     "text": [
      "Epoch  112/600, Train Loss: 2.4802, Val Loss: 2.4799, LR: 0.000004\n"
     ]
    },
    {
     "name": "stderr",
     "output_type": "stream",
     "text": [
      "Training: 100%|██████████| 575/575 [00:23<00:00, 24.81it/s, loss=1.8036, smooth loss=2.29]\n",
      "Validation: 100%|██████████| 575/575 [00:12<00:00, 47.14it/s, loss=2.9493]\n"
     ]
    },
    {
     "name": "stdout",
     "output_type": "stream",
     "text": [
      "Epoch  113/600, Train Loss: 2.4801, Val Loss: 2.4799, LR: 0.000004\n"
     ]
    },
    {
     "name": "stderr",
     "output_type": "stream",
     "text": [
      "Training: 100%|██████████| 575/575 [00:22<00:00, 25.15it/s, loss=1.6820, smooth loss=2.43]\n",
      "Validation: 100%|██████████| 575/575 [00:12<00:00, 45.09it/s, loss=2.9490]\n"
     ]
    },
    {
     "name": "stdout",
     "output_type": "stream",
     "text": [
      "Epoch  114/600, Train Loss: 2.4803, Val Loss: 2.4794, LR: 0.000004\n"
     ]
    },
    {
     "name": "stderr",
     "output_type": "stream",
     "text": [
      "Training: 100%|██████████| 575/575 [00:22<00:00, 25.45it/s, loss=1.1176, smooth loss=2.56]\n",
      "Validation: 100%|██████████| 575/575 [00:11<00:00, 48.45it/s, loss=2.9492]\n"
     ]
    },
    {
     "name": "stdout",
     "output_type": "stream",
     "text": [
      "Epoch  115/600, Train Loss: 2.4804, Val Loss: 2.4798, LR: 0.000004\n"
     ]
    },
    {
     "name": "stderr",
     "output_type": "stream",
     "text": [
      "Training: 100%|██████████| 575/575 [00:22<00:00, 25.47it/s, loss=1.2163, smooth loss=2.62]\n",
      "Validation: 100%|██████████| 575/575 [00:12<00:00, 45.98it/s, loss=2.9490]\n"
     ]
    },
    {
     "name": "stdout",
     "output_type": "stream",
     "text": [
      "Epoch  116/600, Train Loss: 2.4802, Val Loss: 2.4798, LR: 0.000004\n"
     ]
    },
    {
     "name": "stderr",
     "output_type": "stream",
     "text": [
      "Training: 100%|██████████| 575/575 [00:22<00:00, 25.38it/s, loss=1.6221, smooth loss=2.58]\n",
      "Validation: 100%|██████████| 575/575 [00:11<00:00, 48.57it/s, loss=2.9489]\n"
     ]
    },
    {
     "name": "stdout",
     "output_type": "stream",
     "text": [
      "Epoch  117/600, Train Loss: 2.4802, Val Loss: 2.4797, LR: 0.000004\n"
     ]
    },
    {
     "name": "stderr",
     "output_type": "stream",
     "text": [
      "Training: 100%|██████████| 575/575 [00:22<00:00, 25.54it/s, loss=3.0072, smooth loss=2.4]\n",
      "Validation: 100%|██████████| 575/575 [00:12<00:00, 45.99it/s, loss=2.9487]\n"
     ]
    },
    {
     "name": "stdout",
     "output_type": "stream",
     "text": [
      "Epoch  118/600, Train Loss: 2.4804, Val Loss: 2.4793, LR: 0.000002\n"
     ]
    },
    {
     "name": "stderr",
     "output_type": "stream",
     "text": [
      "Training: 100%|██████████| 575/575 [00:22<00:00, 25.50it/s, loss=1.4173, smooth loss=2.25]\n",
      "Validation: 100%|██████████| 575/575 [00:11<00:00, 48.69it/s, loss=2.9488]\n"
     ]
    },
    {
     "name": "stdout",
     "output_type": "stream",
     "text": [
      "Epoch  119/600, Train Loss: 2.4799, Val Loss: 2.4797, LR: 0.000002\n"
     ]
    },
    {
     "name": "stderr",
     "output_type": "stream",
     "text": [
      "Training: 100%|██████████| 575/575 [00:22<00:00, 25.17it/s, loss=1.5032, smooth loss=2.52]\n",
      "Validation: 100%|██████████| 575/575 [00:12<00:00, 46.84it/s, loss=2.9489]\n"
     ]
    },
    {
     "name": "stdout",
     "output_type": "stream",
     "text": [
      "Epoch  120/600, Train Loss: 2.4799, Val Loss: 2.4796, LR: 0.000002\n"
     ]
    },
    {
     "name": "stderr",
     "output_type": "stream",
     "text": [
      "Training: 100%|██████████| 575/575 [00:22<00:00, 25.52it/s, loss=1.5412, smooth loss=2.42]\n",
      "Validation: 100%|██████████| 575/575 [00:11<00:00, 49.40it/s, loss=2.9490]\n"
     ]
    },
    {
     "name": "stdout",
     "output_type": "stream",
     "text": [
      "Epoch  121/600, Train Loss: 2.4799, Val Loss: 2.4796, LR: 0.000002\n"
     ]
    },
    {
     "name": "stderr",
     "output_type": "stream",
     "text": [
      "Training: 100%|██████████| 575/575 [00:23<00:00, 24.92it/s, loss=1.1753, smooth loss=2.21]\n",
      "Validation: 100%|██████████| 575/575 [00:12<00:00, 46.43it/s, loss=2.9490]\n"
     ]
    },
    {
     "name": "stdout",
     "output_type": "stream",
     "text": [
      "Epoch  122/600, Train Loss: 2.4800, Val Loss: 2.4798, LR: 0.000001\n"
     ]
    },
    {
     "name": "stderr",
     "output_type": "stream",
     "text": [
      "Training: 100%|██████████| 575/575 [00:22<00:00, 25.61it/s, loss=1.8633, smooth loss=2.86]\n",
      "Validation: 100%|██████████| 575/575 [00:11<00:00, 48.22it/s, loss=2.9491]\n"
     ]
    },
    {
     "name": "stdout",
     "output_type": "stream",
     "text": [
      "Epoch  123/600, Train Loss: 2.4799, Val Loss: 2.4798, LR: 0.000001\n"
     ]
    },
    {
     "name": "stderr",
     "output_type": "stream",
     "text": [
      "Training: 100%|██████████| 575/575 [00:22<00:00, 25.28it/s, loss=1.1464, smooth loss=2.08]\n",
      "Validation: 100%|██████████| 575/575 [00:12<00:00, 45.83it/s, loss=2.9491]\n"
     ]
    },
    {
     "name": "stdout",
     "output_type": "stream",
     "text": [
      "Epoch  124/600, Train Loss: 2.4799, Val Loss: 2.4797, LR: 0.000001\n"
     ]
    },
    {
     "name": "stderr",
     "output_type": "stream",
     "text": [
      "Training: 100%|██████████| 575/575 [00:22<00:00, 25.56it/s, loss=4.6532, smooth loss=2.8]\n",
      "Validation: 100%|██████████| 575/575 [00:11<00:00, 48.26it/s, loss=2.9491]\n"
     ]
    },
    {
     "name": "stdout",
     "output_type": "stream",
     "text": [
      "Epoch  125/600, Train Loss: 2.4798, Val Loss: 2.4797, LR: 0.000001\n"
     ]
    },
    {
     "name": "stderr",
     "output_type": "stream",
     "text": [
      "Training: 100%|██████████| 575/575 [00:23<00:00, 24.99it/s, loss=0.9328, smooth loss=2.05]\n",
      "Validation: 100%|██████████| 575/575 [00:12<00:00, 46.97it/s, loss=2.9492]\n"
     ]
    },
    {
     "name": "stdout",
     "output_type": "stream",
     "text": [
      "Epoch  126/600, Train Loss: 2.4798, Val Loss: 2.4797, LR: 0.000000\n"
     ]
    },
    {
     "name": "stderr",
     "output_type": "stream",
     "text": [
      "Training: 100%|██████████| 575/575 [00:22<00:00, 25.40it/s, loss=2.3840, smooth loss=2.52]\n",
      "Validation: 100%|██████████| 575/575 [00:11<00:00, 49.02it/s, loss=2.9492]\n"
     ]
    },
    {
     "name": "stdout",
     "output_type": "stream",
     "text": [
      "Epoch  127/600, Train Loss: 2.4796, Val Loss: 2.4798, LR: 0.000000\n"
     ]
    },
    {
     "name": "stderr",
     "output_type": "stream",
     "text": [
      "Training: 100%|██████████| 575/575 [00:22<00:00, 25.52it/s, loss=1.7067, smooth loss=2.29]\n",
      "Validation: 100%|██████████| 575/575 [00:12<00:00, 45.81it/s, loss=2.9492]\n"
     ]
    },
    {
     "name": "stdout",
     "output_type": "stream",
     "text": [
      "Epoch  128/600, Train Loss: 2.4798, Val Loss: 2.4797, LR: 0.000000\n"
     ]
    },
    {
     "name": "stderr",
     "output_type": "stream",
     "text": [
      "Training: 100%|██████████| 575/575 [00:22<00:00, 25.37it/s, loss=4.8889, smooth loss=2.44]\n",
      "Validation: 100%|██████████| 575/575 [00:11<00:00, 49.05it/s, loss=2.9492]\n"
     ]
    },
    {
     "name": "stdout",
     "output_type": "stream",
     "text": [
      "Epoch  129/600, Train Loss: 2.4798, Val Loss: 2.4797, LR: 0.000000\n"
     ]
    },
    {
     "name": "stderr",
     "output_type": "stream",
     "text": [
      "Training: 100%|██████████| 575/575 [00:22<00:00, 25.33it/s, loss=2.7865, smooth loss=2.16]\n",
      "Validation: 100%|██████████| 575/575 [00:12<00:00, 46.01it/s, loss=2.9492]\n"
     ]
    },
    {
     "name": "stdout",
     "output_type": "stream",
     "text": [
      "Epoch  130/600, Train Loss: 2.4798, Val Loss: 2.4797, LR: 0.000000\n"
     ]
    },
    {
     "name": "stderr",
     "output_type": "stream",
     "text": [
      "Training: 100%|██████████| 575/575 [00:22<00:00, 25.18it/s, loss=1.2662, smooth loss=2.77]\n",
      "Validation: 100%|██████████| 575/575 [00:12<00:00, 47.46it/s, loss=2.9492]\n"
     ]
    },
    {
     "name": "stdout",
     "output_type": "stream",
     "text": [
      "Epoch  131/600, Train Loss: 2.4797, Val Loss: 2.4797, LR: 0.000000\n"
     ]
    },
    {
     "name": "stderr",
     "output_type": "stream",
     "text": [
      "Training: 100%|██████████| 575/575 [00:23<00:00, 24.54it/s, loss=1.6408, smooth loss=2.46]\n",
      "Validation: 100%|██████████| 575/575 [00:12<00:00, 44.81it/s, loss=2.9492]\n"
     ]
    },
    {
     "name": "stdout",
     "output_type": "stream",
     "text": [
      "Epoch  132/600, Train Loss: 2.4797, Val Loss: 2.4797, LR: 0.000000\n"
     ]
    },
    {
     "name": "stderr",
     "output_type": "stream",
     "text": [
      "Training: 100%|██████████| 575/575 [00:22<00:00, 25.03it/s, loss=2.4297, smooth loss=2.14]\n",
      "Validation: 100%|██████████| 575/575 [00:12<00:00, 45.61it/s, loss=2.9492]\n"
     ]
    },
    {
     "name": "stdout",
     "output_type": "stream",
     "text": [
      "Epoch  133/600, Train Loss: 2.4798, Val Loss: 2.4797, LR: 0.000000\n"
     ]
    },
    {
     "name": "stderr",
     "output_type": "stream",
     "text": [
      "Training: 100%|██████████| 575/575 [00:23<00:00, 24.55it/s, loss=2.4185, smooth loss=2.35]\n",
      "Validation: 100%|██████████| 575/575 [00:12<00:00, 44.94it/s, loss=2.9492]\n"
     ]
    },
    {
     "name": "stdout",
     "output_type": "stream",
     "text": [
      "Epoch  134/600, Train Loss: 2.4798, Val Loss: 2.4797, LR: 0.000000\n"
     ]
    },
    {
     "name": "stderr",
     "output_type": "stream",
     "text": [
      "Training: 100%|██████████| 575/575 [00:23<00:00, 24.69it/s, loss=2.5221, smooth loss=2.39]\n",
      "Validation: 100%|██████████| 575/575 [00:12<00:00, 47.54it/s, loss=2.9492]\n"
     ]
    },
    {
     "name": "stdout",
     "output_type": "stream",
     "text": [
      "Epoch  135/600, Train Loss: 2.4797, Val Loss: 2.4797, LR: 0.000000\n"
     ]
    },
    {
     "name": "stderr",
     "output_type": "stream",
     "text": [
      "Training: 100%|██████████| 575/575 [00:23<00:00, 24.19it/s, loss=1.5524, smooth loss=2.54]\n",
      "Validation: 100%|██████████| 575/575 [00:12<00:00, 46.63it/s, loss=2.9492]\n"
     ]
    },
    {
     "name": "stdout",
     "output_type": "stream",
     "text": [
      "Epoch  136/600, Train Loss: 2.4797, Val Loss: 2.4797, LR: 0.000000\n"
     ]
    },
    {
     "name": "stderr",
     "output_type": "stream",
     "text": [
      "Training: 100%|██████████| 575/575 [00:23<00:00, 24.74it/s, loss=4.4665, smooth loss=2.81]\n",
      "Validation: 100%|██████████| 575/575 [00:12<00:00, 47.39it/s, loss=2.9492]\n"
     ]
    },
    {
     "name": "stdout",
     "output_type": "stream",
     "text": [
      "Epoch  137/600, Train Loss: 2.4797, Val Loss: 2.4797, LR: 0.000000\n"
     ]
    },
    {
     "name": "stderr",
     "output_type": "stream",
     "text": [
      "Training: 100%|██████████| 575/575 [00:23<00:00, 24.16it/s, loss=0.9331, smooth loss=2.95]\n",
      "Validation: 100%|██████████| 575/575 [00:12<00:00, 46.55it/s, loss=2.9492]\n"
     ]
    },
    {
     "name": "stdout",
     "output_type": "stream",
     "text": [
      "Epoch  138/600, Train Loss: 2.4797, Val Loss: 2.4797, LR: 0.000000\n"
     ]
    },
    {
     "name": "stderr",
     "output_type": "stream",
     "text": [
      "Training: 100%|██████████| 575/575 [00:22<00:00, 25.13it/s, loss=2.3277, smooth loss=2.68]\n",
      "Validation: 100%|██████████| 575/575 [00:11<00:00, 47.92it/s, loss=2.9492]\n"
     ]
    },
    {
     "name": "stdout",
     "output_type": "stream",
     "text": [
      "Epoch  139/600, Train Loss: 2.4797, Val Loss: 2.4797, LR: 0.000000\n"
     ]
    },
    {
     "name": "stderr",
     "output_type": "stream",
     "text": [
      "Training: 100%|██████████| 575/575 [00:22<00:00, 25.01it/s, loss=1.7696, smooth loss=2.81]\n",
      "Validation: 100%|██████████| 575/575 [00:12<00:00, 46.81it/s, loss=2.9492]\n"
     ]
    },
    {
     "name": "stdout",
     "output_type": "stream",
     "text": [
      "Epoch  140/600, Train Loss: 2.4797, Val Loss: 2.4797, LR: 0.000000\n"
     ]
    },
    {
     "name": "stderr",
     "output_type": "stream",
     "text": [
      "Training: 100%|██████████| 575/575 [00:22<00:00, 25.64it/s, loss=1.4857, smooth loss=2.37]\n",
      "Validation: 100%|██████████| 575/575 [00:12<00:00, 47.49it/s, loss=2.9492]\n"
     ]
    },
    {
     "name": "stdout",
     "output_type": "stream",
     "text": [
      "Epoch  141/600, Train Loss: 2.4797, Val Loss: 2.4796, LR: 0.000000\n"
     ]
    },
    {
     "name": "stderr",
     "output_type": "stream",
     "text": [
      "Training: 100%|██████████| 575/575 [00:23<00:00, 24.87it/s, loss=2.3872, smooth loss=2.96]\n",
      "Validation: 100%|██████████| 575/575 [00:12<00:00, 46.48it/s, loss=2.9492]\n"
     ]
    },
    {
     "name": "stdout",
     "output_type": "stream",
     "text": [
      "Epoch  142/600, Train Loss: 2.4797, Val Loss: 2.4797, LR: 0.000000\n"
     ]
    },
    {
     "name": "stderr",
     "output_type": "stream",
     "text": [
      "Training: 100%|██████████| 575/575 [00:22<00:00, 25.35it/s, loss=1.9164, smooth loss=2.36]\n",
      "Validation: 100%|██████████| 575/575 [00:11<00:00, 48.84it/s, loss=2.9492]\n"
     ]
    },
    {
     "name": "stdout",
     "output_type": "stream",
     "text": [
      "Epoch  143/600, Train Loss: 2.4797, Val Loss: 2.4796, LR: 0.000000\n"
     ]
    },
    {
     "name": "stderr",
     "output_type": "stream",
     "text": [
      "Training: 100%|██████████| 575/575 [00:23<00:00, 24.65it/s, loss=1.5836, smooth loss=2.57]\n",
      "Validation: 100%|██████████| 575/575 [00:12<00:00, 46.64it/s, loss=2.9492]\n"
     ]
    },
    {
     "name": "stdout",
     "output_type": "stream",
     "text": [
      "Epoch  144/600, Train Loss: 2.4797, Val Loss: 2.4797, LR: 0.000000\n"
     ]
    },
    {
     "name": "stderr",
     "output_type": "stream",
     "text": [
      "Training: 100%|██████████| 575/575 [00:22<00:00, 25.30it/s, loss=1.5568, smooth loss=2.29]\n",
      "Validation: 100%|██████████| 575/575 [00:11<00:00, 48.78it/s, loss=2.9492]\n"
     ]
    },
    {
     "name": "stdout",
     "output_type": "stream",
     "text": [
      "Epoch  145/600, Train Loss: 2.4797, Val Loss: 2.4796, LR: 0.000000\n"
     ]
    },
    {
     "name": "stderr",
     "output_type": "stream",
     "text": [
      "Training: 100%|██████████| 575/575 [00:22<00:00, 25.02it/s, loss=7.1341, smooth loss=2.77]\n",
      "Validation: 100%|██████████| 575/575 [00:12<00:00, 46.17it/s, loss=2.9492]\n"
     ]
    },
    {
     "name": "stdout",
     "output_type": "stream",
     "text": [
      "Epoch  146/600, Train Loss: 2.4797, Val Loss: 2.4797, LR: 0.000000\n"
     ]
    },
    {
     "name": "stderr",
     "output_type": "stream",
     "text": [
      "Training: 100%|██████████| 575/575 [00:22<00:00, 25.36it/s, loss=3.7661, smooth loss=2.97]\n",
      "Validation: 100%|██████████| 575/575 [00:11<00:00, 48.45it/s, loss=2.9492]\n"
     ]
    },
    {
     "name": "stdout",
     "output_type": "stream",
     "text": [
      "Epoch  147/600, Train Loss: 2.4797, Val Loss: 2.4797, LR: 0.000000\n"
     ]
    },
    {
     "name": "stderr",
     "output_type": "stream",
     "text": [
      "Training: 100%|██████████| 575/575 [00:22<00:00, 25.13it/s, loss=1.4430, smooth loss=2.72]\n",
      "Validation: 100%|██████████| 575/575 [00:12<00:00, 45.78it/s, loss=2.9491]\n"
     ]
    },
    {
     "name": "stdout",
     "output_type": "stream",
     "text": [
      "Epoch  148/600, Train Loss: 2.4797, Val Loss: 2.4797, LR: 0.000000\n"
     ]
    },
    {
     "name": "stderr",
     "output_type": "stream",
     "text": [
      "Training: 100%|██████████| 575/575 [00:22<00:00, 25.39it/s, loss=2.0119, smooth loss=2.24]\n",
      "Validation: 100%|██████████| 575/575 [00:11<00:00, 47.99it/s, loss=2.9491]\n"
     ]
    },
    {
     "name": "stdout",
     "output_type": "stream",
     "text": [
      "Epoch  149/600, Train Loss: 2.4797, Val Loss: 2.4797, LR: 0.000000\n"
     ]
    },
    {
     "name": "stderr",
     "output_type": "stream",
     "text": [
      "Training: 100%|██████████| 575/575 [00:22<00:00, 25.31it/s, loss=3.8808, smooth loss=2.35]\n",
      "Validation: 100%|██████████| 575/575 [00:12<00:00, 45.08it/s, loss=2.9491]\n"
     ]
    },
    {
     "name": "stdout",
     "output_type": "stream",
     "text": [
      "Epoch  150/600, Train Loss: 2.4797, Val Loss: 2.4797, LR: 0.000000\n"
     ]
    },
    {
     "name": "stderr",
     "output_type": "stream",
     "text": [
      "Training: 100%|██████████| 575/575 [00:22<00:00, 25.61it/s, loss=1.3517, smooth loss=2.33]\n",
      "Validation: 100%|██████████| 575/575 [00:11<00:00, 48.11it/s, loss=2.9491]\n"
     ]
    },
    {
     "name": "stdout",
     "output_type": "stream",
     "text": [
      "Epoch  151/600, Train Loss: 2.4797, Val Loss: 2.4797, LR: 0.000000\n"
     ]
    },
    {
     "name": "stderr",
     "output_type": "stream",
     "text": [
      "Training: 100%|██████████| 575/575 [00:22<00:00, 25.39it/s, loss=0.8158, smooth loss=2.27]\n",
      "Validation: 100%|██████████| 575/575 [00:12<00:00, 45.25it/s, loss=2.9491]\n"
     ]
    },
    {
     "name": "stdout",
     "output_type": "stream",
     "text": [
      "Epoch  152/600, Train Loss: 2.4797, Val Loss: 2.4797, LR: 0.000000\n"
     ]
    },
    {
     "name": "stderr",
     "output_type": "stream",
     "text": [
      "Training: 100%|██████████| 575/575 [00:22<00:00, 25.39it/s, loss=1.3124, smooth loss=2.81]\n",
      "Validation: 100%|██████████| 575/575 [00:11<00:00, 49.03it/s, loss=2.9491]\n"
     ]
    },
    {
     "name": "stdout",
     "output_type": "stream",
     "text": [
      "Epoch  153/600, Train Loss: 2.4797, Val Loss: 2.4797, LR: 0.000000\n"
     ]
    },
    {
     "name": "stderr",
     "output_type": "stream",
     "text": [
      "Training: 100%|██████████| 575/575 [00:22<00:00, 25.37it/s, loss=1.5374, smooth loss=2.69]\n",
      "Validation: 100%|██████████| 575/575 [00:12<00:00, 45.83it/s, loss=2.9491]\n"
     ]
    },
    {
     "name": "stdout",
     "output_type": "stream",
     "text": [
      "Epoch  154/600, Train Loss: 2.4797, Val Loss: 2.4797, LR: 0.000000\n"
     ]
    },
    {
     "name": "stderr",
     "output_type": "stream",
     "text": [
      "Training: 100%|██████████| 575/575 [00:22<00:00, 25.14it/s, loss=1.2223, smooth loss=2.44]\n",
      "Validation: 100%|██████████| 575/575 [00:11<00:00, 48.71it/s, loss=2.9491]\n"
     ]
    },
    {
     "name": "stdout",
     "output_type": "stream",
     "text": [
      "Epoch  155/600, Train Loss: 2.4797, Val Loss: 2.4797, LR: 0.000000\n"
     ]
    },
    {
     "name": "stderr",
     "output_type": "stream",
     "text": [
      "Training: 100%|██████████| 575/575 [00:22<00:00, 25.39it/s, loss=2.3102, smooth loss=2.47]\n",
      "Validation: 100%|██████████| 575/575 [00:12<00:00, 46.63it/s, loss=2.9491]\n"
     ]
    },
    {
     "name": "stdout",
     "output_type": "stream",
     "text": [
      "Epoch  156/600, Train Loss: 2.4797, Val Loss: 2.4797, LR: 0.000000\n"
     ]
    },
    {
     "name": "stderr",
     "output_type": "stream",
     "text": [
      "Training: 100%|██████████| 575/575 [00:23<00:00, 24.89it/s, loss=1.6144, smooth loss=2.62]\n",
      "Validation: 100%|██████████| 575/575 [00:11<00:00, 49.05it/s, loss=2.9491]\n"
     ]
    },
    {
     "name": "stdout",
     "output_type": "stream",
     "text": [
      "Epoch  157/600, Train Loss: 2.4797, Val Loss: 2.4797, LR: 0.000000\n"
     ]
    },
    {
     "name": "stderr",
     "output_type": "stream",
     "text": [
      "Training: 100%|██████████| 575/575 [00:22<00:00, 25.44it/s, loss=3.8585, smooth loss=2.22]\n",
      "Validation: 100%|██████████| 575/575 [00:12<00:00, 46.17it/s, loss=2.9491]\n"
     ]
    },
    {
     "name": "stdout",
     "output_type": "stream",
     "text": [
      "Epoch  158/600, Train Loss: 2.4797, Val Loss: 2.4797, LR: 0.000000\n"
     ]
    },
    {
     "name": "stderr",
     "output_type": "stream",
     "text": [
      "Training: 100%|██████████| 575/575 [00:23<00:00, 24.87it/s, loss=1.7629, smooth loss=2.97]\n",
      "Validation: 100%|██████████| 575/575 [00:11<00:00, 48.47it/s, loss=2.9491]\n"
     ]
    },
    {
     "name": "stdout",
     "output_type": "stream",
     "text": [
      "Epoch  159/600, Train Loss: 2.4797, Val Loss: 2.4797, LR: 0.000000\n"
     ]
    },
    {
     "name": "stderr",
     "output_type": "stream",
     "text": [
      "Training: 100%|██████████| 575/575 [00:22<00:00, 25.61it/s, loss=1.5411, smooth loss=2.73]\n",
      "Validation: 100%|██████████| 575/575 [00:12<00:00, 46.76it/s, loss=2.9491]\n"
     ]
    },
    {
     "name": "stdout",
     "output_type": "stream",
     "text": [
      "Epoch  160/600, Train Loss: 2.4797, Val Loss: 2.4796, LR: 0.000000\n"
     ]
    },
    {
     "name": "stderr",
     "output_type": "stream",
     "text": [
      "Training: 100%|██████████| 575/575 [00:23<00:00, 24.54it/s, loss=0.9995, smooth loss=2.46]\n",
      "Validation: 100%|██████████| 575/575 [00:12<00:00, 47.74it/s, loss=2.9491]\n"
     ]
    },
    {
     "name": "stdout",
     "output_type": "stream",
     "text": [
      "Epoch  161/600, Train Loss: 2.4797, Val Loss: 2.4797, LR: 0.000000\n"
     ]
    },
    {
     "name": "stderr",
     "output_type": "stream",
     "text": [
      "Training: 100%|██████████| 575/575 [00:22<00:00, 25.61it/s, loss=1.5391, smooth loss=2.17]\n",
      "Validation: 100%|██████████| 575/575 [00:11<00:00, 48.15it/s, loss=2.9491]\n"
     ]
    },
    {
     "name": "stdout",
     "output_type": "stream",
     "text": [
      "Epoch  162/600, Train Loss: 2.4797, Val Loss: 2.4797, LR: 0.000000\n"
     ]
    },
    {
     "name": "stderr",
     "output_type": "stream",
     "text": [
      "Training: 100%|██████████| 575/575 [00:23<00:00, 24.45it/s, loss=1.0700, smooth loss=2.65]\n",
      "Validation: 100%|██████████| 575/575 [00:11<00:00, 48.86it/s, loss=2.9491]\n"
     ]
    },
    {
     "name": "stdout",
     "output_type": "stream",
     "text": [
      "Epoch  163/600, Train Loss: 2.4797, Val Loss: 2.4797, LR: 0.000000\n"
     ]
    },
    {
     "name": "stderr",
     "output_type": "stream",
     "text": [
      "Training: 100%|██████████| 575/575 [00:22<00:00, 25.47it/s, loss=1.1757, smooth loss=2.1]\n",
      "Validation: 100%|██████████| 575/575 [00:12<00:00, 47.88it/s, loss=2.9491]\n"
     ]
    },
    {
     "name": "stdout",
     "output_type": "stream",
     "text": [
      "Epoch  164/600, Train Loss: 2.4797, Val Loss: 2.4797, LR: 0.000000\n"
     ]
    },
    {
     "name": "stderr",
     "output_type": "stream",
     "text": [
      "Training: 100%|██████████| 575/575 [00:23<00:00, 24.47it/s, loss=2.7845, smooth loss=2.37]\n",
      "Validation: 100%|██████████| 575/575 [00:11<00:00, 49.14it/s, loss=2.9491]\n"
     ]
    },
    {
     "name": "stdout",
     "output_type": "stream",
     "text": [
      "Epoch  165/600, Train Loss: 2.4797, Val Loss: 2.4797, LR: 0.000000\n"
     ]
    },
    {
     "name": "stderr",
     "output_type": "stream",
     "text": [
      "Training: 100%|██████████| 575/575 [00:22<00:00, 25.56it/s, loss=1.6018, smooth loss=2.27]\n",
      "Validation: 100%|██████████| 575/575 [00:11<00:00, 49.22it/s, loss=2.9491]\n"
     ]
    },
    {
     "name": "stdout",
     "output_type": "stream",
     "text": [
      "Epoch  166/600, Train Loss: 2.4797, Val Loss: 2.4797, LR: 0.000000\n"
     ]
    },
    {
     "name": "stderr",
     "output_type": "stream",
     "text": [
      "Training: 100%|██████████| 575/575 [00:23<00:00, 24.26it/s, loss=1.8797, smooth loss=2.17]\n",
      "Validation: 100%|██████████| 575/575 [00:11<00:00, 49.24it/s, loss=2.9491]\n"
     ]
    },
    {
     "name": "stdout",
     "output_type": "stream",
     "text": [
      "Epoch  167/600, Train Loss: 2.4797, Val Loss: 2.4797, LR: 0.000000\n"
     ]
    },
    {
     "name": "stderr",
     "output_type": "stream",
     "text": [
      "Training: 100%|██████████| 575/575 [00:22<00:00, 25.32it/s, loss=1.3809, smooth loss=2.53]\n",
      "Validation: 100%|██████████| 575/575 [00:12<00:00, 47.82it/s, loss=2.9491]\n"
     ]
    },
    {
     "name": "stdout",
     "output_type": "stream",
     "text": [
      "Epoch  168/600, Train Loss: 2.4797, Val Loss: 2.4797, LR: 0.000000\n"
     ]
    },
    {
     "name": "stderr",
     "output_type": "stream",
     "text": [
      "Training: 100%|██████████| 575/575 [00:23<00:00, 24.59it/s, loss=2.1955, smooth loss=2.39]\n",
      "Validation: 100%|██████████| 575/575 [00:11<00:00, 48.20it/s, loss=2.9491]\n"
     ]
    },
    {
     "name": "stdout",
     "output_type": "stream",
     "text": [
      "Epoch  169/600, Train Loss: 2.4797, Val Loss: 2.4797, LR: 0.000000\n"
     ]
    },
    {
     "name": "stderr",
     "output_type": "stream",
     "text": [
      "Training: 100%|██████████| 575/575 [00:22<00:00, 25.65it/s, loss=0.8099, smooth loss=2.67]\n",
      "Validation: 100%|██████████| 575/575 [00:11<00:00, 48.25it/s, loss=2.9491]\n"
     ]
    },
    {
     "name": "stdout",
     "output_type": "stream",
     "text": [
      "Epoch  170/600, Train Loss: 2.4797, Val Loss: 2.4797, LR: 0.000000\n"
     ]
    },
    {
     "name": "stderr",
     "output_type": "stream",
     "text": [
      "Training: 100%|██████████| 575/575 [00:23<00:00, 24.77it/s, loss=2.3795, smooth loss=2.3]\n",
      "Validation: 100%|██████████| 575/575 [00:11<00:00, 48.46it/s, loss=2.9491]\n"
     ]
    },
    {
     "name": "stdout",
     "output_type": "stream",
     "text": [
      "Epoch  171/600, Train Loss: 2.4797, Val Loss: 2.4797, LR: 0.000000\n"
     ]
    },
    {
     "name": "stderr",
     "output_type": "stream",
     "text": [
      "Training: 100%|██████████| 575/575 [00:22<00:00, 25.51it/s, loss=1.3980, smooth loss=2.5]\n",
      "Validation: 100%|██████████| 575/575 [00:12<00:00, 47.11it/s, loss=2.9491]\n"
     ]
    },
    {
     "name": "stdout",
     "output_type": "stream",
     "text": [
      "Epoch  172/600, Train Loss: 2.4797, Val Loss: 2.4797, LR: 0.000000\n"
     ]
    },
    {
     "name": "stderr",
     "output_type": "stream",
     "text": [
      "Training: 100%|██████████| 575/575 [00:24<00:00, 23.87it/s, loss=1.0039, smooth loss=2.53]\n",
      "Validation: 100%|██████████| 575/575 [00:11<00:00, 48.85it/s, loss=2.9491]\n"
     ]
    },
    {
     "name": "stdout",
     "output_type": "stream",
     "text": [
      "Epoch  173/600, Train Loss: 2.4797, Val Loss: 2.4796, LR: 0.000000\n"
     ]
    },
    {
     "name": "stderr",
     "output_type": "stream",
     "text": [
      "Training: 100%|██████████| 575/575 [00:22<00:00, 25.64it/s, loss=0.9747, smooth loss=2.08]\n",
      "Validation: 100%|██████████| 575/575 [00:11<00:00, 49.00it/s, loss=2.9491]\n"
     ]
    },
    {
     "name": "stdout",
     "output_type": "stream",
     "text": [
      "Epoch  174/600, Train Loss: 2.4797, Val Loss: 2.4797, LR: 0.000000\n"
     ]
    },
    {
     "name": "stderr",
     "output_type": "stream",
     "text": [
      "Training: 100%|██████████| 575/575 [00:23<00:00, 24.78it/s, loss=5.1677, smooth loss=2.37]\n",
      "Validation: 100%|██████████| 575/575 [00:12<00:00, 47.10it/s, loss=2.9491]\n"
     ]
    },
    {
     "name": "stdout",
     "output_type": "stream",
     "text": [
      "Epoch  175/600, Train Loss: 2.4797, Val Loss: 2.4797, LR: 0.000000\n"
     ]
    },
    {
     "name": "stderr",
     "output_type": "stream",
     "text": [
      "Training: 100%|██████████| 575/575 [00:22<00:00, 25.55it/s, loss=1.2104, smooth loss=2.66]\n",
      "Validation: 100%|██████████| 575/575 [00:11<00:00, 49.00it/s, loss=2.9491]\n"
     ]
    },
    {
     "name": "stdout",
     "output_type": "stream",
     "text": [
      "Epoch  176/600, Train Loss: 2.4797, Val Loss: 2.4797, LR: 0.000000\n"
     ]
    },
    {
     "name": "stderr",
     "output_type": "stream",
     "text": [
      "Training: 100%|██████████| 575/575 [00:22<00:00, 25.16it/s, loss=3.5450, smooth loss=2.64]\n",
      "Validation: 100%|██████████| 575/575 [00:12<00:00, 45.89it/s, loss=2.9491]\n"
     ]
    },
    {
     "name": "stdout",
     "output_type": "stream",
     "text": [
      "Epoch  177/600, Train Loss: 2.4797, Val Loss: 2.4797, LR: 0.000000\n"
     ]
    },
    {
     "name": "stderr",
     "output_type": "stream",
     "text": [
      "Training: 100%|██████████| 575/575 [00:22<00:00, 25.54it/s, loss=7.1691, smooth loss=2.59]\n",
      "Validation: 100%|██████████| 575/575 [00:11<00:00, 48.50it/s, loss=2.9491]\n"
     ]
    },
    {
     "name": "stdout",
     "output_type": "stream",
     "text": [
      "Epoch  178/600, Train Loss: 2.4797, Val Loss: 2.4797, LR: 0.000000\n"
     ]
    },
    {
     "name": "stderr",
     "output_type": "stream",
     "text": [
      "Training: 100%|██████████| 575/575 [00:22<00:00, 25.38it/s, loss=1.5021, smooth loss=2.81]\n",
      "Validation: 100%|██████████| 575/575 [00:12<00:00, 44.55it/s, loss=2.9491]\n"
     ]
    },
    {
     "name": "stdout",
     "output_type": "stream",
     "text": [
      "Epoch  179/600, Train Loss: 2.4797, Val Loss: 2.4796, LR: 0.000000\n"
     ]
    },
    {
     "name": "stderr",
     "output_type": "stream",
     "text": [
      "Training: 100%|██████████| 575/575 [00:22<00:00, 25.57it/s, loss=2.5238, smooth loss=2.69]\n",
      "Validation: 100%|██████████| 575/575 [00:11<00:00, 48.61it/s, loss=2.9491]\n"
     ]
    },
    {
     "name": "stdout",
     "output_type": "stream",
     "text": [
      "Epoch  180/600, Train Loss: 2.4797, Val Loss: 2.4797, LR: 0.000000\n"
     ]
    },
    {
     "name": "stderr",
     "output_type": "stream",
     "text": [
      "Training: 100%|██████████| 575/575 [00:22<00:00, 25.53it/s, loss=0.6491, smooth loss=2.76]\n",
      "Validation: 100%|██████████| 575/575 [00:12<00:00, 45.58it/s, loss=2.9491]\n"
     ]
    },
    {
     "name": "stdout",
     "output_type": "stream",
     "text": [
      "Epoch  181/600, Train Loss: 2.4797, Val Loss: 2.4797, LR: 0.000000\n"
     ]
    },
    {
     "name": "stderr",
     "output_type": "stream",
     "text": [
      "Training: 100%|██████████| 575/575 [00:22<00:00, 25.12it/s, loss=0.7085, smooth loss=2.42]\n",
      "Validation: 100%|██████████| 575/575 [00:11<00:00, 47.99it/s, loss=2.9491]\n"
     ]
    },
    {
     "name": "stdout",
     "output_type": "stream",
     "text": [
      "Epoch  182/600, Train Loss: 2.4797, Val Loss: 2.4797, LR: 0.000000\n"
     ]
    },
    {
     "name": "stderr",
     "output_type": "stream",
     "text": [
      "Training: 100%|██████████| 575/575 [00:22<00:00, 25.48it/s, loss=7.0774, smooth loss=2.91]\n",
      "Validation: 100%|██████████| 575/575 [00:12<00:00, 46.68it/s, loss=2.9491]\n"
     ]
    },
    {
     "name": "stdout",
     "output_type": "stream",
     "text": [
      "Epoch  183/600, Train Loss: 2.4797, Val Loss: 2.4797, LR: 0.000000\n"
     ]
    },
    {
     "name": "stderr",
     "output_type": "stream",
     "text": [
      "Training: 100%|██████████| 575/575 [00:23<00:00, 24.91it/s, loss=1.4711, smooth loss=2.28]\n",
      "Validation: 100%|██████████| 575/575 [00:11<00:00, 48.43it/s, loss=2.9491]\n"
     ]
    },
    {
     "name": "stdout",
     "output_type": "stream",
     "text": [
      "Epoch  184/600, Train Loss: 2.4797, Val Loss: 2.4797, LR: 0.000000\n"
     ]
    },
    {
     "name": "stderr",
     "output_type": "stream",
     "text": [
      "Training: 100%|██████████| 575/575 [00:22<00:00, 25.46it/s, loss=1.5866, smooth loss=2.25]\n",
      "Validation: 100%|██████████| 575/575 [00:12<00:00, 47.62it/s, loss=2.9491]\n"
     ]
    },
    {
     "name": "stdout",
     "output_type": "stream",
     "text": [
      "Epoch  185/600, Train Loss: 2.4797, Val Loss: 2.4796, LR: 0.000000\n"
     ]
    },
    {
     "name": "stderr",
     "output_type": "stream",
     "text": [
      "Training: 100%|██████████| 575/575 [00:23<00:00, 24.15it/s, loss=0.9197, smooth loss=2.53]\n",
      "Validation: 100%|██████████| 575/575 [00:11<00:00, 49.06it/s, loss=2.9491]\n"
     ]
    },
    {
     "name": "stdout",
     "output_type": "stream",
     "text": [
      "Epoch  186/600, Train Loss: 2.4797, Val Loss: 2.4797, LR: 0.000000\n"
     ]
    },
    {
     "name": "stderr",
     "output_type": "stream",
     "text": [
      "Training: 100%|██████████| 575/575 [00:22<00:00, 25.44it/s, loss=0.7053, smooth loss=2.94]\n",
      "Validation: 100%|██████████| 575/575 [00:11<00:00, 48.45it/s, loss=2.9491]\n"
     ]
    },
    {
     "name": "stdout",
     "output_type": "stream",
     "text": [
      "Epoch  187/600, Train Loss: 2.4797, Val Loss: 2.4797, LR: 0.000000\n"
     ]
    },
    {
     "name": "stderr",
     "output_type": "stream",
     "text": [
      "Training: 100%|██████████| 575/575 [00:22<00:00, 25.57it/s, loss=1.7948, smooth loss=2.51]\n",
      "Validation: 100%|██████████| 575/575 [00:11<00:00, 48.06it/s, loss=2.9491]\n"
     ]
    },
    {
     "name": "stdout",
     "output_type": "stream",
     "text": [
      "Epoch  188/600, Train Loss: 2.4797, Val Loss: 2.4797, LR: 0.000000\n"
     ]
    },
    {
     "name": "stderr",
     "output_type": "stream",
     "text": [
      "Training: 100%|██████████| 575/575 [00:22<00:00, 25.47it/s, loss=1.0041, smooth loss=2.69]\n",
      "Validation: 100%|██████████| 575/575 [00:12<00:00, 45.87it/s, loss=2.9491]\n"
     ]
    },
    {
     "name": "stdout",
     "output_type": "stream",
     "text": [
      "Epoch  189/600, Train Loss: 2.4797, Val Loss: 2.4797, LR: 0.000000\n"
     ]
    },
    {
     "name": "stderr",
     "output_type": "stream",
     "text": [
      "Training: 100%|██████████| 575/575 [00:23<00:00, 24.94it/s, loss=0.9395, smooth loss=2.49]\n",
      "Validation: 100%|██████████| 575/575 [00:11<00:00, 48.09it/s, loss=2.9491]\n"
     ]
    },
    {
     "name": "stdout",
     "output_type": "stream",
     "text": [
      "Epoch  190/600, Train Loss: 2.4797, Val Loss: 2.4797, LR: 0.000000\n"
     ]
    },
    {
     "name": "stderr",
     "output_type": "stream",
     "text": [
      "Training: 100%|██████████| 575/575 [00:22<00:00, 25.25it/s, loss=0.7085, smooth loss=2.39]\n",
      "Validation: 100%|██████████| 575/575 [00:11<00:00, 48.62it/s, loss=2.9491]\n"
     ]
    },
    {
     "name": "stdout",
     "output_type": "stream",
     "text": [
      "Epoch  191/600, Train Loss: 2.4797, Val Loss: 2.4797, LR: 0.000000\n"
     ]
    },
    {
     "name": "stderr",
     "output_type": "stream",
     "text": [
      "Training: 100%|██████████| 575/575 [00:22<00:00, 25.41it/s, loss=1.4713, smooth loss=2.8]\n",
      "Validation: 100%|██████████| 575/575 [00:11<00:00, 48.67it/s, loss=2.9491]\n"
     ]
    },
    {
     "name": "stdout",
     "output_type": "stream",
     "text": [
      "Epoch  192/600, Train Loss: 2.4797, Val Loss: 2.4797, LR: 0.000000\n"
     ]
    },
    {
     "name": "stderr",
     "output_type": "stream",
     "text": [
      "Training: 100%|██████████| 575/575 [00:22<00:00, 25.29it/s, loss=1.8697, smooth loss=2.44]\n",
      "Validation: 100%|██████████| 575/575 [00:12<00:00, 45.29it/s, loss=2.9491]\n"
     ]
    },
    {
     "name": "stdout",
     "output_type": "stream",
     "text": [
      "Epoch  193/600, Train Loss: 2.4797, Val Loss: 2.4797, LR: 0.000000\n"
     ]
    },
    {
     "name": "stderr",
     "output_type": "stream",
     "text": [
      "Training: 100%|██████████| 575/575 [00:22<00:00, 25.29it/s, loss=2.5168, smooth loss=2.11]\n",
      "Validation: 100%|██████████| 575/575 [00:11<00:00, 48.84it/s, loss=2.9491]\n"
     ]
    },
    {
     "name": "stdout",
     "output_type": "stream",
     "text": [
      "Epoch  194/600, Train Loss: 2.4797, Val Loss: 2.4797, LR: 0.000000\n"
     ]
    },
    {
     "name": "stderr",
     "output_type": "stream",
     "text": [
      "Training: 100%|██████████| 575/575 [00:22<00:00, 25.42it/s, loss=2.2057, smooth loss=2.45]\n",
      "Validation: 100%|██████████| 575/575 [00:11<00:00, 48.95it/s, loss=2.9491]\n"
     ]
    },
    {
     "name": "stdout",
     "output_type": "stream",
     "text": [
      "Epoch  195/600, Train Loss: 2.4797, Val Loss: 2.4797, LR: 0.000000\n"
     ]
    },
    {
     "name": "stderr",
     "output_type": "stream",
     "text": [
      "Training: 100%|██████████| 575/575 [00:22<00:00, 25.37it/s, loss=1.1640, smooth loss=2.69]\n",
      "Validation: 100%|██████████| 575/575 [00:11<00:00, 49.09it/s, loss=2.9491]\n"
     ]
    },
    {
     "name": "stdout",
     "output_type": "stream",
     "text": [
      "Epoch  196/600, Train Loss: 2.4797, Val Loss: 2.4797, LR: 0.000000\n"
     ]
    },
    {
     "name": "stderr",
     "output_type": "stream",
     "text": [
      "Training: 100%|██████████| 575/575 [00:23<00:00, 24.95it/s, loss=4.2542, smooth loss=2.47]\n",
      "Validation: 100%|██████████| 575/575 [00:12<00:00, 45.17it/s, loss=2.9491]\n"
     ]
    },
    {
     "name": "stdout",
     "output_type": "stream",
     "text": [
      "Epoch  197/600, Train Loss: 2.4797, Val Loss: 2.4797, LR: 0.000000\n"
     ]
    },
    {
     "name": "stderr",
     "output_type": "stream",
     "text": [
      "Training: 100%|██████████| 575/575 [00:22<00:00, 25.54it/s, loss=1.7296, smooth loss=2.44]\n",
      "Validation: 100%|██████████| 575/575 [00:11<00:00, 47.97it/s, loss=2.9491]\n"
     ]
    },
    {
     "name": "stdout",
     "output_type": "stream",
     "text": [
      "Epoch  198/600, Train Loss: 2.4797, Val Loss: 2.4797, LR: 0.000000\n"
     ]
    },
    {
     "name": "stderr",
     "output_type": "stream",
     "text": [
      "Training: 100%|██████████| 575/575 [00:22<00:00, 25.56it/s, loss=1.5016, smooth loss=2.5]\n",
      "Validation: 100%|██████████| 575/575 [00:11<00:00, 48.32it/s, loss=2.9491]\n"
     ]
    },
    {
     "name": "stdout",
     "output_type": "stream",
     "text": [
      "Epoch  199/600, Train Loss: 2.4797, Val Loss: 2.4797, LR: 0.000000\n"
     ]
    },
    {
     "name": "stderr",
     "output_type": "stream",
     "text": [
      "Training: 100%|██████████| 575/575 [00:22<00:00, 25.50it/s, loss=2.4857, smooth loss=2.68]\n",
      "Validation: 100%|██████████| 575/575 [00:11<00:00, 48.21it/s, loss=2.9491]\n"
     ]
    },
    {
     "name": "stdout",
     "output_type": "stream",
     "text": [
      "Epoch  200/600, Train Loss: 2.4797, Val Loss: 2.4797, LR: 0.000000\n"
     ]
    },
    {
     "name": "stderr",
     "output_type": "stream",
     "text": [
      "Training: 100%|██████████| 575/575 [00:23<00:00, 24.49it/s, loss=0.6084, smooth loss=2.38]\n",
      "Validation: 100%|██████████| 575/575 [00:12<00:00, 47.09it/s, loss=2.9491]\n"
     ]
    },
    {
     "name": "stdout",
     "output_type": "stream",
     "text": [
      "Epoch  201/600, Train Loss: 2.4797, Val Loss: 2.4797, LR: 0.000000\n"
     ]
    },
    {
     "name": "stderr",
     "output_type": "stream",
     "text": [
      "Training: 100%|██████████| 575/575 [00:22<00:00, 25.39it/s, loss=4.9921, smooth loss=2.42]\n",
      "Validation: 100%|██████████| 575/575 [00:11<00:00, 48.70it/s, loss=2.9491]\n"
     ]
    },
    {
     "name": "stdout",
     "output_type": "stream",
     "text": [
      "Epoch  202/600, Train Loss: 2.4797, Val Loss: 2.4797, LR: 0.000000\n"
     ]
    },
    {
     "name": "stderr",
     "output_type": "stream",
     "text": [
      "Training: 100%|██████████| 575/575 [00:22<00:00, 25.59it/s, loss=3.0129, smooth loss=2.62]\n",
      "Validation: 100%|██████████| 575/575 [00:11<00:00, 49.22it/s, loss=2.9491]\n"
     ]
    },
    {
     "name": "stdout",
     "output_type": "stream",
     "text": [
      "Epoch  203/600, Train Loss: 2.4797, Val Loss: 2.4797, LR: 0.000000\n"
     ]
    },
    {
     "name": "stderr",
     "output_type": "stream",
     "text": [
      "Training: 100%|██████████| 575/575 [00:22<00:00, 25.54it/s, loss=1.4012, smooth loss=2.4]\n",
      "Validation: 100%|██████████| 575/575 [00:11<00:00, 49.12it/s, loss=2.9491]\n"
     ]
    },
    {
     "name": "stdout",
     "output_type": "stream",
     "text": [
      "Epoch  204/600, Train Loss: 2.4797, Val Loss: 2.4797, LR: 0.000000\n"
     ]
    },
    {
     "name": "stderr",
     "output_type": "stream",
     "text": [
      "Training: 100%|██████████| 575/575 [00:23<00:00, 24.82it/s, loss=1.9713, smooth loss=2.67]\n",
      "Validation: 100%|██████████| 575/575 [00:12<00:00, 47.84it/s, loss=2.9491]\n"
     ]
    },
    {
     "name": "stdout",
     "output_type": "stream",
     "text": [
      "Epoch  205/600, Train Loss: 2.4795, Val Loss: 2.4797, LR: 0.000000\n"
     ]
    },
    {
     "name": "stderr",
     "output_type": "stream",
     "text": [
      "Training: 100%|██████████| 575/575 [00:22<00:00, 25.57it/s, loss=3.8228, smooth loss=2.34]\n",
      "Validation: 100%|██████████| 575/575 [00:11<00:00, 49.37it/s, loss=2.9491]\n"
     ]
    },
    {
     "name": "stdout",
     "output_type": "stream",
     "text": [
      "Epoch  206/600, Train Loss: 2.4797, Val Loss: 2.4797, LR: 0.000000\n"
     ]
    },
    {
     "name": "stderr",
     "output_type": "stream",
     "text": [
      "Training: 100%|██████████| 575/575 [00:22<00:00, 25.56it/s, loss=0.8237, smooth loss=2.53]\n",
      "Validation: 100%|██████████| 575/575 [00:11<00:00, 48.64it/s, loss=2.9491]\n"
     ]
    },
    {
     "name": "stdout",
     "output_type": "stream",
     "text": [
      "Epoch  207/600, Train Loss: 2.4795, Val Loss: 2.4795, LR: 0.000000\n"
     ]
    },
    {
     "name": "stderr",
     "output_type": "stream",
     "text": [
      "Training: 100%|██████████| 575/575 [00:22<00:00, 25.67it/s, loss=1.5016, smooth loss=2.43]\n",
      "Validation: 100%|██████████| 575/575 [00:11<00:00, 48.49it/s, loss=2.9491]\n"
     ]
    },
    {
     "name": "stdout",
     "output_type": "stream",
     "text": [
      "Epoch  208/600, Train Loss: 2.4797, Val Loss: 2.4795, LR: 0.000000\n"
     ]
    },
    {
     "name": "stderr",
     "output_type": "stream",
     "text": [
      "Training: 100%|██████████| 575/575 [00:23<00:00, 24.87it/s, loss=3.0061, smooth loss=2.58]\n",
      "Validation: 100%|██████████| 575/575 [00:11<00:00, 48.31it/s, loss=2.9491]\n"
     ]
    },
    {
     "name": "stdout",
     "output_type": "stream",
     "text": [
      "Epoch  209/600, Train Loss: 2.4795, Val Loss: 2.4795, LR: 0.000000\n"
     ]
    },
    {
     "name": "stderr",
     "output_type": "stream",
     "text": [
      "Training: 100%|██████████| 575/575 [00:22<00:00, 25.68it/s, loss=5.7112, smooth loss=2.56]\n",
      "Validation: 100%|██████████| 575/575 [00:11<00:00, 48.42it/s, loss=2.9491]\n"
     ]
    },
    {
     "name": "stdout",
     "output_type": "stream",
     "text": [
      "Epoch  210/600, Train Loss: 2.4795, Val Loss: 2.4795, LR: 0.000000\n"
     ]
    },
    {
     "name": "stderr",
     "output_type": "stream",
     "text": [
      "Training: 100%|██████████| 575/575 [00:22<00:00, 25.49it/s, loss=2.3103, smooth loss=2.53]\n",
      "Validation: 100%|██████████| 575/575 [00:12<00:00, 46.80it/s, loss=2.9491]\n"
     ]
    },
    {
     "name": "stdout",
     "output_type": "stream",
     "text": [
      "Epoch  211/600, Train Loss: 2.4795, Val Loss: 2.4795, LR: 0.000000\n"
     ]
    },
    {
     "name": "stderr",
     "output_type": "stream",
     "text": [
      "Training: 100%|██████████| 575/575 [00:22<00:00, 25.52it/s, loss=1.9172, smooth loss=2.87]\n",
      "Validation: 100%|██████████| 575/575 [00:11<00:00, 48.90it/s, loss=2.9491]\n"
     ]
    },
    {
     "name": "stdout",
     "output_type": "stream",
     "text": [
      "Epoch  212/600, Train Loss: 2.4796, Val Loss: 2.4795, LR: 0.000000\n"
     ]
    },
    {
     "name": "stderr",
     "output_type": "stream",
     "text": [
      "Training: 100%|██████████| 575/575 [00:23<00:00, 24.38it/s, loss=5.9866, smooth loss=2.32]\n",
      "Validation: 100%|██████████| 575/575 [00:11<00:00, 48.77it/s, loss=2.9491]\n"
     ]
    },
    {
     "name": "stdout",
     "output_type": "stream",
     "text": [
      "Epoch  213/600, Train Loss: 2.4796, Val Loss: 2.4795, LR: 0.000000\n"
     ]
    },
    {
     "name": "stderr",
     "output_type": "stream",
     "text": [
      "Training: 100%|██████████| 575/575 [00:22<00:00, 25.67it/s, loss=1.4703, smooth loss=2.33]\n",
      "Validation: 100%|██████████| 575/575 [00:11<00:00, 48.19it/s, loss=2.9491]\n"
     ]
    },
    {
     "name": "stdout",
     "output_type": "stream",
     "text": [
      "Epoch  214/600, Train Loss: 2.4795, Val Loss: 2.4795, LR: 0.000000\n"
     ]
    },
    {
     "name": "stderr",
     "output_type": "stream",
     "text": [
      "Training: 100%|██████████| 575/575 [00:22<00:00, 25.51it/s, loss=1.5244, smooth loss=2.52]\n",
      "Validation: 100%|██████████| 575/575 [00:11<00:00, 49.33it/s, loss=2.9491]\n"
     ]
    },
    {
     "name": "stdout",
     "output_type": "stream",
     "text": [
      "Epoch  215/600, Train Loss: 2.4796, Val Loss: 2.4795, LR: 0.000000\n"
     ]
    },
    {
     "name": "stderr",
     "output_type": "stream",
     "text": [
      "Training: 100%|██████████| 575/575 [00:22<00:00, 25.38it/s, loss=1.4170, smooth loss=2.47]\n",
      "Validation: 100%|██████████| 575/575 [00:11<00:00, 48.45it/s, loss=2.9491]\n"
     ]
    },
    {
     "name": "stdout",
     "output_type": "stream",
     "text": [
      "Epoch  216/600, Train Loss: 2.4795, Val Loss: 2.4795, LR: 0.000000\n"
     ]
    },
    {
     "name": "stderr",
     "output_type": "stream",
     "text": [
      "Training: 100%|██████████| 575/575 [00:23<00:00, 24.02it/s, loss=1.2739, smooth loss=2.75]\n",
      "Validation: 100%|██████████| 575/575 [00:12<00:00, 46.80it/s, loss=2.9491]\n"
     ]
    },
    {
     "name": "stdout",
     "output_type": "stream",
     "text": [
      "Epoch  217/600, Train Loss: 2.4795, Val Loss: 2.4795, LR: 0.000000\n"
     ]
    },
    {
     "name": "stderr",
     "output_type": "stream",
     "text": [
      "Training: 100%|██████████| 575/575 [00:23<00:00, 24.26it/s, loss=7.1033, smooth loss=2.27]\n",
      "Validation: 100%|██████████| 575/575 [00:12<00:00, 47.13it/s, loss=2.9491]"
     ]
    },
    {
     "name": "stdout",
     "output_type": "stream",
     "text": [
      "Epoch  218/600, Train Loss: 2.4795, Val Loss: 2.4795, LR: 0.000000\n",
      "Early stopping triggered at epoch 218\n",
      "Training completed.\n"
     ]
    },
    {
     "name": "stderr",
     "output_type": "stream",
     "text": [
      "\n"
     ]
    }
   ],
   "source": [
    "train_losses = []\n",
    "val_losses = []\n",
    "\n",
    "print(\"Starting training...\")\n",
    "for epoch in range(1, num_epochs + 1):\n",
    "    # --- Train ---\n",
    "    train_loss = train(model, train_loader, optimizer, device)\n",
    "    train_losses.append(train_loss)\n",
    "\n",
    "    # --- Validate ---\n",
    "    val_loss = validate(model, val_loader, device)\n",
    "    val_losses.append(val_loss)\n",
    "\n",
    "    # --- Adjust Learning Rate ---\n",
    "    scheduler.step(val_loss)\n",
    "    current_lr = optimizer.param_groups[0]['lr']\n",
    "\n",
    "    # --- Check for Improvement ---\n",
    "    if val_loss < best_val_loss:\n",
    "        best_val_loss = val_loss\n",
    "        early_stopping_counter = 0\n",
    "        torch.save(model.state_dict(), \"best_rna_structure_model.pt\")\n",
    "    else:\n",
    "        early_stopping_counter += 1\n",
    "\n",
    "    # --- Display formatted output ---\n",
    "    print(f\"Epoch {epoch:4d}/{num_epochs}, \"\n",
    "          f\"Train Loss: {train_loss:.4f}, \"\n",
    "          f\"Val Loss: {val_loss:.4f}, \"\n",
    "          f\"LR: {current_lr:.6f}\")\n",
    "\n",
    "    # --- Early Stopping ---\n",
    "    if early_stopping_counter >= early_stopping_patience:\n",
    "        print(f\"Early stopping triggered at epoch {epoch}\")\n",
    "        break\n",
    "\n",
    "print(\"Training completed.\")\n"
   ]
  },
  {
   "cell_type": "code",
   "execution_count": 25,
   "id": "43b2bc9d",
   "metadata": {
    "execution": {
     "iopub.execute_input": "2025-05-26T21:37:34.876464Z",
     "iopub.status.busy": "2025-05-26T21:37:34.876153Z",
     "iopub.status.idle": "2025-05-26T21:37:35.071132Z",
     "shell.execute_reply": "2025-05-26T21:37:35.070369Z"
    },
    "papermill": {
     "duration": 13.988958,
     "end_time": "2025-05-26T21:37:35.072393",
     "exception": false,
     "start_time": "2025-05-26T21:37:21.083435",
     "status": "completed"
    },
    "tags": []
   },
   "outputs": [
    {
     "data": {
      "image/png": "[encoded data removed]",
      "text/plain": [
       "<Figure size 1000x600 with 1 Axes>"
      ]
     },
     "metadata": {},
     "output_type": "display_data"
    }
   ],
   "source": [
    "# Plot training and validation losses\n",
    "plt.figure(figsize=(10, 6))\n",
    "plt.plot(train_losses, label='Training Loss')\n",
    "plt.plot(val_losses, label='Validation Loss')\n",
    "plt.xlabel('Epochs')\n",
    "plt.ylabel('RMSD Loss')\n",
    "plt.title('Training and Validation Losses')\n",
    "plt.legend()\n",
    "plt.grid(True)\n",
    "plt.show()"
   ]
  },
  {
   "cell_type": "code",
   "execution_count": 26,
   "id": "15a91397",
   "metadata": {
    "execution": {
     "iopub.execute_input": "2025-05-26T21:38:02.326001Z",
     "iopub.status.busy": "2025-05-26T21:38:02.325708Z",
     "iopub.status.idle": "2025-05-26T21:38:02.340700Z",
     "shell.execute_reply": "2025-05-26T21:38:02.340074Z"
    },
    "papermill": {
     "duration": 13.925504,
     "end_time": "2025-05-26T21:38:02.341813",
     "exception": false,
     "start_time": "2025-05-26T21:37:48.416309",
     "status": "completed"
    },
    "tags": []
   },
   "outputs": [],
   "source": [
    "# Generate multiple conformations for each RNA sequence\n",
    "def generate_multiple_conformations(model, data, num_conformations=5):\n",
    "    \"\"\"\n",
    "    Generate multiple structural conformations for an RNA sequence.\n",
    "    \n",
    "    Args:\n",
    "        model: The trained GNN model\n",
    "        data: Graph data object containing the RNA sequence\n",
    "        num_conformations: Number of conformations to generate (default: 5)\n",
    "        \n",
    "    Returns:\n",
    "        List of numpy arrays, each array has shape (n_nucleotides, 3) for x,y,z coordinates\n",
    "    \"\"\"\n",
    "    model.eval()\n",
    "    conformations = []\n",
    "    \n",
    "    # Set random seed for reproducibility\n",
    "    torch.manual_seed(42)\n",
    "    \n",
    "    with torch.no_grad():\n",
    "        # Generate first conformation (deterministic)\n",
    "        base_pred = model(data)\n",
    "        base_np = base_pred.cpu().numpy()\n",
    "        \n",
    "        # Check if base prediction contains NaN values\n",
    "        if np.isnan(base_np).any():\n",
    "            print(\"Warning: Base prediction contains NaN values. Replacing with zeros.\")\n",
    "            base_np = np.nan_to_num(base_np, nan=0.0)\n",
    "        \n",
    "        # Save the base prediction\n",
    "        conformations.append(base_np)\n",
    "        \n",
    "        # Generate additional conformations with controlled variations\n",
    "        for i in range(1, num_conformations):\n",
    "            # Use different seeds for different conformations\n",
    "            torch.manual_seed(42 + i * 100)  # Larger seed increment for more diversity\n",
    "            \n",
    "            # Create a copy of the base prediction with a small, controlled variation\n",
    "            variation = base_np.copy()\n",
    "            \n",
    "            # Add random noise with small magnitude (1-5% of the coordinate values)\n",
    "            # Calculate standard deviation of base coordinates to scale noise appropriately\n",
    "            if not np.all(base_np == 0):  # Check if base_np is not all zeros\n",
    "                coord_std = max(np.std(base_np), 0.5)  # Use at least 0.5 to avoid too small noise\n",
    "                noise_scale = coord_std * 0.05 * (i + 1)  # Increasing noise for each conformation\n",
    "            else:\n",
    "                # If base prediction is all zeros (which shouldn't happen normally)\n",
    "                noise_scale = 0.5 * (i + 1)\n",
    "            \n",
    "            # Generate noise and ensure it's not NaN\n",
    "            noise = np.random.normal(0, noise_scale, size=variation.shape)\n",
    "            \n",
    "            # Apply noise to create a new conformation\n",
    "            variation += noise\n",
    "            \n",
    "            # Ensure no NaN values\n",
    "            variation = np.nan_to_num(variation, nan=0.0)\n",
    "            \n",
    "            conformations.append(variation)\n",
    "    \n",
    "    # Double-check that all conformations are valid and contain no NaNs\n",
    "    for i, conf in enumerate(conformations):\n",
    "        if np.isnan(conf).any():\n",
    "            print(f\"Warning: Conformation {i+1} contains NaN values after processing. Replacing with zeros.\")\n",
    "            conformations[i] = np.nan_to_num(conf, nan=0.0)\n",
    "    \n",
    "    return conformations\n",
    "\n",
    "# Function to make multiple predictions for test data\n",
    "def predict_multiple_conformations(model, test_loader, device, num_conformations=5):\n",
    "    predictions = {}\n",
    "    \n",
    "    for data in test_loader:\n",
    "        data = data.to(device)\n",
    "        conformations = generate_multiple_conformations(model, data, num_conformations)\n",
    "        \n",
    "        # Store predictions - ensure target_id is a hashable type (string)\n",
    "        # The target_id could be stored as a list or other non-hashable type\n",
    "        if hasattr(data, 'target_id'):\n",
    "            # Convert to string if it's not already\n",
    "            if isinstance(data.target_id, list) and len(data.target_id) > 0:\n",
    "                target_id = str(data.target_id[0])  # Take the first element if it's a list\n",
    "            else:\n",
    "                target_id = str(data.target_id)  # Convert to string to ensure hashability\n",
    "        else:\n",
    "            # Generate a unique ID if none exists\n",
    "            target_id = f\"unknown_target_{len(predictions)}\"\n",
    "            \n",
    "        print(f\"Processing target: {target_id}\")\n",
    "        predictions[target_id] = conformations\n",
    "        \n",
    "        # If we have ground truth, report metrics for the first conformation\n",
    "        if hasattr(data, 'y') and data.y is not None and len(conformations) > 0:\n",
    "            first_conf = torch.tensor(conformations[0], device=device)\n",
    "            \n",
    "            if hasattr(data, 'mask') and data.mask is not None:\n",
    "                loss = rmsd_loss(first_conf, data.y, data.mask).item()\n",
    "            else:\n",
    "                loss = rmsd_loss(first_conf, data.y).item()\n",
    "                \n",
    "            print(f\"Prediction for {target_id}, RMSD of first conformation: {loss:.4f}\")\n",
    "    \n",
    "    return predictions\n",
    "\n",
    "# Example of how to use the prediction function on test data\n",
    "def process_test_data(test_sequences_path):\n",
    "    # Load test sequences\n",
    "    test_sequences = pd.read_csv(test_sequences_path)\n",
    "    \n",
    "    # Create test dataset (without labels)\n",
    "    test_dataset = create_dataset(test_sequences)\n",
    "    \n",
    "    # Create test loader\n",
    "    test_loader = DataLoader(test_dataset, batch_size=1, shuffle=False)\n",
    "    \n",
    "    # Make predictions\n",
    "    predictions = predict_multiple_conformations(model, test_loader, device)\n",
    "    \n",
    "    # Format predictions for submission\n",
    "    formatted_predictions = []\n",
    "    \n",
    "    for target_id, conformations in predictions.items():\n",
    "        for i, conformation in enumerate(conformations):\n",
    "            for j, coords in enumerate(conformation):\n",
    "                resid = j + 1  # 1-based indexing\n",
    "                row = {\n",
    "                    'ID': f\"{target_id}_{resid}\",\n",
    "                    f'x_{i+1}': coords[0],\n",
    "                    f'y_{i+1}': coords[1],\n",
    "                    f'z_{i+1}': coords[2]\n",
    "                }\n",
    "                formatted_predictions.append(row)\n",
    "    \n",
    "    # Create submission dataframe\n",
    "    submission_df = pd.DataFrame(formatted_predictions)\n",
    "    return submission_df"
   ]
  },
  {
   "cell_type": "code",
   "execution_count": 27,
   "id": "811034af",
   "metadata": {
    "execution": {
     "iopub.execute_input": "2025-05-26T21:38:29.341304Z",
     "iopub.status.busy": "2025-05-26T21:38:29.341035Z",
     "iopub.status.idle": "2025-05-26T21:38:35.643267Z",
     "shell.execute_reply": "2025-05-26T21:38:35.642667Z"
    },
    "papermill": {
     "duration": 19.965214,
     "end_time": "2025-05-26T21:38:35.644556",
     "exception": false,
     "start_time": "2025-05-26T21:38:15.679342",
     "status": "completed"
    },
    "tags": []
   },
   "outputs": [
    {
     "name": "stderr",
     "output_type": "stream",
     "text": [
      "100%|██████████| 12/12 [00:00<00:00, 464.56it/s]\n",
      "/usr/local/lib/python3.11/dist-packages/torch_geometric/deprecation.py:26: UserWarning: 'data.DataLoader' is deprecated, use 'loader.DataLoader' instead\n",
      "  warnings.warn(out)\n"
     ]
    },
    {
     "name": "stdout",
     "output_type": "stream",
     "text": [
      "Dataset creation: 0 sequences skipped due to non-standard nucleotides\n",
      "Dataset creation: 0 sequences have >50% NaN coordinates\n",
      "Processing target: R1107\n",
      "Processing target: R1108\n",
      "Processing target: R1116\n",
      "Processing target: R1117v2\n",
      "Processing target: R1126\n",
      "Processing target: R1128\n",
      "Processing target: R1136\n",
      "Processing target: R1138\n",
      "Processing target: R1149\n",
      "Processing target: R1156\n",
      "Processing target: R1189\n",
      "Processing target: R1190\n"
     ]
    }
   ],
   "source": [
    "test_predictions = process_test_data(\"/kaggle/input/stanford-rna-3d-folding/test_sequences.csv\")\n",
    "sub = pd.read_csv(\"/kaggle/input/stanford-rna-3d-folding/sample_submission.csv\")\n",
    "DF_ROWS = []\n",
    "\n",
    "for i, row in sub.iterrows():\n",
    "    snap = test_predictions[test_predictions['ID'] == row['ID']]\n",
    "    x1, y1, z1, x2, y2, z2, x3, y3, z3, x4, y4, z4, x5, y5, z5 = snap['x_1'], snap['y_1'], snap['z_1'], snap['x_2'], snap['y_2'], snap['z_2'], snap['x_3'], snap['y_3'], snap['z_3'], snap['x_4'], snap['y_4'], snap['z_4'], snap['x_5'], snap['y_5'], snap['z_5']\n",
    "    x1, y1, z1, x2, y2, z2, x3, y3, z3, x4, y4, z4, x5, y5, z5 = x1.values[0], y1.values[0], z1.values[0], x2.values[1], y2.values[1], z2.values[1], x3.values[2], y3.values[2], z3.values[2], x4.values[3], y4.values[3], z4.values[3], x5.values[4], y5.values[4], z5.values[4]\n",
    "    _row = [x1, y1, z1, x2, y2, z2, x3, y3, z3, x4, y4, z4, x5, y5, z5]\n",
    "    DF_ROWS.append(_row)\n",
    "sub[['x_1', 'y_1', 'z_1', 'x_2', 'y_2', 'z_2', 'x_3', 'y_3', 'z_3', 'x_4', 'y_4', 'z_4', 'x_5', 'y_5', 'z_5']] = DF_ROWS\n",
    "sub.head()\n",
    "sub.to_csv(\"submission.csv\", index=False)"
   ]
  }
 ],
 "metadata": {
  "kaggle": {
   "accelerator": "gpu",
   "dataSources": [
    {
     "databundleVersionId": 12276181,
     "isSourceIdPinned": false,
     "sourceId": 87793,
     "sourceType": "competition"
    },
    {
     "datasetId": 7463881,
     "sourceId": 11876280,
     "sourceType": "datasetVersion"
    }
   ],
   "dockerImageVersionId": 31041,
   "isGpuEnabled": true,
   "isInternetEnabled": false,
   "language": "python",
   "sourceType": "notebook"
  },
  "kernelspec": {
   "display_name": "Python 3",
   "language": "python",
   "name": "python3"
  },
  "language_info": {
   "codemirror_mode": {
    "name": "ipython",
    "version": 3
   },
   "file_extension": ".py",
   "mimetype": "text/x-python",
   "name": "python",
   "nbconvert_exporter": "python",
   "pygments_lexer": "ipython3",
   "version": "3.11.11"
  },
  "papermill": {
   "default_parameters": {},
   "duration": 7867.608547,
   "end_time": "2025-05-26T21:38:52.662187",
   "environment_variables": {},
   "exception": null,
   "input_path": "__notebook__.ipynb",
   "output_path": "__notebook__.ipynb",
   "parameters": {},
   "start_time": "2025-05-26T19:27:45.053640",
   "version": "2.6.0"
  }
 },
 "nbformat": 4,
 "nbformat_minor": 5
}
