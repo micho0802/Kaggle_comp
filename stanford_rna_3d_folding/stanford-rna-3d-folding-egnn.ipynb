{
 "cells": [
  {
   "cell_type": "code",
   "execution_count": 1,
   "id": "1d938461",
   "metadata": {
    "_cell_guid": "e6d49ece-b779-4530-b1b1-56e67f171e87",
    "_uuid": "003c9667-4ab6-43cc-ae96-032fa6b06658",
    "collapsed": false,
    "execution": {
     "iopub.execute_input": "2025-05-18T21:52:56.242883Z",
     "iopub.status.busy": "2025-05-18T21:52:56.242239Z",
     "iopub.status.idle": "2025-05-18T21:53:12.825314Z",
     "shell.execute_reply": "2025-05-18T21:53:12.824481Z"
    },
    "jupyter": {
     "outputs_hidden": false
    },
    "papermill": {
     "duration": 16.590628,
     "end_time": "2025-05-18T21:53:12.826860",
     "exception": false,
     "start_time": "2025-05-18T21:52:56.236232",
     "status": "completed"
    },
    "tags": []
   },
   "outputs": [],
   "source": [
    "# This Python 3 environment comes with many helpful analytics libraries installed\n",
    "# It is defined by the kaggle/python Docker image: https://github.com/kaggle/docker-python\n",
    "# For example, here's several helpful packages to load\n",
    "\n",
    "import numpy as np # linear algebra\n",
    "import pandas as pd # data processing, CSV file I/O (e.g. pd.read_csv)\n",
    "\n",
    "# Input data files are available in the read-only \"../input/\" directory\n",
    "# For example, running this (by clicking run or pressing Shift+Enter) will list all files under the input directory\n",
    "\n",
    "import os\n",
    "for dirname, _, filenames in os.walk('/kaggle/input'):\n",
    "    for filename in filenames:\n",
    "        pass\n",
    "        #print(os.path.join(dirname, filename))\n",
    "\n",
    "# You can write up to 20GB to the current directory (/kaggle/working/) that gets preserved as output when you create a version using \"Save & Run All\" \n",
    "# You can also write temporary files to /kaggle/temp/, but they won't be saved outside of the current session"
   ]
  },
  {
   "cell_type": "code",
   "execution_count": 2,
   "id": "a9215276",
   "metadata": {
    "execution": {
     "iopub.execute_input": "2025-05-18T21:53:12.837338Z",
     "iopub.status.busy": "2025-05-18T21:53:12.836722Z",
     "iopub.status.idle": "2025-05-18T21:53:16.332537Z",
     "shell.execute_reply": "2025-05-18T21:53:16.331765Z"
    },
    "papermill": {
     "duration": 3.502638,
     "end_time": "2025-05-18T21:53:16.334470",
     "exception": false,
     "start_time": "2025-05-18T21:53:12.831832",
     "status": "completed"
    },
    "tags": []
   },
   "outputs": [
    {
     "name": "stdout",
     "output_type": "stream",
     "text": [
      "Looking in links: /kaggle/input/egnn-required-libraries\r\n",
      "Processing /kaggle/input/egnn-required-libraries/torch_scatter-2.1.2+pt26cu124-cp311-cp311-linux_x86_64.whl\r\n",
      "Processing /kaggle/input/egnn-required-libraries/torch_geometric-2.6.1-py3-none-any.whl\r\n",
      "Processing /kaggle/input/egnn-required-libraries/egnn_pytorch-0.2.8-py3-none-any.whl\r\n",
      "Installing collected packages: egnn-pytorch, torch-scatter, torch-geometric\r\n",
      "Successfully installed egnn-pytorch-0.2.8 torch-geometric-2.6.1 torch-scatter-2.1.2+pt26cu124\r\n"
     ]
    }
   ],
   "source": [
    "!pip install --no-deps --no-index --find-links=/kaggle/input/egnn-required-libraries torch-scatter torch-geometric egnn-pytorch\n"
   ]
  },
  {
   "cell_type": "code",
   "execution_count": 3,
   "id": "c755bd3e",
   "metadata": {
    "execution": {
     "iopub.execute_input": "2025-05-18T21:53:16.344923Z",
     "iopub.status.busy": "2025-05-18T21:53:16.344649Z",
     "iopub.status.idle": "2025-05-18T21:53:28.709857Z",
     "shell.execute_reply": "2025-05-18T21:53:28.709022Z"
    },
    "papermill": {
     "duration": 12.372064,
     "end_time": "2025-05-18T21:53:28.711463",
     "exception": false,
     "start_time": "2025-05-18T21:53:16.339399",
     "status": "completed"
    },
    "tags": []
   },
   "outputs": [],
   "source": [
    "import numpy as np\n",
    "import pandas as pd\n",
    "import matplotlib.pyplot as plt\n",
    "import torch\n",
    "import torch_geometric\n",
    "from torch_geometric.data import Data, DataLoader\n",
    "import os\n",
    "import numpy as np\n",
    "import pandas as pd\n",
    "import torch\n",
    "import torch.nn as nn\n",
    "import torch.nn.functional as F\n",
    "from torch_geometric.nn import SAGEConv, MessagePassing\n",
    "from torch_geometric.utils import remove_self_loops, add_self_loops\n",
    "import torch_scatter\n",
    "from egnn_pytorch import EGNN  \n",
    "from sklearn.model_selection import train_test_split\n",
    "import matplotlib.pyplot as plt\n",
    "from tqdm import tqdm\n",
    "import random\n",
    "\n",
    "\n",
    "# Set random seeds for reproducibility\n",
    "def set_seed(seed=42):\n",
    "    random.seed(seed)\n",
    "    np.random.seed(seed)\n",
    "    torch.manual_seed(seed)\n",
    "    torch.cuda.manual_seed_all(seed)\n",
    "    os.environ['PYTHONHASHSEED'] = str(seed)\n",
    "    torch.backends.cudnn.deterministic = True\n",
    "\n",
    "set_seed(42)"
   ]
  },
  {
   "cell_type": "code",
   "execution_count": 4,
   "id": "e7efc4f7",
   "metadata": {
    "execution": {
     "iopub.execute_input": "2025-05-18T21:53:28.721569Z",
     "iopub.status.busy": "2025-05-18T21:53:28.721150Z",
     "iopub.status.idle": "2025-05-18T21:53:28.724659Z",
     "shell.execute_reply": "2025-05-18T21:53:28.724116Z"
    },
    "papermill": {
     "duration": 0.00946,
     "end_time": "2025-05-18T21:53:28.725666",
     "exception": false,
     "start_time": "2025-05-18T21:53:28.716206",
     "status": "completed"
    },
    "tags": []
   },
   "outputs": [],
   "source": [
    "MAX_SEQ_LEN = 1024"
   ]
  },
  {
   "cell_type": "code",
   "execution_count": 5,
   "id": "cd06d837",
   "metadata": {
    "execution": {
     "iopub.execute_input": "2025-05-18T21:53:28.734989Z",
     "iopub.status.busy": "2025-05-18T21:53:28.734793Z",
     "iopub.status.idle": "2025-05-18T21:53:29.036095Z",
     "shell.execute_reply": "2025-05-18T21:53:29.034745Z"
    },
    "papermill": {
     "duration": 0.307636,
     "end_time": "2025-05-18T21:53:29.037641",
     "exception": false,
     "start_time": "2025-05-18T21:53:28.730005",
     "status": "completed"
    },
    "tags": []
   },
   "outputs": [
    {
     "name": "stdout",
     "output_type": "stream",
     "text": [
      "Loaded 844 RNA sequences and 137095 nucleotide labels\n"
     ]
    }
   ],
   "source": [
    "# Define paths to data files\n",
    "TRAIN_SEQUENCES_PATH = \"/kaggle/input/stanford-rna-3d-folding/train_sequences.csv\"\n",
    "TRAIN_LABELS_PATH = \"/kaggle/input/stanford-rna-3d-folding/train_labels.csv\"\n",
    "# Load data\n",
    "train_sequences = pd.read_csv(TRAIN_SEQUENCES_PATH)\n",
    "train_labels = pd.read_csv(TRAIN_LABELS_PATH)\n",
    "\n",
    "print(f\"Loaded {len(train_sequences)} RNA sequences and {len(train_labels)} nucleotide labels\")"
   ]
  },
  {
   "cell_type": "code",
   "execution_count": 6,
   "id": "d840265d",
   "metadata": {
    "execution": {
     "iopub.execute_input": "2025-05-18T21:53:29.054290Z",
     "iopub.status.busy": "2025-05-18T21:53:29.053500Z",
     "iopub.status.idle": "2025-05-18T21:53:29.058045Z",
     "shell.execute_reply": "2025-05-18T21:53:29.057346Z"
    },
    "papermill": {
     "duration": 0.014097,
     "end_time": "2025-05-18T21:53:29.059364",
     "exception": false,
     "start_time": "2025-05-18T21:53:29.045267",
     "status": "completed"
    },
    "tags": []
   },
   "outputs": [],
   "source": [
    "# Preprocess data\n",
    "# 1. Encoding nucleotides\n",
    "nucleotide_mapping = {'A': 0, 'C': 1, 'G': 2, 'U': 3}\n",
    "reverse_mapping = {0: 'A', 1: 'C', 2: 'G', 3: 'U'}"
   ]
  },
  {
   "cell_type": "code",
   "execution_count": 7,
   "id": "e0c68666",
   "metadata": {
    "execution": {
     "iopub.execute_input": "2025-05-18T21:53:29.072946Z",
     "iopub.status.busy": "2025-05-18T21:53:29.072642Z",
     "iopub.status.idle": "2025-05-18T21:53:29.078134Z",
     "shell.execute_reply": "2025-05-18T21:53:29.077250Z"
    },
    "papermill": {
     "duration": 0.01576,
     "end_time": "2025-05-18T21:53:29.079755",
     "exception": false,
     "start_time": "2025-05-18T21:53:29.063995",
     "status": "completed"
    },
    "tags": []
   },
   "outputs": [],
   "source": [
    "# 2. Create feature representation for each nucleotide\n",
    "def one_hot_encode(nucleotide):\n",
    "    encoding = [0, 0, 0, 0]\n",
    "    if nucleotide in nucleotide_mapping:\n",
    "        encoding[nucleotide_mapping[nucleotide]] = 1\n",
    "    return encoding"
   ]
  },
  {
   "cell_type": "code",
   "execution_count": 8,
   "id": "768d281e",
   "metadata": {
    "execution": {
     "iopub.execute_input": "2025-05-18T21:53:29.089640Z",
     "iopub.status.busy": "2025-05-18T21:53:29.089435Z",
     "iopub.status.idle": "2025-05-18T21:53:29.099775Z",
     "shell.execute_reply": "2025-05-18T21:53:29.099229Z"
    },
    "papermill": {
     "duration": 0.01634,
     "end_time": "2025-05-18T21:53:29.100777",
     "exception": false,
     "start_time": "2025-05-18T21:53:29.084437",
     "status": "completed"
    },
    "tags": []
   },
   "outputs": [],
   "source": [
    "# Function to create a graph from an RNA sequence\n",
    "def sequence_to_graph(sequence, target_id, labels_df=None, max_connections=MAX_SEQ_LEN):\n",
    "    \"\"\"\n",
    "    Create a graph representation of an RNA sequence.\n",
    "    \n",
    "    Args:\n",
    "        sequence: The RNA sequence\n",
    "        target_id: Identifier for the RNA\n",
    "        labels_df: Optional dataframe with 3D coordinate labels\n",
    "        max_connections: Maximum number of edges to create (to avoid CUDA OOM errors)\n",
    "        \n",
    "    Returns:\n",
    "        PyTorch Geometric Data object\n",
    "    \"\"\"\n",
    "    # One-hot encode each nucleotide\n",
    "    x = [one_hot_encode(nt) for nt in sequence]\n",
    "    x = torch.tensor(x, dtype=torch.float)\n",
    "    \n",
    "    # Create edges - connect adjacent nucleotides (backbone)\n",
    "    # and potentially other connections based on domain knowledge\n",
    "    edges = []\n",
    "    \n",
    "    # Always add backbone connections\n",
    "    for i in range(len(sequence) - 1):\n",
    "        # Connect to next nucleotide (backbone)\n",
    "        edges.append([i, i + 1])\n",
    "        edges.append([i + 1, i])  # Bidirectional\n",
    "    \n",
    "    # Add potential base-pairing connections, but limit total edges to avoid OOM\n",
    "    edge_count = len(edges)\n",
    "    max_additional_edges = max_connections - edge_count\n",
    "    \n",
    "    if max_additional_edges > 0:\n",
    "        potential_base_pairs = []\n",
    "        \n",
    "        # Identify potential base pairs (A-U, G-C)\n",
    "        for i in range(len(sequence)):\n",
    "            for j in range(i + 3, len(sequence)):  # Minimum loop size of 3\n",
    "                if (sequence[i] == 'A' and sequence[j] == 'U') or \\\n",
    "                   (sequence[i] == 'U' and sequence[j] == 'A') or \\\n",
    "                   (sequence[i] == 'G' and sequence[j] == 'C') or \\\n",
    "                   (sequence[i] == 'C' and sequence[j] == 'G'):\n",
    "                    # Store the potential base pair\n",
    "                    potential_base_pairs.append((i, j))\n",
    "        \n",
    "        # Randomly select base pairs if we have too many\n",
    "        if len(potential_base_pairs) > max_additional_edges // 2:  # Divide by 2 for bidirectional edges\n",
    "            # Shuffle and take only what we can handle\n",
    "            random.shuffle(potential_base_pairs)\n",
    "            potential_base_pairs = potential_base_pairs[:max_additional_edges // 2]\n",
    "        \n",
    "        # Add the selected base pairs\n",
    "        for i, j in potential_base_pairs:\n",
    "            edges.append([i, j])\n",
    "            edges.append([j, i])  # Bidirectional\n",
    "    \n",
    "    # Convert edges to tensor\n",
    "    edge_index = torch.tensor(edges, dtype=torch.long).t().contiguous()\n",
    "    \n",
    "    # Get coordinates if available\n",
    "    y = None\n",
    "    mask = None\n",
    "    if labels_df is not None:\n",
    "        target_labels = labels_df[labels_df['ID'].str.startswith(target_id + '_')]\n",
    "        \n",
    "        # Sort by residue ID to match sequence order\n",
    "        target_labels = target_labels.sort_values(by='resid')\n",
    "        \n",
    "        # Check if we have the expected number of residues\n",
    "        if len(target_labels) == len(sequence):\n",
    "            # Extract coordinates for each residue\n",
    "            coordinates = target_labels[['x_1', 'y_1', 'z_1']].values\n",
    "            \n",
    "            # Create a mask for NaN values (1 for valid, 0 for NaN)\n",
    "            valid_mask = ~np.isnan(coordinates).any(axis=1)\n",
    "            mask = torch.tensor(valid_mask, dtype=torch.float)\n",
    "            \n",
    "            # Replace NaN with zeros (we'll mask these during loss calculation)\n",
    "            coordinates = np.nan_to_num(coordinates, nan=0.0)\n",
    "            \n",
    "            y = torch.tensor(coordinates, dtype=torch.float)\n",
    "        else:\n",
    "            print(f\"Warning: Mismatch in sequence length and label count for {target_id}\")\n",
    "    \n",
    "    # Create the data object with properly typed target_id (as string)\n",
    "    data = Data(x=x, edge_index=edge_index, y=y, mask=mask)\n",
    "    \n",
    "    # Store target_id as a string attribute\n",
    "    data.target_id = str(target_id)\n",
    "    \n",
    "    return data"
   ]
  },
  {
   "cell_type": "code",
   "execution_count": 9,
   "id": "a62e616b",
   "metadata": {
    "execution": {
     "iopub.execute_input": "2025-05-18T21:53:29.111262Z",
     "iopub.status.busy": "2025-05-18T21:53:29.110816Z",
     "iopub.status.idle": "2025-05-18T21:53:29.116779Z",
     "shell.execute_reply": "2025-05-18T21:53:29.116252Z"
    },
    "papermill": {
     "duration": 0.012004,
     "end_time": "2025-05-18T21:53:29.117842",
     "exception": false,
     "start_time": "2025-05-18T21:53:29.105838",
     "status": "completed"
    },
    "tags": []
   },
   "outputs": [],
   "source": [
    "def create_dataset(sequences_df, labels_df=None):\n",
    "    dataset = []\n",
    "    skipped_count = 0\n",
    "    nan_count = 0\n",
    "    \n",
    "    for idx, row in tqdm(sequences_df.iterrows(), total=len(sequences_df)):\n",
    "        target_id = row['target_id']\n",
    "        sequence = row['sequence']\n",
    "        \n",
    "        # Clean sequence - replace any non-standard nucleotides with 'N'\n",
    "        # and count how many non-standard nucleotides there are\n",
    "        cleaned_sequence = ''\n",
    "        non_standard_count = 0\n",
    "        \n",
    "        for nt in sequence:\n",
    "            if nt in nucleotide_mapping:\n",
    "                cleaned_sequence += nt\n",
    "            else:\n",
    "                cleaned_sequence += 'N'  # Placeholder for non-standard nucleotides\n",
    "                non_standard_count += 1\n",
    "        \n",
    "        # If too many non-standard nucleotides (>10%), skip this sequence\n",
    "        if non_standard_count / len(sequence) > 0.1:\n",
    "            print(f\"Skipping sequence {target_id} with {non_standard_count} non-standard nucleotides\")\n",
    "            skipped_count += 1\n",
    "            continue\n",
    "        \n",
    "        # Create graph\n",
    "        graph = sequence_to_graph(cleaned_sequence, target_id, labels_df)\n",
    "        \n",
    "        # Check if we have labels with many NaN values\n",
    "        if labels_df is not None and hasattr(graph, 'mask') and graph.mask is not None:\n",
    "            nan_percentage = 1.0 - torch.mean(graph.mask).item()\n",
    "            if nan_percentage > 0.5:  # If more than 50% coordinates are NaN\n",
    "                print(f\"Warning: Sequence {target_id} has {nan_percentage:.1%} NaN coordinates\")\n",
    "                nan_count += 1\n",
    "        \n",
    "        # Add to dataset if no labels needed or valid labels exist\n",
    "        if labels_df is None or graph.y is not None:\n",
    "            dataset.append(graph)\n",
    "    \n",
    "    print(f\"Dataset creation: {skipped_count} sequences skipped due to non-standard nucleotides\")\n",
    "    print(f\"Dataset creation: {nan_count} sequences have >50% NaN coordinates\")\n",
    "    \n",
    "    return dataset"
   ]
  },
  {
   "cell_type": "code",
   "execution_count": 10,
   "id": "a1ce0247",
   "metadata": {
    "execution": {
     "iopub.execute_input": "2025-05-18T21:53:29.126942Z",
     "iopub.status.busy": "2025-05-18T21:53:29.126758Z",
     "iopub.status.idle": "2025-05-18T21:53:29.133987Z",
     "shell.execute_reply": "2025-05-18T21:53:29.133496Z"
    },
    "papermill": {
     "duration": 0.012875,
     "end_time": "2025-05-18T21:53:29.134929",
     "exception": false,
     "start_time": "2025-05-18T21:53:29.122054",
     "status": "completed"
    },
    "tags": []
   },
   "outputs": [],
   "source": [
    "data={\n",
    "      \"sequence\":train_sequences['sequence'].to_list(),\n",
    "      \"temporal_cutoff\": train_sequences['temporal_cutoff'].to_list(),\n",
    "      \"description\": train_sequences['description'].to_list(),\n",
    "      \"all_sequences\": train_sequences['all_sequences'].to_list(),\n",
    "}\n",
    "config = {\n",
    "    \"cutoff_date\": \"2020-01-01\",\n",
    "    \"test_cutoff_date\": \"2022-05-01\",\n",
    "}"
   ]
  },
  {
   "cell_type": "code",
   "execution_count": 11,
   "id": "63be2d6f",
   "metadata": {
    "execution": {
     "iopub.execute_input": "2025-05-18T21:53:29.144407Z",
     "iopub.status.busy": "2025-05-18T21:53:29.144188Z",
     "iopub.status.idle": "2025-05-18T21:53:29.151540Z",
     "shell.execute_reply": "2025-05-18T21:53:29.151050Z"
    },
    "papermill": {
     "duration": 0.013187,
     "end_time": "2025-05-18T21:53:29.152504",
     "exception": false,
     "start_time": "2025-05-18T21:53:29.139317",
     "status": "completed"
    },
    "tags": []
   },
   "outputs": [],
   "source": [
    "# Split data into train and test\n",
    "all_index = np.arange(len(data['sequence']))\n",
    "cutoff_date = pd.Timestamp(config['cutoff_date'])\n",
    "test_cutoff_date = pd.Timestamp(config['test_cutoff_date'])\n",
    "train_index = [i for i, d in enumerate(data['temporal_cutoff']) if pd.Timestamp(d) <= cutoff_date]\n",
    "test_index = [i for i, d in enumerate(data['temporal_cutoff']) if pd.Timestamp(d) > cutoff_date and pd.Timestamp(d) <= test_cutoff_date]"
   ]
  },
  {
   "cell_type": "code",
   "execution_count": 12,
   "id": "44c7e732",
   "metadata": {
    "execution": {
     "iopub.execute_input": "2025-05-18T21:53:29.161519Z",
     "iopub.status.busy": "2025-05-18T21:53:29.161342Z",
     "iopub.status.idle": "2025-05-18T21:53:54.759822Z",
     "shell.execute_reply": "2025-05-18T21:53:54.758904Z"
    },
    "papermill": {
     "duration": 25.604409,
     "end_time": "2025-05-18T21:53:54.761113",
     "exception": false,
     "start_time": "2025-05-18T21:53:29.156704",
     "status": "completed"
    },
    "tags": []
   },
   "outputs": [
    {
     "name": "stderr",
     "output_type": "stream",
     "text": [
      " 14%|█▎        | 115/844 [00:03<00:21, 34.36it/s]"
     ]
    },
    {
     "name": "stdout",
     "output_type": "stream",
     "text": [
      "Warning: Sequence 1LS2_B has 100.0% NaN coordinates\n"
     ]
    },
    {
     "name": "stderr",
     "output_type": "stream",
     "text": [
      " 16%|█▌        | 135/844 [00:03<00:20, 35.03it/s]"
     ]
    },
    {
     "name": "stdout",
     "output_type": "stream",
     "text": [
      "Warning: Sequence 1P6V_D has 64.7% NaN coordinates\n",
      "Warning: Sequence 1QZC_C has 100.0% NaN coordinates\n"
     ]
    },
    {
     "name": "stderr",
     "output_type": "stream",
     "text": [
      " 17%|█▋        | 143/844 [00:04<00:20, 34.63it/s]"
     ]
    },
    {
     "name": "stdout",
     "output_type": "stream",
     "text": [
      "Warning: Sequence 1R2W_C has 100.0% NaN coordinates\n",
      "Warning: Sequence 1QZC_B has 100.0% NaN coordinates\n",
      "Warning: Sequence 1QZA_B has 100.0% NaN coordinates\n",
      "Warning: Sequence 1QZB_B has 100.0% NaN coordinates\n"
     ]
    },
    {
     "name": "stderr",
     "output_type": "stream",
     "text": [
      " 20%|██        | 171/844 [00:04<00:19, 34.96it/s]"
     ]
    },
    {
     "name": "stdout",
     "output_type": "stream",
     "text": [
      "Warning: Sequence 1Y1Y_P has 100.0% NaN coordinates\n"
     ]
    },
    {
     "name": "stderr",
     "output_type": "stream",
     "text": [
      " 21%|██        | 179/844 [00:05<00:19, 34.90it/s]"
     ]
    },
    {
     "name": "stdout",
     "output_type": "stream",
     "text": [
      "Warning: Sequence 1ZC8_Z has 100.0% NaN coordinates\n",
      "Warning: Sequence 1ZC8_G has 100.0% NaN coordinates\n",
      "Warning: Sequence 1ZC8_J has 100.0% NaN coordinates\n",
      "Warning: Sequence 1ZC8_F has 100.0% NaN coordinates\n",
      "Warning: Sequence 1ZC8_I has 100.0% NaN coordinates\n",
      "Warning: Sequence 1ZC8_H has 100.0% NaN coordinates\n",
      "Warning: Sequence 1X18_D has 100.0% NaN coordinates\n"
     ]
    },
    {
     "name": "stderr",
     "output_type": "stream",
     "text": [
      " 22%|██▏       | 187/844 [00:05<00:19, 34.41it/s]"
     ]
    },
    {
     "name": "stdout",
     "output_type": "stream",
     "text": [
      "Warning: Sequence 1X18_A has 100.0% NaN coordinates\n",
      "Warning: Sequence 1X18_B has 100.0% NaN coordinates\n",
      "Warning: Sequence 1ZN1_B has 100.0% NaN coordinates\n"
     ]
    },
    {
     "name": "stderr",
     "output_type": "stream",
     "text": [
      " 25%|██▌       | 211/844 [00:06<00:18, 34.20it/s]"
     ]
    },
    {
     "name": "stdout",
     "output_type": "stream",
     "text": [
      "Warning: Sequence 2BS0_S has 55.0% NaN coordinates\n"
     ]
    },
    {
     "name": "stderr",
     "output_type": "stream",
     "text": [
      " 26%|██▌       | 219/844 [00:06<00:18, 34.61it/s]"
     ]
    },
    {
     "name": "stdout",
     "output_type": "stream",
     "text": [
      "Warning: Sequence 2AGN_C has 100.0% NaN coordinates\n",
      "Warning: Sequence 2AGN_A has 100.0% NaN coordinates\n"
     ]
    },
    {
     "name": "stderr",
     "output_type": "stream",
     "text": [
      " 28%|██▊       | 235/844 [00:06<00:17, 34.29it/s]"
     ]
    },
    {
     "name": "stdout",
     "output_type": "stream",
     "text": [
      "Warning: Sequence 2IY3_B has 100.0% NaN coordinates\n"
     ]
    },
    {
     "name": "stderr",
     "output_type": "stream",
     "text": [
      " 29%|██▉       | 247/844 [00:07<00:17, 33.81it/s]"
     ]
    },
    {
     "name": "stdout",
     "output_type": "stream",
     "text": [
      "Warning: Sequence 2OB7_D has 100.0% NaN coordinates\n"
     ]
    },
    {
     "name": "stderr",
     "output_type": "stream",
     "text": [
      " 34%|███▎      | 283/844 [00:08<00:16, 34.89it/s]"
     ]
    },
    {
     "name": "stdout",
     "output_type": "stream",
     "text": [
      "Warning: Sequence 2R1G_C has 100.0% NaN coordinates\n",
      "Warning: Sequence 2R1G_A has 100.0% NaN coordinates\n",
      "Warning: Sequence 2R1G_X has 100.0% NaN coordinates\n",
      "Warning: Sequence 2R1G_F has 100.0% NaN coordinates\n",
      "Warning: Sequence 2R1G_B has 100.0% NaN coordinates\n",
      "Warning: Sequence 2R1G_E has 100.0% NaN coordinates\n"
     ]
    },
    {
     "name": "stderr",
     "output_type": "stream",
     "text": [
      " 36%|███▋      | 307/844 [00:08<00:15, 34.63it/s]"
     ]
    },
    {
     "name": "stdout",
     "output_type": "stream",
     "text": [
      "Warning: Sequence 3EQ3_E has 100.0% NaN coordinates\n",
      "Warning: Sequence 3EQ3_Y has 100.0% NaN coordinates\n",
      "Warning: Sequence 3EP2_B has 100.0% NaN coordinates\n",
      "Warning: Sequence 3EP2_D has 100.0% NaN coordinates\n",
      "Warning: Sequence 3EQ4_A has 100.0% NaN coordinates\n",
      "Warning: Sequence 3EP2_C has 100.0% NaN coordinates\n"
     ]
    },
    {
     "name": "stderr",
     "output_type": "stream",
     "text": [
      " 37%|███▋      | 315/844 [00:09<00:15, 34.56it/s]"
     ]
    },
    {
     "name": "stdout",
     "output_type": "stream",
     "text": [
      "Warning: Sequence 3CW1_v has 100.0% NaN coordinates\n"
     ]
    },
    {
     "name": "stderr",
     "output_type": "stream",
     "text": [
      " 41%|████      | 347/844 [00:10<00:15, 31.25it/s]"
     ]
    },
    {
     "name": "stdout",
     "output_type": "stream",
     "text": [
      "Warning: Sequence 3PGW_N has 100.0% NaN coordinates\n"
     ]
    },
    {
     "name": "stderr",
     "output_type": "stream",
     "text": [
      " 51%|█████     | 427/844 [00:12<00:12, 32.91it/s]"
     ]
    },
    {
     "name": "stdout",
     "output_type": "stream",
     "text": [
      "Warning: Sequence 4V5Z_BP has 100.0% NaN coordinates\n"
     ]
    },
    {
     "name": "stderr",
     "output_type": "stream",
     "text": [
      " 52%|█████▏    | 443/844 [00:12<00:12, 32.83it/s]"
     ]
    },
    {
     "name": "stdout",
     "output_type": "stream",
     "text": [
      "Warning: Sequence 4V5Z_BA has 100.0% NaN coordinates\n",
      "Warning: Sequence 4V5Z_BH has 100.0% NaN coordinates\n",
      "Warning: Sequence 4V5Z_BL has 100.0% NaN coordinates\n"
     ]
    },
    {
     "name": "stderr",
     "output_type": "stream",
     "text": [
      " 53%|█████▎    | 451/844 [00:13<00:12, 32.57it/s]"
     ]
    },
    {
     "name": "stdout",
     "output_type": "stream",
     "text": [
      "Warning: Sequence 4V5Z_BC has 100.0% NaN coordinates\n",
      "Warning: Sequence 4V5Z_BK has 100.0% NaN coordinates\n",
      "Warning: Sequence 4V5Z_AH has 100.0% NaN coordinates\n"
     ]
    },
    {
     "name": "stderr",
     "output_type": "stream",
     "text": [
      " 55%|█████▍    | 463/844 [00:13<00:15, 24.49it/s]"
     ]
    },
    {
     "name": "stdout",
     "output_type": "stream",
     "text": [
      "Warning: Sequence 4V5Z_BU has 100.0% NaN coordinates\n",
      "Warning: Sequence 4V5Z_BQ has 100.0% NaN coordinates\n",
      "Warning: Sequence 4V5Z_AF has 100.0% NaN coordinates\n",
      "Warning: Sequence 4V5Z_BM has 100.0% NaN coordinates\n"
     ]
    },
    {
     "name": "stderr",
     "output_type": "stream",
     "text": [
      " 56%|█████▌    | 471/844 [00:14<00:13, 28.67it/s]"
     ]
    },
    {
     "name": "stdout",
     "output_type": "stream",
     "text": [
      "Warning: Sequence 4OQ9_3 has 90.0% NaN coordinates\n"
     ]
    },
    {
     "name": "stderr",
     "output_type": "stream",
     "text": [
      " 61%|██████    | 511/844 [00:15<00:09, 33.94it/s]"
     ]
    },
    {
     "name": "stdout",
     "output_type": "stream",
     "text": [
      "Warning: Sequence 5GAP_U has 90.7% NaN coordinates\n"
     ]
    },
    {
     "name": "stderr",
     "output_type": "stream",
     "text": [
      " 69%|██████▊   | 579/844 [00:17<00:09, 28.92it/s]"
     ]
    },
    {
     "name": "stdout",
     "output_type": "stream",
     "text": [
      "Warning: Sequence 6IV6_G has 55.9% NaN coordinates\n"
     ]
    },
    {
     "name": "stderr",
     "output_type": "stream",
     "text": [
      " 70%|███████   | 595/844 [00:17<00:07, 31.26it/s]"
     ]
    },
    {
     "name": "stdout",
     "output_type": "stream",
     "text": [
      "Warning: Sequence 6HYU_D has 66.7% NaN coordinates\n"
     ]
    },
    {
     "name": "stderr",
     "output_type": "stream",
     "text": [
      " 73%|███████▎  | 615/844 [00:18<00:06, 32.86it/s]"
     ]
    },
    {
     "name": "stdout",
     "output_type": "stream",
     "text": [
      "Warning: Sequence 6WB1_C has 68.0% NaN coordinates\n"
     ]
    },
    {
     "name": "stderr",
     "output_type": "stream",
     "text": [
      " 76%|███████▌  | 643/844 [00:19<00:06, 32.64it/s]"
     ]
    },
    {
     "name": "stdout",
     "output_type": "stream",
     "text": [
      "Warning: Sequence 6Y0C_IN1 has 59.2% NaN coordinates\n"
     ]
    },
    {
     "name": "stderr",
     "output_type": "stream",
     "text": [
      " 80%|████████  | 676/844 [00:20<00:05, 32.46it/s]"
     ]
    },
    {
     "name": "stdout",
     "output_type": "stream",
     "text": [
      "Warning: Sequence 6WW6_E has 68.5% NaN coordinates\n",
      "Warning: Sequence 6WW6_F has 68.5% NaN coordinates\n",
      "Warning: Sequence 6WW6_C has 66.7% NaN coordinates\n",
      "Warning: Sequence 7M57_ii has 63.0% NaN coordinates\n"
     ]
    },
    {
     "name": "stderr",
     "output_type": "stream",
     "text": [
      " 81%|████████  | 680/844 [00:20<00:05, 32.41it/s]"
     ]
    },
    {
     "name": "stdout",
     "output_type": "stream",
     "text": [
      "Warning: Sequence 7M2T_ss has 74.1% NaN coordinates\n"
     ]
    },
    {
     "name": "stderr",
     "output_type": "stream",
     "text": [
      " 82%|████████▏ | 692/844 [00:20<00:04, 33.17it/s]"
     ]
    },
    {
     "name": "stdout",
     "output_type": "stream",
     "text": [
      "Warning: Sequence 7SLP_R has 54.3% NaN coordinates\n",
      "Warning: Sequence 7S3H_R has 70.6% NaN coordinates\n"
     ]
    },
    {
     "name": "stderr",
     "output_type": "stream",
     "text": [
      " 93%|█████████▎| 788/844 [00:23<00:01, 32.33it/s]"
     ]
    },
    {
     "name": "stdout",
     "output_type": "stream",
     "text": [
      "Warning: Sequence 8P0B_V has 62.5% NaN coordinates\n",
      "Warning: Sequence 8P0G_V has 60.0% NaN coordinates\n"
     ]
    },
    {
     "name": "stderr",
     "output_type": "stream",
     "text": [
      " 96%|█████████▌| 808/844 [00:24<00:01, 32.05it/s]"
     ]
    },
    {
     "name": "stdout",
     "output_type": "stream",
     "text": [
      "Warning: Sequence 8WT6_E has 67.2% NaN coordinates\n",
      "Warning: Sequence 8WT8_F has 62.2% NaN coordinates\n",
      "Warning: Sequence 8WT8_E has 67.2% NaN coordinates\n",
      "Warning: Sequence 8WT6_F has 62.2% NaN coordinates\n",
      "Warning: Sequence 8WT7_E has 67.2% NaN coordinates\n",
      "Warning: Sequence 8WT7_F has 62.2% NaN coordinates\n"
     ]
    },
    {
     "name": "stderr",
     "output_type": "stream",
     "text": [
      "100%|██████████| 844/844 [00:25<00:00, 32.98it/s]"
     ]
    },
    {
     "name": "stdout",
     "output_type": "stream",
     "text": [
      "Dataset creation: 0 sequences skipped due to non-standard nucleotides\n",
      "Dataset creation: 69 sequences have >50% NaN coordinates\n",
      "Created 844 graph data objects for training\n"
     ]
    },
    {
     "name": "stderr",
     "output_type": "stream",
     "text": [
      "\n"
     ]
    }
   ],
   "source": [
    "# Create training dataset\n",
    "train_dataset = create_dataset(train_sequences, train_labels)\n",
    "print(f\"Created {len(train_dataset)} graph data objects for training\")"
   ]
  },
  {
   "cell_type": "code",
   "execution_count": 13,
   "id": "bf760740",
   "metadata": {
    "execution": {
     "iopub.execute_input": "2025-05-18T21:53:54.792023Z",
     "iopub.status.busy": "2025-05-18T21:53:54.791595Z",
     "iopub.status.idle": "2025-05-18T21:53:54.794982Z",
     "shell.execute_reply": "2025-05-18T21:53:54.794432Z"
    },
    "papermill": {
     "duration": 0.019578,
     "end_time": "2025-05-18T21:53:54.795985",
     "exception": false,
     "start_time": "2025-05-18T21:53:54.776407",
     "status": "completed"
    },
    "tags": []
   },
   "outputs": [],
   "source": [
    "train_graphs = train_dataset[:len(train_index)]\n",
    "val_graphs = train_dataset[:len(train_index)]"
   ]
  },
  {
   "cell_type": "markdown",
   "id": "8645ffc4",
   "metadata": {
    "papermill": {
     "duration": 0.013172,
     "end_time": "2025-05-18T21:53:54.822614",
     "exception": false,
     "start_time": "2025-05-18T21:53:54.809442",
     "status": "completed"
    },
    "tags": []
   },
   "source": [
    "## Visualize"
   ]
  },
  {
   "cell_type": "code",
   "execution_count": 14,
   "id": "b2f0143e",
   "metadata": {
    "execution": {
     "iopub.execute_input": "2025-05-18T21:53:54.850533Z",
     "iopub.status.busy": "2025-05-18T21:53:54.849906Z",
     "iopub.status.idle": "2025-05-18T21:53:56.318157Z",
     "shell.execute_reply": "2025-05-18T21:53:56.317496Z"
    },
    "papermill": {
     "duration": 1.487444,
     "end_time": "2025-05-18T21:53:56.323318",
     "exception": false,
     "start_time": "2025-05-18T21:53:54.835874",
     "status": "completed"
    },
    "tags": []
   },
   "outputs": [
    {
     "data": {
      "image/png": "[encoded data removed]",
      "text/plain": [
       "<Figure size 2000x1200 with 33 Axes>"
      ]
     },
     "metadata": {},
     "output_type": "display_data"
    }
   ],
   "source": [
    "import numpy as np\n",
    "import matplotlib.pyplot as plt\n",
    "\n",
    "# Get unique target_ids from the dataset\n",
    "all_target_ids = [data.target_id for data in train_graphs]\n",
    "unique_target_ids = list(set(all_target_ids))\n",
    "\n",
    "# Randomly sample 32 unique target_ids\n",
    "selected_target_ids = np.random.choice(unique_target_ids, size=32, replace=False)\n",
    "\n",
    "# Create 4x8 grid of subplots\n",
    "fig, axes = plt.subplots(4, 8, figsize=(20, 12), subplot_kw={'projection': '3d'})\n",
    "axes = axes.flatten()\n",
    "\n",
    "for i, target_id in enumerate(selected_target_ids):\n",
    "    axes[i].axis('off')\n",
    "\n",
    "    # Find the corresponding graph in the dataset\n",
    "    graph = next((g for g in train_dataset if g.target_id == target_id), None)\n",
    "    \n",
    "    if graph is None or graph.y is None:\n",
    "        continue\n",
    "\n",
    "    coords = graph.y.numpy()\n",
    "    valid_mask = graph.mask.numpy().astype(bool) if graph.mask is not None else np.ones(len(coords), dtype=bool)\n",
    "\n",
    "    x = coords[valid_mask, 0]\n",
    "    y = coords[valid_mask, 1]\n",
    "    z = coords[valid_mask, 2]\n",
    "\n",
    "    sc = axes[i].scatter(x, y, z, c=z, cmap='viridis', alpha=0.8)\n",
    "    axes[i].view_init(elev=30, azim=45)\n",
    "    axes[i].set_title(f'{target_id}', fontsize=10, pad=10)\n",
    "\n",
    "# Add shared colorbar\n",
    "cbar_ax = fig.add_axes([0.92, 0.15, 0.02, 0.7])\n",
    "fig.colorbar(sc, cax=cbar_ax, label='z (depth)', orientation='vertical')\n",
    "\n",
    "# Adjust layout\n",
    "fig.subplots_adjust(left=0.05, right=0.9, top=0.95, bottom=0.05, wspace=0.4, hspace=0.6)\n",
    "\n",
    "# Show plot\n",
    "plt.show()\n"
   ]
  },
  {
   "cell_type": "code",
   "execution_count": 15,
   "id": "0eafb43c",
   "metadata": {
    "execution": {
     "iopub.execute_input": "2025-05-18T21:53:56.360762Z",
     "iopub.status.busy": "2025-05-18T21:53:56.360218Z",
     "iopub.status.idle": "2025-05-18T21:53:56.364877Z",
     "shell.execute_reply": "2025-05-18T21:53:56.364153Z"
    },
    "papermill": {
     "duration": 0.024293,
     "end_time": "2025-05-18T21:53:56.366094",
     "exception": false,
     "start_time": "2025-05-18T21:53:56.341801",
     "status": "completed"
    },
    "tags": []
   },
   "outputs": [],
   "source": [
    "# Define loss function for 3D coordinate prediction\n",
    "def rmsd_loss(pred, target, mask=None):\n",
    "    \"\"\"\n",
    "    Root Mean Square Deviation (RMSD) loss function with optional masking for NaN values.\n",
    "    Lower RMSD indicates better structural similarity.\n",
    "    \n",
    "    Args:\n",
    "        pred: Predicted coordinates, shape (n_nucleotides, 3)\n",
    "        target: Target coordinates, shape (n_nucleotides, 3)\n",
    "        mask: Optional mask for valid values, shape (n_nucleotides,)\n",
    "    \"\"\"\n",
    "    squared_diff = torch.sum((pred - target) ** 2, dim=1)\n",
    "    \n",
    "    if mask is not None:\n",
    "        # Apply mask to consider only valid coordinates\n",
    "        # Ensure we don't divide by zero by adding a small epsilon to the sum\n",
    "        masked_squared_diff = squared_diff * mask\n",
    "        mean_squared_diff = torch.sum(masked_squared_diff) / (torch.sum(mask) + 1e-10)\n",
    "    else:\n",
    "        mean_squared_diff = torch.mean(squared_diff)\n",
    "    \n",
    "    rmsd = torch.sqrt(mean_squared_diff)\n",
    "    return rmsd"
   ]
  },
  {
   "cell_type": "code",
   "execution_count": 16,
   "id": "199206d7",
   "metadata": {
    "execution": {
     "iopub.execute_input": "2025-05-18T21:53:56.401723Z",
     "iopub.status.busy": "2025-05-18T21:53:56.401493Z",
     "iopub.status.idle": "2025-05-18T21:53:56.412159Z",
     "shell.execute_reply": "2025-05-18T21:53:56.411469Z"
    },
    "papermill": {
     "duration": 0.029818,
     "end_time": "2025-05-18T21:53:56.413206",
     "exception": false,
     "start_time": "2025-05-18T21:53:56.383388",
     "status": "completed"
    },
    "tags": []
   },
   "outputs": [],
   "source": [
    "def calculate_distance_matrix(X,Y,epsilon=1e-4):\n",
    "    return (torch.square(X[:,None]-Y[None,:])+epsilon).sum(-1).sqrt()\n",
    "\n",
    "\n",
    "def dRMSD(pred_x,\n",
    "          pred_y,\n",
    "          gt_x,\n",
    "          gt_y,\n",
    "          epsilon=1e-4,Z=10,d_clamp=None):\n",
    "    pred_dm=calculate_distance_matrix(pred_x,pred_y)\n",
    "    gt_dm=calculate_distance_matrix(gt_x,gt_y)\n",
    "\n",
    "\n",
    "\n",
    "    mask=~torch.isnan(gt_dm)\n",
    "    mask[torch.eye(mask.shape[0]).bool()]=False\n",
    "\n",
    "    if d_clamp is not None:\n",
    "        rmsd=(torch.square(pred_dm[mask]-gt_dm[mask])+epsilon).clip(0,d_clamp**2)\n",
    "    else:\n",
    "        rmsd=torch.square(pred_dm[mask]-gt_dm[mask])+epsilon\n",
    "\n",
    "    return rmsd.sqrt().mean()/Z\n",
    "\n",
    "def local_dRMSD(pred_x,\n",
    "          pred_y,\n",
    "          gt_x,\n",
    "          gt_y,\n",
    "          epsilon=1e-4,Z=10,d_clamp=30):\n",
    "    pred_dm=calculate_distance_matrix(pred_x,pred_y)\n",
    "    gt_dm=calculate_distance_matrix(gt_x,gt_y)\n",
    "\n",
    "\n",
    "\n",
    "    mask=(~torch.isnan(gt_dm))*(gt_dm<d_clamp)\n",
    "    mask[torch.eye(mask.shape[0]).bool()]=False\n",
    "\n",
    "\n",
    "\n",
    "    rmsd=torch.square(pred_dm[mask]-gt_dm[mask])+epsilon\n",
    "    # rmsd=(torch.square(pred_dm[mask]-gt_dm[mask])+epsilon).sqrt()/Z\n",
    "    #rmsd=torch.abs(pred_dm[mask]-gt_dm[mask])/Z\n",
    "    return rmsd.sqrt().mean()/Z\n",
    "\n",
    "def dRMAE(pred_x,\n",
    "          pred_y,\n",
    "          gt_x,\n",
    "          gt_y,\n",
    "          epsilon=1e-4,Z=10,d_clamp=None):\n",
    "    pred_dm=calculate_distance_matrix(pred_x,pred_y)\n",
    "    gt_dm=calculate_distance_matrix(gt_x,gt_y)\n",
    "\n",
    "\n",
    "\n",
    "    mask=~torch.isnan(gt_dm)\n",
    "    mask[torch.eye(mask.shape[0]).bool()]=False\n",
    "\n",
    "    rmsd=torch.abs(pred_dm[mask]-gt_dm[mask])\n",
    "\n",
    "    return rmsd.mean()/Z\n",
    "\n",
    "import torch\n",
    "\n",
    "def align_svd_mae(input, target, Z=10):\n",
    "    \"\"\"\n",
    "    Aligns the input (Nx3) to target (Nx3) using SVD-based Procrustes alignment\n",
    "    and computes RMSD loss.\n",
    "    \n",
    "    Args:\n",
    "        input (torch.Tensor): Nx3 tensor representing the input points.\n",
    "        target (torch.Tensor): Nx3 tensor representing the target points.\n",
    "    \n",
    "    Returns:\n",
    "        aligned_input (torch.Tensor): Nx3 aligned input.\n",
    "        rmsd_loss (torch.Tensor): RMSD loss.\n",
    "    \"\"\"\n",
    "    assert input.shape == target.shape, \"Input and target must have the same shape\"\n",
    "\n",
    "    #mask \n",
    "    mask=~torch.isnan(target.sum(-1))\n",
    "\n",
    "    input=input[mask]\n",
    "    target=target[mask]\n",
    "    \n",
    "    # Compute centroids\n",
    "    centroid_input = input.mean(dim=0, keepdim=True)\n",
    "    centroid_target = target.mean(dim=0, keepdim=True)\n",
    "\n",
    "    # Center the points\n",
    "    input_centered = input - centroid_input.detach()\n",
    "    target_centered = target - centroid_target\n",
    "\n",
    "    # Compute covariance matrix\n",
    "    cov_matrix = input_centered.T @ target_centered\n",
    "\n",
    "    # SVD to find optimal rotation\n",
    "    U, S, Vt = torch.svd(cov_matrix)\n",
    "\n",
    "    # Compute rotation matrix\n",
    "    R = Vt @ U.T\n",
    "\n",
    "    # Ensure a proper rotation (det(R) = 1, no reflection)\n",
    "    if torch.det(R) < 0:\n",
    "        Vt[-1, :] *= -1\n",
    "        R = Vt @ U.T\n",
    "\n",
    "    # Rotate input\n",
    "    aligned_input = (input_centered @ R.T.detach()) + centroid_target.detach()\n",
    "\n",
    "    # # Compute RMSD loss\n",
    "    # rmsd_loss = torch.sqrt(((aligned_input - target) ** 2).mean())\n",
    "\n",
    "    # rmsd_loss = torch.sqrt(((aligned_input - target) ** 2).mean())\n",
    "    \n",
    "    # return aligned_input, rmsd_loss\n",
    "    return torch.abs(aligned_input-target).mean()/Z"
   ]
  },
  {
   "cell_type": "code",
   "execution_count": 17,
   "id": "1e2dca41",
   "metadata": {
    "execution": {
     "iopub.execute_input": "2025-05-18T21:53:56.449052Z",
     "iopub.status.busy": "2025-05-18T21:53:56.448665Z",
     "iopub.status.idle": "2025-05-18T21:53:56.459142Z",
     "shell.execute_reply": "2025-05-18T21:53:56.458352Z"
    },
    "papermill": {
     "duration": 0.029878,
     "end_time": "2025-05-18T21:53:56.460238",
     "exception": false,
     "start_time": "2025-05-18T21:53:56.430360",
     "status": "completed"
    },
    "tags": []
   },
   "outputs": [],
   "source": [
    "def train(model, train_loader, optimizer, device):\n",
    "    model.train()\n",
    "    total_loss = 0\n",
    "    loss_values = []\n",
    "    # Create tqdm progress bar with loss display\n",
    "    pbar = tqdm(train_loader, desc='Training')\n",
    "    \n",
    "    for data in pbar:\n",
    "        data = data.to(device)\n",
    "        optimizer.zero_grad()\n",
    "        \n",
    "        # Forward pass\n",
    "        pred = model(data)\n",
    "        \n",
    "        # Calculate loss if labels exist\n",
    "        if data.y is not None:\n",
    "            # Use mask if available\n",
    "            if hasattr(data, 'mask') and data.mask is not None:\n",
    "                loss = dRMAE(pred,pred,data.y,data.y) + align_svd_mae(pred, data.y)\n",
    "                # loss = rmsd_loss(pred, data.y, data.mask)\n",
    "            else:\n",
    "                loss = dRMAE(pred,pred,data.y,data.y) + align_svd_mae(pred, data.y)\n",
    "                # loss = rmsd_loss(pred, data.y)\n",
    "                \n",
    "            loss.backward()\n",
    "            optimizer.step()\n",
    "            total_loss += loss.item()\n",
    "            loss_values.append(loss.item())\n",
    "            \n",
    "            # Update progress bar with current loss\n",
    "            pbar.set_postfix({'loss': f'{loss.item():.4f}', 'smooth loss': np.mean(loss_values[-100:])})\n",
    "    \n",
    "    avg_loss = total_loss / len(train_loader)\n",
    "    return avg_loss\n",
    "\n",
    "def validate(model, val_loader, device):\n",
    "    model.eval()\n",
    "    total_loss = 0\n",
    "    \n",
    "    # Create tqdm progress bar with loss display\n",
    "    pbar = tqdm(val_loader, desc='Validation')\n",
    "    \n",
    "    with torch.no_grad():\n",
    "        for data in pbar:\n",
    "            data = data.to(device)\n",
    "            pred = model(data)\n",
    "            \n",
    "            if data.y is not None:\n",
    "                # Use mask if available\n",
    "                if hasattr(data, 'mask') and data.mask is not None:\n",
    "                    loss = dRMAE(pred,pred,data.y,data.y) + align_svd_mae(pred, data.y)\n",
    "                    # loss = rmsd_loss(pred, data.y, data.mask)\n",
    "                else:\n",
    "                    loss = dRMAE(pred,pred,data.y,data.y) + align_svd_mae(pred, data.y)\n",
    "                    # loss = rmsd_loss(pred, data.y)\n",
    "                total_loss += loss.item()\n",
    "                \n",
    "                # Update progress bar with current loss\n",
    "                pbar.set_postfix({'loss': f'{loss.item():.4f}'})\n",
    "    \n",
    "    avg_loss = total_loss / len(val_loader)\n",
    "    return avg_loss\n",
    "\n",
    "# Function to make predictions on test data\n",
    "def predict(model, test_loader, device):\n",
    "    model.eval()\n",
    "    predictions = {}\n",
    "    \n",
    "    with torch.no_grad():\n",
    "        for data in test_loader:\n",
    "            data = data.to(device)\n",
    "            pred = model(data)\n",
    "            \n",
    "            # Store predictions\n",
    "            target_id = data.target_id\n",
    "            \n",
    "            # If we have ground truth and mask, report metrics\n",
    "            if hasattr(data, 'y') and data.y is not None:\n",
    "                if hasattr(data, 'mask') and data.mask is not None:\n",
    "                    loss = rmsd_loss(pred, data.y, data.mask).item()\n",
    "                else:\n",
    "                    loss = rmsd_loss(pred, data.y).item()\n",
    "                print(f\"Prediction for {target_id}, RMSD: {loss:.4f}\")\n",
    "            \n",
    "            predictions[target_id] = pred.cpu().numpy()\n",
    "    \n",
    "    return predictions"
   ]
  },
  {
   "cell_type": "code",
   "execution_count": 18,
   "id": "2489d160",
   "metadata": {
    "execution": {
     "iopub.execute_input": "2025-05-18T21:53:56.495784Z",
     "iopub.status.busy": "2025-05-18T21:53:56.495542Z",
     "iopub.status.idle": "2025-05-18T21:53:56.499739Z",
     "shell.execute_reply": "2025-05-18T21:53:56.499192Z"
    },
    "papermill": {
     "duration": 0.023626,
     "end_time": "2025-05-18T21:53:56.500784",
     "exception": false,
     "start_time": "2025-05-18T21:53:56.477158",
     "status": "completed"
    },
    "tags": []
   },
   "outputs": [
    {
     "name": "stdout",
     "output_type": "stream",
     "text": [
      "Using device: cuda\n"
     ]
    }
   ],
   "source": [
    "# Setup for training\n",
    "device = 'cpu'\n",
    "if torch.cuda.is_available():\n",
    "    device = 'cuda'\n",
    "elif torch.backends.mps.is_available():\n",
    "    device = 'mps'\n",
    "device = torch.device(device)\n",
    "print(f\"Using device: {device}\")"
   ]
  },
  {
   "cell_type": "code",
   "execution_count": 19,
   "id": "441954b8",
   "metadata": {
    "execution": {
     "iopub.execute_input": "2025-05-18T21:53:56.536518Z",
     "iopub.status.busy": "2025-05-18T21:53:56.535907Z",
     "iopub.status.idle": "2025-05-18T21:53:56.540850Z",
     "shell.execute_reply": "2025-05-18T21:53:56.540073Z"
    },
    "papermill": {
     "duration": 0.024033,
     "end_time": "2025-05-18T21:53:56.542008",
     "exception": false,
     "start_time": "2025-05-18T21:53:56.517975",
     "status": "completed"
    },
    "tags": []
   },
   "outputs": [
    {
     "name": "stderr",
     "output_type": "stream",
     "text": [
      "/usr/local/lib/python3.11/dist-packages/torch_geometric/deprecation.py:26: UserWarning: 'data.DataLoader' is deprecated, use 'loader.DataLoader' instead\n",
      "  warnings.warn(out)\n"
     ]
    }
   ],
   "source": [
    "# Create data loaders\n",
    "train_loader = DataLoader(train_graphs, batch_size=8, shuffle=True, num_workers=4)\n",
    "val_loader = DataLoader(val_graphs, batch_size=8, shuffle=False, num_workers=4)"
   ]
  },
  {
   "cell_type": "code",
   "execution_count": 20,
   "id": "0c735762",
   "metadata": {
    "execution": {
     "iopub.execute_input": "2025-05-18T21:53:56.576857Z",
     "iopub.status.busy": "2025-05-18T21:53:56.576654Z",
     "iopub.status.idle": "2025-05-18T21:53:56.583400Z",
     "shell.execute_reply": "2025-05-18T21:53:56.582873Z"
    },
    "papermill": {
     "duration": 0.025372,
     "end_time": "2025-05-18T21:53:56.584465",
     "exception": false,
     "start_time": "2025-05-18T21:53:56.559093",
     "status": "completed"
    },
    "tags": []
   },
   "outputs": [],
   "source": [
    "class EGNNLayer(MessagePassing):\n",
    "    def __init__(self, hidden_dim):\n",
    "        super().__init__(aggr='add')\n",
    "        self.edge_mlp = nn.Sequential(\n",
    "            nn.Linear(2 * hidden_dim + 1, hidden_dim),\n",
    "            nn.SiLU(),\n",
    "            nn.Linear(hidden_dim, hidden_dim)\n",
    "        )\n",
    "        self.node_mlp = nn.Sequential(\n",
    "            nn.Linear(hidden_dim, hidden_dim),\n",
    "            nn.SiLU()\n",
    "        )\n",
    "        self.coord_mlp = nn.Sequential(\n",
    "            nn.Linear(hidden_dim, 1),\n",
    "            nn.Tanh()\n",
    "        )\n",
    "\n",
    "    def forward(self, x, edge_index, coords):\n",
    "        edge_index, _ = remove_self_loops(edge_index)\n",
    "        edge_index, _ = add_self_loops(edge_index, num_nodes=x.size(0))\n",
    "        return self.propagate(edge_index, x=x, coords=coords)\n",
    "\n",
    "    def message(self, x_i, x_j, coords_i, coords_j):\n",
    "        rel_coords = coords_i - coords_j\n",
    "        dist = torch.sum(rel_coords ** 2, dim=-1, keepdim=True)\n",
    "        edge_input = torch.cat([x_i, x_j, dist], dim=-1)\n",
    "        m_ij = self.edge_mlp(edge_input)\n",
    "        coord_update = self.coord_mlp(m_ij) * rel_coords\n",
    "        return m_ij, coord_update\n",
    "\n",
    "    def aggregate(self, inputs, index):\n",
    "        msgs, coord_updates = inputs\n",
    "        return (\n",
    "            torch_scatter.scatter(msgs, index, dim=0),\n",
    "            torch_scatter.scatter(coord_updates, index, dim=0)\n",
    "        )\n",
    "\n",
    "    def update(self, aggr_out, x, coords):\n",
    "        x_update, coord_update = aggr_out\n",
    "        x = x + self.node_mlp(x_update)\n",
    "        coords = coords + coord_update\n",
    "        return x, coords"
   ]
  },
  {
   "cell_type": "code",
   "execution_count": 21,
   "id": "2959e5f7",
   "metadata": {
    "execution": {
     "iopub.execute_input": "2025-05-18T21:53:56.619937Z",
     "iopub.status.busy": "2025-05-18T21:53:56.619467Z",
     "iopub.status.idle": "2025-05-18T21:53:56.625098Z",
     "shell.execute_reply": "2025-05-18T21:53:56.624552Z"
    },
    "papermill": {
     "duration": 0.024367,
     "end_time": "2025-05-18T21:53:56.626125",
     "exception": false,
     "start_time": "2025-05-18T21:53:56.601758",
     "status": "completed"
    },
    "tags": []
   },
   "outputs": [],
   "source": [
    "class EGNNRNAStructurePredictor(nn.Module):\n",
    "    def __init__(self, input_dim=4, hidden_dim=64, num_layers=4, max_seq_len=MAX_SEQ_LEN):\n",
    "        super().__init__()\n",
    "        self.embedding = nn.Linear(input_dim, hidden_dim)\n",
    "        self.egnn_layers = nn.ModuleList([EGNNLayer(hidden_dim) for _ in range(num_layers)])\n",
    "        self.coord_predictor = nn.Linear(hidden_dim, 3)\n",
    "        self.position_encoder = nn.Embedding(max_seq_len, hidden_dim)\n",
    "\n",
    "    def forward(self, data):\n",
    "        x, edge_index = data.x, data.edge_index\n",
    "        h = self.embedding(x)\n",
    "        pos_indices = torch.arange(h.size(0), device=h.device).clamp(max=self.position_encoder.num_embeddings - 1)\n",
    "        h = h + self.position_encoder(pos_indices)\n",
    "        coords = torch.zeros(x.size(0), 3, device=x.device)\n",
    "        for layer in self.egnn_layers:\n",
    "            h, coords = layer(h, edge_index, coords)\n",
    "        return coords"
   ]
  },
  {
   "cell_type": "code",
   "execution_count": 22,
   "id": "d20888ac",
   "metadata": {
    "execution": {
     "iopub.execute_input": "2025-05-18T21:53:56.711900Z",
     "iopub.status.busy": "2025-05-18T21:53:56.711651Z",
     "iopub.status.idle": "2025-05-18T21:53:56.883884Z",
     "shell.execute_reply": "2025-05-18T21:53:56.883310Z"
    },
    "papermill": {
     "duration": 0.24144,
     "end_time": "2025-05-18T21:53:56.885154",
     "exception": false,
     "start_time": "2025-05-18T21:53:56.643714",
     "status": "completed"
    },
    "tags": []
   },
   "outputs": [],
   "source": [
    "# Initialize model and data\n",
    "model = EGNNRNAStructurePredictor(input_dim=4, hidden_dim=64, num_layers=3).to(device)\n",
    "optimizer = torch.optim.AdamW(model.parameters(), lr=1e-3, weight_decay = 1e-2)\n",
    "scheduler = torch.optim.lr_scheduler.ReduceLROnPlateau(optimizer, mode='min', factor=0.5, patience=12)\n",
    "\n",
    "num_epochs = 100\n",
    "best_val_loss = float(\"inf\")\n",
    "early_stopping_patience = 50\n",
    "early_stopping_counter = 0"
   ]
  },
  {
   "cell_type": "code",
   "execution_count": 23,
   "id": "b86313ca",
   "metadata": {
    "execution": {
     "iopub.execute_input": "2025-05-18T21:53:56.924474Z",
     "iopub.status.busy": "2025-05-18T21:53:56.924131Z",
     "iopub.status.idle": "2025-05-18T21:59:09.604967Z",
     "shell.execute_reply": "2025-05-18T21:59:09.603775Z"
    },
    "papermill": {
     "duration": 312.701371,
     "end_time": "2025-05-18T21:59:09.606120",
     "exception": false,
     "start_time": "2025-05-18T21:53:56.904749",
     "status": "completed"
    },
    "tags": []
   },
   "outputs": [
    {
     "name": "stdout",
     "output_type": "stream",
     "text": [
      "Starting training...\n"
     ]
    },
    {
     "name": "stderr",
     "output_type": "stream",
     "text": [
      "Training: 100%|██████████| 76/76 [00:05<00:00, 14.15it/s, loss=3.2505, smooth loss=18.9]\n",
      "Validation: 100%|██████████| 76/76 [00:03<00:00, 23.11it/s, loss=21.8392]\n"
     ]
    },
    {
     "name": "stdout",
     "output_type": "stream",
     "text": [
      "Epoch    1/100, Train Loss: 18.8546, Val Loss: 13.3715, LR: 0.001000\n"
     ]
    },
    {
     "name": "stderr",
     "output_type": "stream",
     "text": [
      "Training: 100%|██████████| 76/76 [00:02<00:00, 25.40it/s, loss=12.3714, smooth loss=17]\n",
      "Validation: 100%|██████████| 76/76 [00:03<00:00, 25.03it/s, loss=21.8392]\n"
     ]
    },
    {
     "name": "stdout",
     "output_type": "stream",
     "text": [
      "Epoch    2/100, Train Loss: 16.9843, Val Loss: 13.3715, LR: 0.001000\n"
     ]
    },
    {
     "name": "stderr",
     "output_type": "stream",
     "text": [
      "Training: 100%|██████████| 76/76 [00:02<00:00, 26.20it/s, loss=15.4727, smooth loss=17.6]\n",
      "Validation: 100%|██████████| 76/76 [00:03<00:00, 25.13it/s, loss=21.8392]\n"
     ]
    },
    {
     "name": "stdout",
     "output_type": "stream",
     "text": [
      "Epoch    3/100, Train Loss: 17.6279, Val Loss: 13.3715, LR: 0.001000\n"
     ]
    },
    {
     "name": "stderr",
     "output_type": "stream",
     "text": [
      "Training: 100%|██████████| 76/76 [00:03<00:00, 23.75it/s, loss=12.5908, smooth loss=18.1]\n",
      "Validation: 100%|██████████| 76/76 [00:02<00:00, 25.51it/s, loss=21.8392]\n"
     ]
    },
    {
     "name": "stdout",
     "output_type": "stream",
     "text": [
      "Epoch    4/100, Train Loss: 18.0651, Val Loss: 13.3715, LR: 0.001000\n"
     ]
    },
    {
     "name": "stderr",
     "output_type": "stream",
     "text": [
      "Training: 100%|██████████| 76/76 [00:03<00:00, 23.44it/s, loss=3.1688, smooth loss=18.7]\n",
      "Validation: 100%|██████████| 76/76 [00:02<00:00, 25.42it/s, loss=21.8392]\n"
     ]
    },
    {
     "name": "stdout",
     "output_type": "stream",
     "text": [
      "Epoch    5/100, Train Loss: 18.7330, Val Loss: 13.3715, LR: 0.001000\n"
     ]
    },
    {
     "name": "stderr",
     "output_type": "stream",
     "text": [
      "Training: 100%|██████████| 76/76 [00:02<00:00, 26.26it/s, loss=7.5464, smooth loss=18]\n",
      "Validation: 100%|██████████| 76/76 [00:03<00:00, 25.12it/s, loss=21.8392]\n"
     ]
    },
    {
     "name": "stdout",
     "output_type": "stream",
     "text": [
      "Epoch    6/100, Train Loss: 17.9903, Val Loss: 13.3715, LR: 0.001000\n"
     ]
    },
    {
     "name": "stderr",
     "output_type": "stream",
     "text": [
      "Training: 100%|██████████| 76/76 [00:02<00:00, 27.14it/s, loss=2.4075, smooth loss=18.4]\n",
      "Validation: 100%|██████████| 76/76 [00:03<00:00, 25.11it/s, loss=21.8392]\n"
     ]
    },
    {
     "name": "stdout",
     "output_type": "stream",
     "text": [
      "Epoch    7/100, Train Loss: 18.4100, Val Loss: 13.3715, LR: 0.001000\n"
     ]
    },
    {
     "name": "stderr",
     "output_type": "stream",
     "text": [
      "Training: 100%|██████████| 76/76 [00:03<00:00, 25.04it/s, loss=3.0214, smooth loss=18.6]\n",
      "Validation: 100%|██████████| 76/76 [00:02<00:00, 25.95it/s, loss=21.8392]\n"
     ]
    },
    {
     "name": "stdout",
     "output_type": "stream",
     "text": [
      "Epoch    8/100, Train Loss: 18.6033, Val Loss: 13.3715, LR: 0.001000\n"
     ]
    },
    {
     "name": "stderr",
     "output_type": "stream",
     "text": [
      "Training: 100%|██████████| 76/76 [00:03<00:00, 24.52it/s, loss=2.2452, smooth loss=19.6]\n",
      "Validation: 100%|██████████| 76/76 [00:03<00:00, 24.60it/s, loss=21.8392]\n"
     ]
    },
    {
     "name": "stdout",
     "output_type": "stream",
     "text": [
      "Epoch    9/100, Train Loss: 19.6452, Val Loss: 13.3715, LR: 0.001000\n"
     ]
    },
    {
     "name": "stderr",
     "output_type": "stream",
     "text": [
      "Training: 100%|██████████| 76/76 [00:02<00:00, 27.90it/s, loss=2.0319, smooth loss=18.5]\n",
      "Validation: 100%|██████████| 76/76 [00:03<00:00, 24.99it/s, loss=21.8392]\n"
     ]
    },
    {
     "name": "stdout",
     "output_type": "stream",
     "text": [
      "Epoch   10/100, Train Loss: 18.4745, Val Loss: 13.3715, LR: 0.001000\n"
     ]
    },
    {
     "name": "stderr",
     "output_type": "stream",
     "text": [
      "Training: 100%|██████████| 76/76 [00:02<00:00, 28.12it/s, loss=14.3565, smooth loss=18.6]\n",
      "Validation: 100%|██████████| 76/76 [00:02<00:00, 26.17it/s, loss=21.8392]\n"
     ]
    },
    {
     "name": "stdout",
     "output_type": "stream",
     "text": [
      "Epoch   11/100, Train Loss: 18.6119, Val Loss: 13.3715, LR: 0.001000\n"
     ]
    },
    {
     "name": "stderr",
     "output_type": "stream",
     "text": [
      "Training: 100%|██████████| 76/76 [00:03<00:00, 20.97it/s, loss=4.6133, smooth loss=17.9]\n",
      "Validation: 100%|██████████| 76/76 [00:03<00:00, 24.95it/s, loss=21.8392]\n"
     ]
    },
    {
     "name": "stdout",
     "output_type": "stream",
     "text": [
      "Epoch   12/100, Train Loss: 17.8664, Val Loss: 13.3715, LR: 0.001000\n"
     ]
    },
    {
     "name": "stderr",
     "output_type": "stream",
     "text": [
      "Training: 100%|██████████| 76/76 [00:03<00:00, 20.38it/s, loss=8.6916, smooth loss=18.9]\n",
      "Validation: 100%|██████████| 76/76 [00:03<00:00, 25.20it/s, loss=21.8392]\n"
     ]
    },
    {
     "name": "stdout",
     "output_type": "stream",
     "text": [
      "Epoch   13/100, Train Loss: 18.8839, Val Loss: 13.3715, LR: 0.001000\n"
     ]
    },
    {
     "name": "stderr",
     "output_type": "stream",
     "text": [
      "Training: 100%|██████████| 76/76 [00:03<00:00, 25.28it/s, loss=2.8778, smooth loss=18.3]\n",
      "Validation: 100%|██████████| 76/76 [00:03<00:00, 23.95it/s, loss=21.8392]\n"
     ]
    },
    {
     "name": "stdout",
     "output_type": "stream",
     "text": [
      "Epoch   14/100, Train Loss: 18.2643, Val Loss: 13.3715, LR: 0.000500\n"
     ]
    },
    {
     "name": "stderr",
     "output_type": "stream",
     "text": [
      "Training: 100%|██████████| 76/76 [00:03<00:00, 25.17it/s, loss=5.0562, smooth loss=17.3]\n",
      "Validation: 100%|██████████| 76/76 [00:02<00:00, 25.43it/s, loss=21.8392]\n"
     ]
    },
    {
     "name": "stdout",
     "output_type": "stream",
     "text": [
      "Epoch   15/100, Train Loss: 17.2914, Val Loss: 13.3715, LR: 0.000500\n"
     ]
    },
    {
     "name": "stderr",
     "output_type": "stream",
     "text": [
      "Training: 100%|██████████| 76/76 [00:03<00:00, 23.88it/s, loss=3.7358, smooth loss=18.1]\n",
      "Validation: 100%|██████████| 76/76 [00:02<00:00, 25.54it/s, loss=21.8392]\n"
     ]
    },
    {
     "name": "stdout",
     "output_type": "stream",
     "text": [
      "Epoch   16/100, Train Loss: 18.1044, Val Loss: 13.3715, LR: 0.000500\n"
     ]
    },
    {
     "name": "stderr",
     "output_type": "stream",
     "text": [
      "Training: 100%|██████████| 76/76 [00:03<00:00, 25.18it/s, loss=3.2851, smooth loss=18.5]\n",
      "Validation: 100%|██████████| 76/76 [00:03<00:00, 25.19it/s, loss=21.8392]\n"
     ]
    },
    {
     "name": "stdout",
     "output_type": "stream",
     "text": [
      "Epoch   17/100, Train Loss: 18.4577, Val Loss: 13.3715, LR: 0.000500\n"
     ]
    },
    {
     "name": "stderr",
     "output_type": "stream",
     "text": [
      "Training: 100%|██████████| 76/76 [00:03<00:00, 24.72it/s, loss=49.1283, smooth loss=19.5]\n",
      "Validation: 100%|██████████| 76/76 [00:03<00:00, 25.27it/s, loss=21.8392]\n"
     ]
    },
    {
     "name": "stdout",
     "output_type": "stream",
     "text": [
      "Epoch   18/100, Train Loss: 19.4844, Val Loss: 13.3715, LR: 0.000500\n"
     ]
    },
    {
     "name": "stderr",
     "output_type": "stream",
     "text": [
      "Training: 100%|██████████| 76/76 [00:03<00:00, 24.74it/s, loss=12.7008, smooth loss=18.3]\n",
      "Validation: 100%|██████████| 76/76 [00:03<00:00, 22.84it/s, loss=21.8392]\n"
     ]
    },
    {
     "name": "stdout",
     "output_type": "stream",
     "text": [
      "Epoch   19/100, Train Loss: 18.3490, Val Loss: 13.3715, LR: 0.000500\n"
     ]
    },
    {
     "name": "stderr",
     "output_type": "stream",
     "text": [
      "Training: 100%|██████████| 76/76 [00:02<00:00, 27.26it/s, loss=1.2441, smooth loss=18.6]\n",
      "Validation: 100%|██████████| 76/76 [00:03<00:00, 25.14it/s, loss=21.8392]\n"
     ]
    },
    {
     "name": "stdout",
     "output_type": "stream",
     "text": [
      "Epoch   20/100, Train Loss: 18.5592, Val Loss: 13.3715, LR: 0.000500\n"
     ]
    },
    {
     "name": "stderr",
     "output_type": "stream",
     "text": [
      "Training: 100%|██████████| 76/76 [00:02<00:00, 25.79it/s, loss=17.3446, smooth loss=18]\n",
      "Validation: 100%|██████████| 76/76 [00:02<00:00, 25.73it/s, loss=21.8392]\n"
     ]
    },
    {
     "name": "stdout",
     "output_type": "stream",
     "text": [
      "Epoch   21/100, Train Loss: 18.0289, Val Loss: 13.3715, LR: 0.000500\n"
     ]
    },
    {
     "name": "stderr",
     "output_type": "stream",
     "text": [
      "Training: 100%|██████████| 76/76 [00:03<00:00, 22.27it/s, loss=2.1889, smooth loss=18.2]\n",
      "Validation: 100%|██████████| 76/76 [00:02<00:00, 25.37it/s, loss=21.8392]\n"
     ]
    },
    {
     "name": "stdout",
     "output_type": "stream",
     "text": [
      "Epoch   22/100, Train Loss: 18.2384, Val Loss: 13.3715, LR: 0.000500\n"
     ]
    },
    {
     "name": "stderr",
     "output_type": "stream",
     "text": [
      "Training: 100%|██████████| 76/76 [00:02<00:00, 25.72it/s, loss=1.4495, smooth loss=18.7]\n",
      "Validation: 100%|██████████| 76/76 [00:03<00:00, 24.93it/s, loss=21.8392]\n"
     ]
    },
    {
     "name": "stdout",
     "output_type": "stream",
     "text": [
      "Epoch   23/100, Train Loss: 18.7392, Val Loss: 13.3715, LR: 0.000500\n"
     ]
    },
    {
     "name": "stderr",
     "output_type": "stream",
     "text": [
      "Training: 100%|██████████| 76/76 [00:02<00:00, 25.42it/s, loss=11.4452, smooth loss=17.8]\n",
      "Validation: 100%|██████████| 76/76 [00:03<00:00, 23.78it/s, loss=21.8392]\n"
     ]
    },
    {
     "name": "stdout",
     "output_type": "stream",
     "text": [
      "Epoch   24/100, Train Loss: 17.7657, Val Loss: 13.3715, LR: 0.000500\n"
     ]
    },
    {
     "name": "stderr",
     "output_type": "stream",
     "text": [
      "Training: 100%|██████████| 76/76 [00:03<00:00, 23.67it/s, loss=19.5222, smooth loss=19.3]\n",
      "Validation: 100%|██████████| 76/76 [00:03<00:00, 25.07it/s, loss=21.8392]\n"
     ]
    },
    {
     "name": "stdout",
     "output_type": "stream",
     "text": [
      "Epoch   25/100, Train Loss: 19.3278, Val Loss: 13.3715, LR: 0.000500\n"
     ]
    },
    {
     "name": "stderr",
     "output_type": "stream",
     "text": [
      "Training: 100%|██████████| 76/76 [00:02<00:00, 25.59it/s, loss=3.3684, smooth loss=18.3]\n",
      "Validation: 100%|██████████| 76/76 [00:02<00:00, 25.68it/s, loss=21.8392]\n"
     ]
    },
    {
     "name": "stdout",
     "output_type": "stream",
     "text": [
      "Epoch   26/100, Train Loss: 18.3091, Val Loss: 13.3715, LR: 0.000500\n"
     ]
    },
    {
     "name": "stderr",
     "output_type": "stream",
     "text": [
      "Training: 100%|██████████| 76/76 [00:02<00:00, 26.05it/s, loss=14.8147, smooth loss=17.8]\n",
      "Validation: 100%|██████████| 76/76 [00:02<00:00, 25.86it/s, loss=21.8392]\n"
     ]
    },
    {
     "name": "stdout",
     "output_type": "stream",
     "text": [
      "Epoch   27/100, Train Loss: 17.7659, Val Loss: 13.3715, LR: 0.000250\n"
     ]
    },
    {
     "name": "stderr",
     "output_type": "stream",
     "text": [
      "Training: 100%|██████████| 76/76 [00:02<00:00, 27.82it/s, loss=9.7370, smooth loss=19.1]\n",
      "Validation: 100%|██████████| 76/76 [00:03<00:00, 25.17it/s, loss=21.8392]\n"
     ]
    },
    {
     "name": "stdout",
     "output_type": "stream",
     "text": [
      "Epoch   28/100, Train Loss: 19.1401, Val Loss: 13.3715, LR: 0.000250\n"
     ]
    },
    {
     "name": "stderr",
     "output_type": "stream",
     "text": [
      "Training: 100%|██████████| 76/76 [00:03<00:00, 24.71it/s, loss=3.0248, smooth loss=17.8]\n",
      "Validation: 100%|██████████| 76/76 [00:03<00:00, 25.30it/s, loss=21.8392]\n"
     ]
    },
    {
     "name": "stdout",
     "output_type": "stream",
     "text": [
      "Epoch   29/100, Train Loss: 17.8457, Val Loss: 13.3715, LR: 0.000250\n"
     ]
    },
    {
     "name": "stderr",
     "output_type": "stream",
     "text": [
      "Training: 100%|██████████| 76/76 [00:02<00:00, 25.57it/s, loss=13.6654, smooth loss=17.9]\n",
      "Validation: 100%|██████████| 76/76 [00:02<00:00, 25.73it/s, loss=21.8392]\n"
     ]
    },
    {
     "name": "stdout",
     "output_type": "stream",
     "text": [
      "Epoch   30/100, Train Loss: 17.9173, Val Loss: 13.3715, LR: 0.000250\n"
     ]
    },
    {
     "name": "stderr",
     "output_type": "stream",
     "text": [
      "Training: 100%|██████████| 76/76 [00:03<00:00, 25.12it/s, loss=6.3420, smooth loss=18.2]\n",
      "Validation: 100%|██████████| 76/76 [00:02<00:00, 25.91it/s, loss=21.8392]\n"
     ]
    },
    {
     "name": "stdout",
     "output_type": "stream",
     "text": [
      "Epoch   31/100, Train Loss: 18.1613, Val Loss: 13.3715, LR: 0.000250\n"
     ]
    },
    {
     "name": "stderr",
     "output_type": "stream",
     "text": [
      "Training: 100%|██████████| 76/76 [00:02<00:00, 26.94it/s, loss=5.3828, smooth loss=18.1]\n",
      "Validation: 100%|██████████| 76/76 [00:02<00:00, 25.60it/s, loss=21.8392]\n"
     ]
    },
    {
     "name": "stdout",
     "output_type": "stream",
     "text": [
      "Epoch   32/100, Train Loss: 18.0710, Val Loss: 13.3715, LR: 0.000250\n"
     ]
    },
    {
     "name": "stderr",
     "output_type": "stream",
     "text": [
      "Training: 100%|██████████| 76/76 [00:02<00:00, 26.04it/s, loss=3.4198, smooth loss=17.8]\n",
      "Validation: 100%|██████████| 76/76 [00:02<00:00, 25.45it/s, loss=21.8392]\n"
     ]
    },
    {
     "name": "stdout",
     "output_type": "stream",
     "text": [
      "Epoch   33/100, Train Loss: 17.7797, Val Loss: 13.3715, LR: 0.000250\n"
     ]
    },
    {
     "name": "stderr",
     "output_type": "stream",
     "text": [
      "Training: 100%|██████████| 76/76 [00:02<00:00, 26.63it/s, loss=7.8118, smooth loss=18.6]\n",
      "Validation: 100%|██████████| 76/76 [00:02<00:00, 25.85it/s, loss=21.8392]\n"
     ]
    },
    {
     "name": "stdout",
     "output_type": "stream",
     "text": [
      "Epoch   34/100, Train Loss: 18.5539, Val Loss: 13.3715, LR: 0.000250\n"
     ]
    },
    {
     "name": "stderr",
     "output_type": "stream",
     "text": [
      "Training: 100%|██████████| 76/76 [00:02<00:00, 25.71it/s, loss=0.0000, smooth loss=18.9]\n",
      "Validation: 100%|██████████| 76/76 [00:03<00:00, 21.50it/s, loss=21.8392]\n"
     ]
    },
    {
     "name": "stdout",
     "output_type": "stream",
     "text": [
      "Epoch   35/100, Train Loss: 18.8897, Val Loss: 13.3715, LR: 0.000250\n"
     ]
    },
    {
     "name": "stderr",
     "output_type": "stream",
     "text": [
      "Training: 100%|██████████| 76/76 [00:03<00:00, 23.33it/s, loss=13.9525, smooth loss=18.6]\n",
      "Validation: 100%|██████████| 76/76 [00:03<00:00, 24.98it/s, loss=21.8392]\n"
     ]
    },
    {
     "name": "stdout",
     "output_type": "stream",
     "text": [
      "Epoch   36/100, Train Loss: 18.6024, Val Loss: 13.3715, LR: 0.000250\n"
     ]
    },
    {
     "name": "stderr",
     "output_type": "stream",
     "text": [
      "Training: 100%|██████████| 76/76 [00:03<00:00, 22.47it/s, loss=4.1997, smooth loss=16.6]\n",
      "Validation: 100%|██████████| 76/76 [00:02<00:00, 25.99it/s, loss=21.8392]\n"
     ]
    },
    {
     "name": "stdout",
     "output_type": "stream",
     "text": [
      "Epoch   37/100, Train Loss: 16.6262, Val Loss: 13.3715, LR: 0.000250\n"
     ]
    },
    {
     "name": "stderr",
     "output_type": "stream",
     "text": [
      "Training: 100%|██████████| 76/76 [00:03<00:00, 24.51it/s, loss=11.6549, smooth loss=18.8]\n",
      "Validation: 100%|██████████| 76/76 [00:03<00:00, 24.71it/s, loss=21.8392]\n"
     ]
    },
    {
     "name": "stdout",
     "output_type": "stream",
     "text": [
      "Epoch   38/100, Train Loss: 18.8067, Val Loss: 13.3715, LR: 0.000250\n"
     ]
    },
    {
     "name": "stderr",
     "output_type": "stream",
     "text": [
      "Training: 100%|██████████| 76/76 [00:02<00:00, 25.40it/s, loss=8.0154, smooth loss=17.4]\n",
      "Validation: 100%|██████████| 76/76 [00:02<00:00, 25.56it/s, loss=21.8392]\n"
     ]
    },
    {
     "name": "stdout",
     "output_type": "stream",
     "text": [
      "Epoch   39/100, Train Loss: 17.4349, Val Loss: 13.3715, LR: 0.000250\n"
     ]
    },
    {
     "name": "stderr",
     "output_type": "stream",
     "text": [
      "Training: 100%|██████████| 76/76 [00:03<00:00, 23.77it/s, loss=4.9810, smooth loss=17.8]\n",
      "Validation: 100%|██████████| 76/76 [00:03<00:00, 22.03it/s, loss=21.8392]\n"
     ]
    },
    {
     "name": "stdout",
     "output_type": "stream",
     "text": [
      "Epoch   40/100, Train Loss: 17.7839, Val Loss: 13.3715, LR: 0.000125\n"
     ]
    },
    {
     "name": "stderr",
     "output_type": "stream",
     "text": [
      "Training: 100%|██████████| 76/76 [00:02<00:00, 26.01it/s, loss=5.7984, smooth loss=18.7]\n",
      "Validation: 100%|██████████| 76/76 [00:03<00:00, 25.17it/s, loss=21.8392]\n"
     ]
    },
    {
     "name": "stdout",
     "output_type": "stream",
     "text": [
      "Epoch   41/100, Train Loss: 18.7251, Val Loss: 13.3715, LR: 0.000125\n"
     ]
    },
    {
     "name": "stderr",
     "output_type": "stream",
     "text": [
      "Training: 100%|██████████| 76/76 [00:03<00:00, 25.26it/s, loss=6.7938, smooth loss=18.6]\n",
      "Validation: 100%|██████████| 76/76 [00:02<00:00, 25.36it/s, loss=21.8392]\n"
     ]
    },
    {
     "name": "stdout",
     "output_type": "stream",
     "text": [
      "Epoch   42/100, Train Loss: 18.5760, Val Loss: 13.3715, LR: 0.000125\n"
     ]
    },
    {
     "name": "stderr",
     "output_type": "stream",
     "text": [
      "Training: 100%|██████████| 76/76 [00:03<00:00, 24.87it/s, loss=1.9878, smooth loss=17.6]\n",
      "Validation: 100%|██████████| 76/76 [00:03<00:00, 25.08it/s, loss=21.8392]\n"
     ]
    },
    {
     "name": "stdout",
     "output_type": "stream",
     "text": [
      "Epoch   43/100, Train Loss: 17.5885, Val Loss: 13.3715, LR: 0.000125\n"
     ]
    },
    {
     "name": "stderr",
     "output_type": "stream",
     "text": [
      "Training: 100%|██████████| 76/76 [00:03<00:00, 24.70it/s, loss=12.0208, smooth loss=18.2]\n",
      "Validation: 100%|██████████| 76/76 [00:03<00:00, 25.19it/s, loss=21.8392]\n"
     ]
    },
    {
     "name": "stdout",
     "output_type": "stream",
     "text": [
      "Epoch   44/100, Train Loss: 18.1663, Val Loss: 13.3715, LR: 0.000125\n"
     ]
    },
    {
     "name": "stderr",
     "output_type": "stream",
     "text": [
      "Training: 100%|██████████| 76/76 [00:02<00:00, 25.47it/s, loss=4.2640, smooth loss=18.6]\n",
      "Validation: 100%|██████████| 76/76 [00:03<00:00, 24.59it/s, loss=21.8392]\n"
     ]
    },
    {
     "name": "stdout",
     "output_type": "stream",
     "text": [
      "Epoch   45/100, Train Loss: 18.6472, Val Loss: 13.3715, LR: 0.000125\n"
     ]
    },
    {
     "name": "stderr",
     "output_type": "stream",
     "text": [
      "Training: 100%|██████████| 76/76 [00:03<00:00, 24.71it/s, loss=10.6293, smooth loss=17.5]\n",
      "Validation: 100%|██████████| 76/76 [00:02<00:00, 25.73it/s, loss=21.8392]\n"
     ]
    },
    {
     "name": "stdout",
     "output_type": "stream",
     "text": [
      "Epoch   46/100, Train Loss: 17.4600, Val Loss: 13.3715, LR: 0.000125\n"
     ]
    },
    {
     "name": "stderr",
     "output_type": "stream",
     "text": [
      "Training: 100%|██████████| 76/76 [00:02<00:00, 26.84it/s, loss=13.9247, smooth loss=16.9]\n",
      "Validation: 100%|██████████| 76/76 [00:03<00:00, 25.17it/s, loss=21.8392]\n"
     ]
    },
    {
     "name": "stdout",
     "output_type": "stream",
     "text": [
      "Epoch   47/100, Train Loss: 16.9043, Val Loss: 13.3715, LR: 0.000125\n"
     ]
    },
    {
     "name": "stderr",
     "output_type": "stream",
     "text": [
      "Training: 100%|██████████| 76/76 [00:02<00:00, 25.49it/s, loss=3.2164, smooth loss=17.8]\n",
      "Validation: 100%|██████████| 76/76 [00:03<00:00, 25.17it/s, loss=21.8392]\n"
     ]
    },
    {
     "name": "stdout",
     "output_type": "stream",
     "text": [
      "Epoch   48/100, Train Loss: 17.7981, Val Loss: 13.3715, LR: 0.000125\n"
     ]
    },
    {
     "name": "stderr",
     "output_type": "stream",
     "text": [
      "Training: 100%|██████████| 76/76 [00:03<00:00, 24.22it/s, loss=10.2022, smooth loss=18.3]\n",
      "Validation: 100%|██████████| 76/76 [00:02<00:00, 26.08it/s, loss=21.8392]\n"
     ]
    },
    {
     "name": "stdout",
     "output_type": "stream",
     "text": [
      "Epoch   49/100, Train Loss: 18.3055, Val Loss: 13.3715, LR: 0.000125\n"
     ]
    },
    {
     "name": "stderr",
     "output_type": "stream",
     "text": [
      "Training: 100%|██████████| 76/76 [00:03<00:00, 24.68it/s, loss=12.3895, smooth loss=18.8]\n",
      "Validation: 100%|██████████| 76/76 [00:02<00:00, 25.53it/s, loss=21.8392]\n"
     ]
    },
    {
     "name": "stdout",
     "output_type": "stream",
     "text": [
      "Epoch   50/100, Train Loss: 18.7912, Val Loss: 13.3715, LR: 0.000125\n"
     ]
    },
    {
     "name": "stderr",
     "output_type": "stream",
     "text": [
      "Training: 100%|██████████| 76/76 [00:03<00:00, 24.42it/s, loss=0.3693, smooth loss=18]\n",
      "Validation: 100%|██████████| 76/76 [00:03<00:00, 25.27it/s, loss=21.8392]"
     ]
    },
    {
     "name": "stdout",
     "output_type": "stream",
     "text": [
      "Epoch   51/100, Train Loss: 17.9667, Val Loss: 13.3715, LR: 0.000125\n",
      "Early stopping triggered at epoch 51\n",
      "Training completed.\n"
     ]
    },
    {
     "name": "stderr",
     "output_type": "stream",
     "text": [
      "\n"
     ]
    }
   ],
   "source": [
    "train_losses = []\n",
    "val_losses = []\n",
    "\n",
    "print(\"Starting training...\")\n",
    "for epoch in range(1, num_epochs + 1):\n",
    "    # --- Train ---\n",
    "    train_loss = train(model, train_loader, optimizer, device)\n",
    "    train_losses.append(train_loss)\n",
    "\n",
    "    # --- Validate ---\n",
    "    val_loss = validate(model, val_loader, device)\n",
    "    val_losses.append(val_loss)\n",
    "\n",
    "    # --- Adjust Learning Rate ---\n",
    "    scheduler.step(val_loss)\n",
    "    current_lr = optimizer.param_groups[0]['lr']\n",
    "\n",
    "    # --- Check for Improvement ---\n",
    "    if val_loss < best_val_loss:\n",
    "        best_val_loss = val_loss\n",
    "        early_stopping_counter = 0\n",
    "        torch.save(model.state_dict(), \"best_rna_structure_model.pt\")\n",
    "    else:\n",
    "        early_stopping_counter += 1\n",
    "\n",
    "    # --- Display formatted output ---\n",
    "    print(f\"Epoch {epoch:4d}/{num_epochs}, \"\n",
    "          f\"Train Loss: {train_loss:.4f}, \"\n",
    "          f\"Val Loss: {val_loss:.4f}, \"\n",
    "          f\"LR: {current_lr:.6f}\")\n",
    "\n",
    "    # --- Early Stopping ---\n",
    "    if early_stopping_counter >= early_stopping_patience:\n",
    "        print(f\"Early stopping triggered at epoch {epoch}\")\n",
    "        break\n",
    "\n",
    "print(\"Training completed.\")\n"
   ]
  },
  {
   "cell_type": "code",
   "execution_count": 24,
   "id": "300adff3",
   "metadata": {
    "execution": {
     "iopub.execute_input": "2025-05-18T21:59:10.389055Z",
     "iopub.status.busy": "2025-05-18T21:59:10.388742Z",
     "iopub.status.idle": "2025-05-18T21:59:10.564720Z",
     "shell.execute_reply": "2025-05-18T21:59:10.564012Z"
    },
    "papermill": {
     "duration": 0.566595,
     "end_time": "2025-05-18T21:59:10.566007",
     "exception": false,
     "start_time": "2025-05-18T21:59:09.999412",
     "status": "completed"
    },
    "tags": []
   },
   "outputs": [
    {
     "data": {
      "image/png": "[encoded data removed]",
      "text/plain": [
       "<Figure size 1000x600 with 1 Axes>"
      ]
     },
     "metadata": {},
     "output_type": "display_data"
    }
   ],
   "source": [
    "# Plot training and validation losses\n",
    "plt.figure(figsize=(10, 6))\n",
    "plt.plot(train_losses, label='Training Loss')\n",
    "plt.plot(val_losses, label='Validation Loss')\n",
    "plt.xlabel('Epochs')\n",
    "plt.ylabel('RMSD Loss')\n",
    "plt.title('Training and Validation Losses')\n",
    "plt.legend()\n",
    "plt.grid(True)\n",
    "plt.show()"
   ]
  },
  {
   "cell_type": "code",
   "execution_count": 25,
   "id": "a82296ac",
   "metadata": {
    "execution": {
     "iopub.execute_input": "2025-05-18T21:59:11.392594Z",
     "iopub.status.busy": "2025-05-18T21:59:11.392335Z",
     "iopub.status.idle": "2025-05-18T21:59:11.404390Z",
     "shell.execute_reply": "2025-05-18T21:59:11.403828Z"
    },
    "papermill": {
     "duration": 0.399654,
     "end_time": "2025-05-18T21:59:11.405410",
     "exception": false,
     "start_time": "2025-05-18T21:59:11.005756",
     "status": "completed"
    },
    "tags": []
   },
   "outputs": [],
   "source": [
    "# Generate multiple conformations for each RNA sequence\n",
    "def generate_multiple_conformations(model, data, num_conformations=5):\n",
    "    \"\"\"\n",
    "    Generate multiple structural conformations for an RNA sequence.\n",
    "    \n",
    "    Args:\n",
    "        model: The trained GNN model\n",
    "        data: Graph data object containing the RNA sequence\n",
    "        num_conformations: Number of conformations to generate (default: 5)\n",
    "        \n",
    "    Returns:\n",
    "        List of numpy arrays, each array has shape (n_nucleotides, 3) for x,y,z coordinates\n",
    "    \"\"\"\n",
    "    model.eval()\n",
    "    conformations = []\n",
    "    \n",
    "    # Set random seed for reproducibility\n",
    "    torch.manual_seed(42)\n",
    "    \n",
    "    with torch.no_grad():\n",
    "        # Generate first conformation (deterministic)\n",
    "        base_pred = model(data)\n",
    "        base_np = base_pred.cpu().numpy()\n",
    "        \n",
    "        # Check if base prediction contains NaN values\n",
    "        if np.isnan(base_np).any():\n",
    "            print(\"Warning: Base prediction contains NaN values. Replacing with zeros.\")\n",
    "            base_np = np.nan_to_num(base_np, nan=0.0)\n",
    "        \n",
    "        # Save the base prediction\n",
    "        conformations.append(base_np)\n",
    "        \n",
    "        # Generate additional conformations with controlled variations\n",
    "        for i in range(1, num_conformations):\n",
    "            # Use different seeds for different conformations\n",
    "            torch.manual_seed(42 + i * 100)  # Larger seed increment for more diversity\n",
    "            \n",
    "            # Create a copy of the base prediction with a small, controlled variation\n",
    "            variation = base_np.copy()\n",
    "            \n",
    "            # Add random noise with small magnitude (1-5% of the coordinate values)\n",
    "            # Calculate standard deviation of base coordinates to scale noise appropriately\n",
    "            if not np.all(base_np == 0):  # Check if base_np is not all zeros\n",
    "                coord_std = max(np.std(base_np), 0.5)  # Use at least 0.5 to avoid too small noise\n",
    "                noise_scale = coord_std * 0.05 * (i + 1)  # Increasing noise for each conformation\n",
    "            else:\n",
    "                # If base prediction is all zeros (which shouldn't happen normally)\n",
    "                noise_scale = 0.5 * (i + 1)\n",
    "            \n",
    "            # Generate noise and ensure it's not NaN\n",
    "            noise = np.random.normal(0, noise_scale, size=variation.shape)\n",
    "            \n",
    "            # Apply noise to create a new conformation\n",
    "            variation += noise\n",
    "            \n",
    "            # Ensure no NaN values\n",
    "            variation = np.nan_to_num(variation, nan=0.0)\n",
    "            \n",
    "            conformations.append(variation)\n",
    "    \n",
    "    # Double-check that all conformations are valid and contain no NaNs\n",
    "    for i, conf in enumerate(conformations):\n",
    "        if np.isnan(conf).any():\n",
    "            print(f\"Warning: Conformation {i+1} contains NaN values after processing. Replacing with zeros.\")\n",
    "            conformations[i] = np.nan_to_num(conf, nan=0.0)\n",
    "    \n",
    "    return conformations\n",
    "\n",
    "# Function to make multiple predictions for test data\n",
    "def predict_multiple_conformations(model, test_loader, device, num_conformations=5):\n",
    "    predictions = {}\n",
    "    \n",
    "    for data in test_loader:\n",
    "        data = data.to(device)\n",
    "        conformations = generate_multiple_conformations(model, data, num_conformations)\n",
    "        \n",
    "        # Store predictions - ensure target_id is a hashable type (string)\n",
    "        # The target_id could be stored as a list or other non-hashable type\n",
    "        if hasattr(data, 'target_id'):\n",
    "            # Convert to string if it's not already\n",
    "            if isinstance(data.target_id, list) and len(data.target_id) > 0:\n",
    "                target_id = str(data.target_id[0])  # Take the first element if it's a list\n",
    "            else:\n",
    "                target_id = str(data.target_id)  # Convert to string to ensure hashability\n",
    "        else:\n",
    "            # Generate a unique ID if none exists\n",
    "            target_id = f\"unknown_target_{len(predictions)}\"\n",
    "            \n",
    "        print(f\"Processing target: {target_id}\")\n",
    "        predictions[target_id] = conformations\n",
    "        \n",
    "        # If we have ground truth, report metrics for the first conformation\n",
    "        if hasattr(data, 'y') and data.y is not None and len(conformations) > 0:\n",
    "            first_conf = torch.tensor(conformations[0], device=device)\n",
    "            \n",
    "            if hasattr(data, 'mask') and data.mask is not None:\n",
    "                loss = rmsd_loss(first_conf, data.y, data.mask).item()\n",
    "            else:\n",
    "                loss = rmsd_loss(first_conf, data.y).item()\n",
    "                \n",
    "            print(f\"Prediction for {target_id}, RMSD of first conformation: {loss:.4f}\")\n",
    "    \n",
    "    return predictions\n",
    "\n",
    "# Example of how to use the prediction function on test data\n",
    "def process_test_data(test_sequences_path):\n",
    "    # Load test sequences\n",
    "    test_sequences = pd.read_csv(test_sequences_path)\n",
    "    \n",
    "    # Create test dataset (without labels)\n",
    "    test_dataset = create_dataset(test_sequences)\n",
    "    \n",
    "    # Create test loader\n",
    "    test_loader = DataLoader(test_dataset, batch_size=1, shuffle=False)\n",
    "    \n",
    "    # Make predictions\n",
    "    predictions = predict_multiple_conformations(model, test_loader, device)\n",
    "    \n",
    "    # Format predictions for submission\n",
    "    formatted_predictions = []\n",
    "    \n",
    "    for target_id, conformations in predictions.items():\n",
    "        for i, conformation in enumerate(conformations):\n",
    "            for j, coords in enumerate(conformation):\n",
    "                resid = j + 1  # 1-based indexing\n",
    "                row = {\n",
    "                    'ID': f\"{target_id}_{resid}\",\n",
    "                    f'x_{i+1}': coords[0],\n",
    "                    f'y_{i+1}': coords[1],\n",
    "                    f'z_{i+1}': coords[2]\n",
    "                }\n",
    "                formatted_predictions.append(row)\n",
    "    \n",
    "    # Create submission dataframe\n",
    "    submission_df = pd.DataFrame(formatted_predictions)\n",
    "    return submission_df"
   ]
  },
  {
   "cell_type": "code",
   "execution_count": 26,
   "id": "ba8322a7",
   "metadata": {
    "execution": {
     "iopub.execute_input": "2025-05-18T21:59:12.232264Z",
     "iopub.status.busy": "2025-05-18T21:59:12.231991Z",
     "iopub.status.idle": "2025-05-18T21:59:16.052903Z",
     "shell.execute_reply": "2025-05-18T21:59:16.052343Z"
    },
    "papermill": {
     "duration": 4.212651,
     "end_time": "2025-05-18T21:59:16.054144",
     "exception": false,
     "start_time": "2025-05-18T21:59:11.841493",
     "status": "completed"
    },
    "tags": []
   },
   "outputs": [
    {
     "name": "stderr",
     "output_type": "stream",
     "text": [
      "100%|██████████| 12/12 [00:00<00:00, 202.95it/s]\n",
      "/usr/local/lib/python3.11/dist-packages/torch_geometric/deprecation.py:26: UserWarning: 'data.DataLoader' is deprecated, use 'loader.DataLoader' instead\n",
      "  warnings.warn(out)\n"
     ]
    },
    {
     "name": "stdout",
     "output_type": "stream",
     "text": [
      "Dataset creation: 0 sequences skipped due to non-standard nucleotides\n",
      "Dataset creation: 0 sequences have >50% NaN coordinates\n",
      "Processing target: R1107\n",
      "Processing target: R1108\n",
      "Processing target: R1116\n",
      "Processing target: R1117v2\n",
      "Processing target: R1126\n",
      "Processing target: R1128\n",
      "Processing target: R1136\n",
      "Processing target: R1138\n",
      "Processing target: R1149\n",
      "Processing target: R1156\n",
      "Processing target: R1189\n",
      "Processing target: R1190\n"
     ]
    }
   ],
   "source": [
    "test_predictions = process_test_data(\"/kaggle/input/stanford-rna-3d-folding/test_sequences.csv\")\n",
    "sub = pd.read_csv(\"/kaggle/input/stanford-rna-3d-folding/sample_submission.csv\")\n",
    "DF_ROWS = []\n",
    "\n",
    "for i, row in sub.iterrows():\n",
    "    snap = test_predictions[test_predictions['ID'] == row['ID']]\n",
    "    x1, y1, z1, x2, y2, z2, x3, y3, z3, x4, y4, z4, x5, y5, z5 = snap['x_1'], snap['y_1'], snap['z_1'], snap['x_2'], snap['y_2'], snap['z_2'], snap['x_3'], snap['y_3'], snap['z_3'], snap['x_4'], snap['y_4'], snap['z_4'], snap['x_5'], snap['y_5'], snap['z_5']\n",
    "    x1, y1, z1, x2, y2, z2, x3, y3, z3, x4, y4, z4, x5, y5, z5 = x1.values[0], y1.values[0], z1.values[0], x2.values[1], y2.values[1], z2.values[1], x3.values[2], y3.values[2], z3.values[2], x4.values[3], y4.values[3], z4.values[3], x5.values[4], y5.values[4], z5.values[4]\n",
    "    _row = [x1, y1, z1, x2, y2, z2, x3, y3, z3, x4, y4, z4, x5, y5, z5]\n",
    "    DF_ROWS.append(_row)\n",
    "sub[['x_1', 'y_1', 'z_1', 'x_2', 'y_2', 'z_2', 'x_3', 'y_3', 'z_3', 'x_4', 'y_4', 'z_4', 'x_5', 'y_5', 'z_5']] = DF_ROWS\n",
    "sub.head()\n",
    "sub.to_csv(\"submission.csv\", index=False)"
   ]
  },
  {
   "cell_type": "markdown",
   "id": "427ee21f",
   "metadata": {
    "papermill": {
     "duration": 0.383843,
     "end_time": "2025-05-18T21:59:16.878079",
     "exception": false,
     "start_time": "2025-05-18T21:59:16.494236",
     "status": "completed"
    },
    "tags": []
   },
   "source": [
    "## Acknowledgement\n",
    "\n",
    "This code is copy and modify from this notebook:\n",
    "https://www.kaggle.com/code/salmanahmedtamu/a-simple-gnn-implementation"
   ]
  }
 ],
 "metadata": {
  "kaggle": {
   "accelerator": "gpu",
   "dataSources": [
    {
     "databundleVersionId": 12276181,
     "isSourceIdPinned": false,
     "sourceId": 87793,
     "sourceType": "competition"
    },
    {
     "datasetId": 7447059,
     "sourceId": 11851650,
     "sourceType": "datasetVersion"
    }
   ],
   "dockerImageVersionId": 31040,
   "isGpuEnabled": true,
   "isInternetEnabled": false,
   "language": "python",
   "sourceType": "notebook"
  },
  "kernelspec": {
   "display_name": "Python 3",
   "language": "python",
   "name": "python3"
  },
  "language_info": {
   "codemirror_mode": {
    "name": "ipython",
    "version": 3
   },
   "file_extension": ".py",
   "mimetype": "text/x-python",
   "name": "python",
   "nbconvert_exporter": "python",
   "pygments_lexer": "ipython3",
   "version": "3.11.11"
  },
  "papermill": {
   "default_parameters": {},
   "duration": 388.560131,
   "end_time": "2025-05-18T21:59:20.710069",
   "environment_variables": {},
   "exception": null,
   "input_path": "__notebook__.ipynb",
   "output_path": "__notebook__.ipynb",
   "parameters": {},
   "start_time": "2025-05-18T21:52:52.149938",
   "version": "2.6.0"
  }
 },
 "nbformat": 4,
 "nbformat_minor": 5
}
